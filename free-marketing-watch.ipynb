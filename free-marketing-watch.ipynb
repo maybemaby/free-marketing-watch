{
 "metadata": {
  "language_info": {
   "codemirror_mode": {
    "name": "ipython",
    "version": 3
   },
   "file_extension": ".py",
   "mimetype": "text/x-python",
   "name": "python",
   "nbconvert_exporter": "python",
   "pygments_lexer": "ipython3",
   "version": "3.9.0-final"
  },
  "orig_nbformat": 2,
  "kernelspec": {
   "name": "python3",
   "display_name": "Python 3.9.0 64-bit",
   "metadata": {
    "interpreter": {
     "hash": "953b979ecb4103b2c8c020f40a63251d1e5de17f2650210ecad39a0fab476cbf"
    }
   }
  }
 },
 "nbformat": 4,
 "nbformat_minor": 2,
 "cells": [
  {
   "source": [
    "## free-marketing-watch\n",
    "Search social media for mentions of brands and collect the comments/tweets/etc.\n",
    "Count mentions of each and perform sentiment analysis on the strings."
   ],
   "cell_type": "markdown",
   "metadata": {}
  },
  {
   "cell_type": "code",
   "execution_count": 1,
   "metadata": {},
   "outputs": [],
   "source": [
    "import praw\n",
    "import pandas as pd\n",
    "from secrets import *\n",
    "from pathlib import Path\n",
    "from brands import fashion\n",
    "import re"
   ]
  },
  {
   "cell_type": "code",
   "execution_count": 2,
   "metadata": {},
   "outputs": [],
   "source": [
    "reddit = praw.Reddit(client_id=client_id,\n",
    "               client_secret=client_secret,\n",
    "               user_agent=user_agent)"
   ]
  },
  {
   "source": [
    "Now to get the comments data, put it in a dataframe, and clean the data to get what we want."
   ],
   "cell_type": "markdown",
   "metadata": {}
  },
  {
   "cell_type": "code",
   "execution_count": 3,
   "metadata": {},
   "outputs": [],
   "source": [
    "def create_comments_df(subreddit_):\n",
    "    \"\"\"Returns a pandas df with the information about comments from this year.\n",
    "\n",
    "    Inputs\n",
    "    -----\n",
    "    str: subreddit to be searched.\n",
    "    Return\n",
    "    ------\n",
    "    Pandas dataframe with all the data from the praw object.m\n",
    "    \"\"\"\n",
    "    subreddit = reddit.subreddit(subreddit_)\n",
    "    submission_list = subreddit.search(\n",
    "        'WAYWT',sort='new', time_filter=\"year\", limit=1000\n",
    "    )  # generator of submissions in the subreddit\n",
    "    comment_list = []\n",
    "    for submission in submission_list:\n",
    "        submission.comments.replace_more(limit=0)\n",
    "        for comment in submission.comments.list():\n",
    "            comment_list.append(comment)\n",
    "\n",
    "    df = pd.DataFrame([vars(comment) for comment in comment_list])\n",
    "    df2 = df.loc[:,['link_id','id','score','body']]\n",
    "    df2['Subreddit'] = subreddit_\n",
    "    return df2\n"
   ]
  },
  {
   "cell_type": "code",
   "execution_count": 4,
   "metadata": {},
   "outputs": [],
   "source": [
    "def brand_check(df,brandlist):\n",
    "    \"\"\"Checks comment body against a list of brands to see if it mentions any.\n",
    "       Adds what brand was found if any in the brands column.\n",
    "       \n",
    "       Inputs\n",
    "       ------\n",
    "       Dataframe you will search over and a list of brands in a separate file. \n",
    "       Return\n",
    "       ------\n",
    "       Dataframe with column indicating what brand was found in the values.\n",
    "       \"\"\"\n",
    "\n",
    "    df2 = df.body.str.extractall(pat=brandlist, flags=re.VERBOSE)\n",
    "    df2.dropna(axis=0,how='all',inplace=True)\n",
    "    return df2"
   ]
  },
  {
   "source": [
    "### This takes a long time, probably around 30 minutes per 100,000 comments."
   ],
   "cell_type": "markdown",
   "metadata": {}
  },
  {
   "cell_type": "code",
   "execution_count": 11,
   "metadata": {},
   "outputs": [
    {
     "output_type": "execute_result",
     "data": {
      "text/plain": [
       "         link_id       id  score  \\\n",
       "0      t3_kl62co  gh7lg2l     79   \n",
       "1      t3_kl62co  gh73lm9     36   \n",
       "2      t3_kl62co  gh7rhkd     30   \n",
       "3      t3_kl62co  gh7tcea     25   \n",
       "4      t3_kl62co  gh823b6     28   \n",
       "...          ...      ...    ...   \n",
       "13370  t3_eif7u5  fcrvhlu      3   \n",
       "13371  t3_eif7u5  fct07im      1   \n",
       "13372  t3_eif7u5  fct28pu      5   \n",
       "13373  t3_eif7u5  fct406p      2   \n",
       "13374  t3_eif7u5  fctdpke      3   \n",
       "\n",
       "                                                    body            Subreddit  \n",
       "0      30 / Seattle / WFH / CCW\\n\\nThis past week has...  femalefashionadvice  \n",
       "1      29/FL/Working from home | My IG: [secondhandps...  femalefashionadvice  \n",
       "2      33/Midwest US/stay at home mom of two toddlers...  femalefashionadvice  \n",
       "3      27 / kentucky / nonprofit wfh\\n\\n[in my trusty...  femalefashionadvice  \n",
       "4      42 / Grad Student on winter break / West Coast...  femalefashionadvice  \n",
       "...                                                  ...                  ...  \n",
       "13370  thank you! i think i got it at hot topic many ...  femalefashionadvice  \n",
       "13371  Hahaha I did not! Class of '09 in NC, but say ...  femalefashionadvice  \n",
       "13372  I will! Your aesthetic reminds me of her, too,...  femalefashionadvice  \n",
       "13373  a solid aspiration! i wonder if she still carr...  femalefashionadvice  \n",
       "13374  Oh, I hope so. The last I heard of her, she wa...  femalefashionadvice  \n",
       "\n",
       "[13375 rows x 5 columns]"
      ],
      "text/html": "<div>\n<style scoped>\n    .dataframe tbody tr th:only-of-type {\n        vertical-align: middle;\n    }\n\n    .dataframe tbody tr th {\n        vertical-align: top;\n    }\n\n    .dataframe thead th {\n        text-align: right;\n    }\n</style>\n<table border=\"1\" class=\"dataframe\">\n  <thead>\n    <tr style=\"text-align: right;\">\n      <th></th>\n      <th>link_id</th>\n      <th>id</th>\n      <th>score</th>\n      <th>body</th>\n      <th>Subreddit</th>\n    </tr>\n  </thead>\n  <tbody>\n    <tr>\n      <th>0</th>\n      <td>t3_kl62co</td>\n      <td>gh7lg2l</td>\n      <td>79</td>\n      <td>30 / Seattle / WFH / CCW\\n\\nThis past week has...</td>\n      <td>femalefashionadvice</td>\n    </tr>\n    <tr>\n      <th>1</th>\n      <td>t3_kl62co</td>\n      <td>gh73lm9</td>\n      <td>36</td>\n      <td>29/FL/Working from home | My IG: [secondhandps...</td>\n      <td>femalefashionadvice</td>\n    </tr>\n    <tr>\n      <th>2</th>\n      <td>t3_kl62co</td>\n      <td>gh7rhkd</td>\n      <td>30</td>\n      <td>33/Midwest US/stay at home mom of two toddlers...</td>\n      <td>femalefashionadvice</td>\n    </tr>\n    <tr>\n      <th>3</th>\n      <td>t3_kl62co</td>\n      <td>gh7tcea</td>\n      <td>25</td>\n      <td>27 / kentucky / nonprofit wfh\\n\\n[in my trusty...</td>\n      <td>femalefashionadvice</td>\n    </tr>\n    <tr>\n      <th>4</th>\n      <td>t3_kl62co</td>\n      <td>gh823b6</td>\n      <td>28</td>\n      <td>42 / Grad Student on winter break / West Coast...</td>\n      <td>femalefashionadvice</td>\n    </tr>\n    <tr>\n      <th>...</th>\n      <td>...</td>\n      <td>...</td>\n      <td>...</td>\n      <td>...</td>\n      <td>...</td>\n    </tr>\n    <tr>\n      <th>13370</th>\n      <td>t3_eif7u5</td>\n      <td>fcrvhlu</td>\n      <td>3</td>\n      <td>thank you! i think i got it at hot topic many ...</td>\n      <td>femalefashionadvice</td>\n    </tr>\n    <tr>\n      <th>13371</th>\n      <td>t3_eif7u5</td>\n      <td>fct07im</td>\n      <td>1</td>\n      <td>Hahaha I did not! Class of '09 in NC, but say ...</td>\n      <td>femalefashionadvice</td>\n    </tr>\n    <tr>\n      <th>13372</th>\n      <td>t3_eif7u5</td>\n      <td>fct28pu</td>\n      <td>5</td>\n      <td>I will! Your aesthetic reminds me of her, too,...</td>\n      <td>femalefashionadvice</td>\n    </tr>\n    <tr>\n      <th>13373</th>\n      <td>t3_eif7u5</td>\n      <td>fct406p</td>\n      <td>2</td>\n      <td>a solid aspiration! i wonder if she still carr...</td>\n      <td>femalefashionadvice</td>\n    </tr>\n    <tr>\n      <th>13374</th>\n      <td>t3_eif7u5</td>\n      <td>fctdpke</td>\n      <td>3</td>\n      <td>Oh, I hope so. The last I heard of her, she wa...</td>\n      <td>femalefashionadvice</td>\n    </tr>\n  </tbody>\n</table>\n<p>13375 rows × 5 columns</p>\n</div>"
     },
     "metadata": {},
     "execution_count": 11
    }
   ],
   "source": [
    "df1 = create_comments_df('femalefashionadvice')\n",
    "df1"
   ]
  },
  {
   "source": [
    "Run to export the df to csv. Careful about overwriting. Use the mode = 'a' line to add to an existing file.\n"
   ],
   "cell_type": "markdown",
   "metadata": {}
  },
  {
   "cell_type": "code",
   "execution_count": 12,
   "metadata": {},
   "outputs": [],
   "source": [
    "p = Path.cwd() / 'data' / 'waywtdf.csv'\n",
    "#df1.to_csv(path_or_buf = p)\n",
    "df1.to_csv(path_or_buf = p, mode = 'a', header=False)"
   ]
  },
  {
   "cell_type": "code",
   "execution_count": 5,
   "metadata": {},
   "outputs": [
    {
     "output_type": "execute_result",
     "data": {
      "text/plain": [
       "       Unnamed: 0    link_id       id  score  \\\n",
       "0               0  t3_klxncy  ghc7s6s     12   \n",
       "1               1  t3_klxncy  ghbh5m6      4   \n",
       "2               2  t3_klxncy  ghczbnz     11   \n",
       "3               3  t3_klxncy  ghdw1as      3   \n",
       "4               4  t3_klxncy  ghcr9kf      2   \n",
       "...           ...        ...      ...    ...   \n",
       "33802       13370  t3_eif7u5  fcrvhlu      3   \n",
       "33803       13371  t3_eif7u5  fct07im      1   \n",
       "33804       13372  t3_eif7u5  fct28pu      5   \n",
       "33805       13373  t3_eif7u5  fct406p      2   \n",
       "33806       13374  t3_eif7u5  fctdpke      3   \n",
       "\n",
       "                                                    body            Subreddit  \n",
       "0      Really like the crooklyn hat and Santa coat gu...    malefashionadvice  \n",
       "1      Thank you to everyone who participated [in yes...    malefashionadvice  \n",
       "2      Finally a real and unbiased member of the publ...    malefashionadvice  \n",
       "3      I believe that's Frank Rossitano. Yeah, probab...    malefashionadvice  \n",
       "4      Add funny to that list. What a freaking all star.    malefashionadvice  \n",
       "...                                                  ...                  ...  \n",
       "33802  thank you! i think i got it at hot topic many ...  femalefashionadvice  \n",
       "33803  Hahaha I did not! Class of '09 in NC, but say ...  femalefashionadvice  \n",
       "33804  I will! Your aesthetic reminds me of her, too,...  femalefashionadvice  \n",
       "33805  a solid aspiration! i wonder if she still carr...  femalefashionadvice  \n",
       "33806  Oh, I hope so. The last I heard of her, she wa...  femalefashionadvice  \n",
       "\n",
       "[33807 rows x 6 columns]"
      ],
      "text/html": "<div>\n<style scoped>\n    .dataframe tbody tr th:only-of-type {\n        vertical-align: middle;\n    }\n\n    .dataframe tbody tr th {\n        vertical-align: top;\n    }\n\n    .dataframe thead th {\n        text-align: right;\n    }\n</style>\n<table border=\"1\" class=\"dataframe\">\n  <thead>\n    <tr style=\"text-align: right;\">\n      <th></th>\n      <th>Unnamed: 0</th>\n      <th>link_id</th>\n      <th>id</th>\n      <th>score</th>\n      <th>body</th>\n      <th>Subreddit</th>\n    </tr>\n  </thead>\n  <tbody>\n    <tr>\n      <th>0</th>\n      <td>0</td>\n      <td>t3_klxncy</td>\n      <td>ghc7s6s</td>\n      <td>12</td>\n      <td>Really like the crooklyn hat and Santa coat gu...</td>\n      <td>malefashionadvice</td>\n    </tr>\n    <tr>\n      <th>1</th>\n      <td>1</td>\n      <td>t3_klxncy</td>\n      <td>ghbh5m6</td>\n      <td>4</td>\n      <td>Thank you to everyone who participated [in yes...</td>\n      <td>malefashionadvice</td>\n    </tr>\n    <tr>\n      <th>2</th>\n      <td>2</td>\n      <td>t3_klxncy</td>\n      <td>ghczbnz</td>\n      <td>11</td>\n      <td>Finally a real and unbiased member of the publ...</td>\n      <td>malefashionadvice</td>\n    </tr>\n    <tr>\n      <th>3</th>\n      <td>3</td>\n      <td>t3_klxncy</td>\n      <td>ghdw1as</td>\n      <td>3</td>\n      <td>I believe that's Frank Rossitano. Yeah, probab...</td>\n      <td>malefashionadvice</td>\n    </tr>\n    <tr>\n      <th>4</th>\n      <td>4</td>\n      <td>t3_klxncy</td>\n      <td>ghcr9kf</td>\n      <td>2</td>\n      <td>Add funny to that list. What a freaking all star.</td>\n      <td>malefashionadvice</td>\n    </tr>\n    <tr>\n      <th>...</th>\n      <td>...</td>\n      <td>...</td>\n      <td>...</td>\n      <td>...</td>\n      <td>...</td>\n      <td>...</td>\n    </tr>\n    <tr>\n      <th>33802</th>\n      <td>13370</td>\n      <td>t3_eif7u5</td>\n      <td>fcrvhlu</td>\n      <td>3</td>\n      <td>thank you! i think i got it at hot topic many ...</td>\n      <td>femalefashionadvice</td>\n    </tr>\n    <tr>\n      <th>33803</th>\n      <td>13371</td>\n      <td>t3_eif7u5</td>\n      <td>fct07im</td>\n      <td>1</td>\n      <td>Hahaha I did not! Class of '09 in NC, but say ...</td>\n      <td>femalefashionadvice</td>\n    </tr>\n    <tr>\n      <th>33804</th>\n      <td>13372</td>\n      <td>t3_eif7u5</td>\n      <td>fct28pu</td>\n      <td>5</td>\n      <td>I will! Your aesthetic reminds me of her, too,...</td>\n      <td>femalefashionadvice</td>\n    </tr>\n    <tr>\n      <th>33805</th>\n      <td>13373</td>\n      <td>t3_eif7u5</td>\n      <td>fct406p</td>\n      <td>2</td>\n      <td>a solid aspiration! i wonder if she still carr...</td>\n      <td>femalefashionadvice</td>\n    </tr>\n    <tr>\n      <th>33806</th>\n      <td>13374</td>\n      <td>t3_eif7u5</td>\n      <td>fctdpke</td>\n      <td>3</td>\n      <td>Oh, I hope so. The last I heard of her, she wa...</td>\n      <td>femalefashionadvice</td>\n    </tr>\n  </tbody>\n</table>\n<p>33807 rows × 6 columns</p>\n</div>"
     },
     "metadata": {},
     "execution_count": 5
    }
   ],
   "source": [
    "p = Path.cwd() / 'data' / 'waywtdf.csv'\n",
    "df = pd.read_csv(p)\n",
    "df"
   ]
  },
  {
   "source": [
    "If you prefer pickling over csv, use these cells for IO"
   ],
   "cell_type": "markdown",
   "metadata": {}
  },
  {
   "cell_type": "code",
   "execution_count": null,
   "metadata": {},
   "outputs": [],
   "source": [
    "p = Path.cwd() / 'data' / 'commentdf.pkl'\n",
    "df.to_pickle(path = p)"
   ]
  },
  {
   "cell_type": "code",
   "execution_count": null,
   "metadata": {},
   "outputs": [],
   "source": [
    "df = pd.read_pickle(filepath_or_buffer=p)"
   ]
  },
  {
   "source": [
    "If you read from CSV it created an extra column so this cell drops it."
   ],
   "cell_type": "markdown",
   "metadata": {}
  },
  {
   "cell_type": "code",
   "execution_count": 6,
   "metadata": {},
   "outputs": [],
   "source": [
    "df = df.drop(columns =['Unnamed: 0'])"
   ]
  },
  {
   "cell_type": "code",
   "execution_count": 7,
   "metadata": {},
   "outputs": [],
   "source": [
    "df2 = brand_check(df,fashion)"
   ]
  },
  {
   "cell_type": "code",
   "execution_count": 8,
   "metadata": {},
   "outputs": [
    {
     "output_type": "execute_result",
     "data": {
      "text/plain": [
       "                   0    1      2    3    4    5    6    7    8    9    10  \\\n",
       "      match                                                                 \n",
       "20    38          NaN  NaN    NaN  NaN  NaN  NaN  NaN  NaN  NaN  NaN  NaN   \n",
       "64    1119        NaN  NaN    NaN  NaN  NaN  NaN  NaN  NaN  NaN  NaN  NaN   \n",
       "68    310         NaN  NaN    NaN  NaN  NaN  NaN  NaN  NaN  NaN  NaN  NaN   \n",
       "      479         NaN  NaN    NaN  NaN  NaN  NaN  NaN  NaN  NaN  NaN  NaN   \n",
       "70    38          NaN  NaN    NaN  NaN  NaN  NaN  NaN  NaN  NaN  NaN  NaN   \n",
       "...               ...  ...    ...  ...  ...  ...  ...  ...  ...  ...  ...   \n",
       "33772 2055    Uniqlo   NaN    NaN  NaN  NaN  NaN  NaN  NaN  NaN  NaN  NaN   \n",
       "33773 222         NaN  NaN    NaN  NaN  NaN  NaN  NaN  NaN  NaN  NaN  NaN   \n",
       "33777 700         NaN  NaN   H&M   NaN  NaN  NaN  NaN  NaN  NaN  NaN  NaN   \n",
       "33778 4415        NaN  NaN    NaN  NaN  NaN  NaN  NaN  NaN  NaN  NaN  NaN   \n",
       "33779 174         NaN  NaN    NaN  NaN  NaN  NaN  NaN  NaN  NaN  NaN  NaN   \n",
       "\n",
       "              11   12   13   14   15   16   17   18   19   20   21   22  \\\n",
       "      match                                                               \n",
       "20    38     NaN  NaN  NaN  NaN  NaN  NaN  NaN  NaN  NaN  NaN  NaN  NaN   \n",
       "64    1119   NaN  NaN  NaN  NaN  NaN  NaN  NaN  NaN  NaN  NaN  NaN  NaN   \n",
       "68    310    NaN  NaN  NaN  NaN  NaN  NaN  NaN  NaN  NaN  NaN  NaN  NaN   \n",
       "      479    NaN  NaN  NaN  NaN  NaN  NaN  NaN  NaN  NaN  NaN  NaN  NaN   \n",
       "70    38     NaN  NaN  NaN  NaN  NaN  NaN  NaN  NaN  NaN  NaN  NaN  NaN   \n",
       "...          ...  ...  ...  ...  ...  ...  ...  ...  ...  ...  ...  ...   \n",
       "33772 2055   NaN  NaN  NaN  NaN  NaN  NaN  NaN  NaN  NaN  NaN  NaN  NaN   \n",
       "33773 222    NaN  NaN  NaN  NaN  NaN  NaN  NaN  NaN  NaN  NaN  NaN  NaN   \n",
       "33777 700    NaN  NaN  NaN  NaN  NaN  NaN  NaN  NaN  NaN  NaN  NaN  NaN   \n",
       "33778 4415   NaN  NaN   BR  NaN  NaN  NaN  NaN  NaN  NaN  NaN  NaN  NaN   \n",
       "33779 174    NaN  NaN  NaN  NaN  NaN  NaN  NaN  NaN  NaN  NaN  NaN  NaN   \n",
       "\n",
       "                 23   24   25   26   27   28   29   30   31   32   33   34  \\\n",
       "      match                                                                  \n",
       "20    38        NaN  NaN  NaN  NaN  NaN  NaN  NaN  NaN  NaN  NaN  NaN  NaN   \n",
       "64    1119      NaN  NaN  NaN  NaN  NaN  NaN  NaN  NaN  NaN  NaN  NaN  NaN   \n",
       "68    310    Amazon  NaN  NaN  NaN  NaN  NaN  NaN  NaN  NaN  NaN  NaN  NaN   \n",
       "      479    Amazon  NaN  NaN  NaN  NaN  NaN  NaN  NaN  NaN  NaN  NaN  NaN   \n",
       "70    38        NaN  NaN  NaN  NaN  NaN  NaN  NaN  NaN  NaN  NaN  NaN  NaN   \n",
       "...             ...  ...  ...  ...  ...  ...  ...  ...  ...  ...  ...  ...   \n",
       "33772 2055      NaN  NaN  NaN  NaN  NaN  NaN  NaN  NaN  NaN  NaN  NaN  NaN   \n",
       "33773 222       NaN  NaN  NaN  NaN  NaN  NaN  NaN  NaN   LV  NaN  NaN  NaN   \n",
       "33777 700       NaN  NaN  NaN  NaN  NaN  NaN  NaN  NaN  NaN  NaN  NaN  NaN   \n",
       "33778 4415      NaN  NaN  NaN  NaN  NaN  NaN  NaN  NaN  NaN  NaN  NaN  NaN   \n",
       "33779 174       NaN  NaN  NaN  NaN  NaN  NaN  NaN  NaN  NaN  NaN  NaN  NaN   \n",
       "\n",
       "              35   36   37        38   39   40   41   42   43   44   45   46  \\\n",
       "      match                                                                    \n",
       "20    38     NaN  NaN  NaN       NaN  NaN  NaN  NaN  NaN  NaN  NaN  NaN  NaN   \n",
       "64    1119   NaN  NaN  NaN       NaN  NaN  NaN  NaN  NaN  NaN  NaN  NaN  NaN   \n",
       "68    310    NaN  NaN  NaN       NaN  NaN  NaN  NaN  NaN  NaN  NaN  NaN  NaN   \n",
       "      479    NaN  NaN  NaN       NaN  NaN  NaN  NaN  NaN  NaN  NaN  NaN  NaN   \n",
       "70    38     NaN  NaN  NaN   Express  NaN  NaN  NaN  NaN  NaN  NaN  NaN  NaN   \n",
       "...          ...  ...  ...       ...  ...  ...  ...  ...  ...  ...  ...  ...   \n",
       "33772 2055   NaN  NaN  NaN       NaN  NaN  NaN  NaN  NaN  NaN  NaN  NaN  NaN   \n",
       "33773 222    NaN  NaN  NaN       NaN  NaN  NaN  NaN  NaN  NaN  NaN  NaN  NaN   \n",
       "33777 700    NaN  NaN  NaN       NaN  NaN  NaN  NaN  NaN  NaN  NaN  NaN  NaN   \n",
       "33778 4415   NaN  NaN  NaN       NaN  NaN  NaN  NaN  NaN  NaN  NaN  NaN  NaN   \n",
       "33779 174    NaN  NaN  ugg       NaN  NaN  NaN  NaN  NaN  NaN  NaN  NaN  NaN   \n",
       "\n",
       "              47   48   49   50   51   52   53   54   55    56   57   58   59  \\\n",
       "      match                                                                     \n",
       "20    38     NaN  NaN  NaN  NaN  NaN  NaN  NaN  NaN  NaN  puma  NaN  NaN  NaN   \n",
       "64    1119   NaN  NaN  NaN  NaN  NaN  NaN  NaN  NaN  NaN  Puma  NaN  NaN  NaN   \n",
       "68    310    NaN  NaN  NaN  NaN  NaN  NaN  NaN  NaN  NaN   NaN  NaN  NaN  NaN   \n",
       "      479    NaN  NaN  NaN  NaN  NaN  NaN  NaN  NaN  NaN   NaN  NaN  NaN  NaN   \n",
       "70    38     NaN  NaN  NaN  NaN  NaN  NaN  NaN  NaN  NaN   NaN  NaN  NaN  NaN   \n",
       "...          ...  ...  ...  ...  ...  ...  ...  ...  ...   ...  ...  ...  ...   \n",
       "33772 2055   NaN  NaN  NaN  NaN  NaN  NaN  NaN  NaN  NaN   NaN  NaN  NaN  NaN   \n",
       "33773 222    NaN  NaN  NaN  NaN  NaN  NaN  NaN  NaN  NaN   NaN  NaN  NaN  NaN   \n",
       "33777 700    NaN  NaN  NaN  NaN  NaN  NaN  NaN  NaN  NaN   NaN  NaN  NaN  NaN   \n",
       "33778 4415   NaN  NaN  NaN  NaN  NaN  NaN  NaN  NaN  NaN   NaN  NaN  NaN  NaN   \n",
       "33779 174    NaN  NaN  NaN  NaN  NaN  NaN  NaN  NaN  NaN   NaN  NaN  NaN  NaN   \n",
       "\n",
       "              60   61   62   63   64   65   66   67   68   69   70   71   72  \\\n",
       "      match                                                                    \n",
       "20    38     NaN  NaN  NaN  NaN  NaN  NaN  NaN  NaN  NaN  NaN  NaN  NaN  NaN   \n",
       "64    1119   NaN  NaN  NaN  NaN  NaN  NaN  NaN  NaN  NaN  NaN  NaN  NaN  NaN   \n",
       "68    310    NaN  NaN  NaN  NaN  NaN  NaN  NaN  NaN  NaN  NaN  NaN  NaN  NaN   \n",
       "      479    NaN  NaN  NaN  NaN  NaN  NaN  NaN  NaN  NaN  NaN  NaN  NaN  NaN   \n",
       "70    38     NaN  NaN  NaN  NaN  NaN  NaN  NaN  NaN  NaN  NaN  NaN  NaN  NaN   \n",
       "...          ...  ...  ...  ...  ...  ...  ...  ...  ...  ...  ...  ...  ...   \n",
       "33772 2055   NaN  NaN  NaN  NaN  NaN  NaN  NaN  NaN  NaN  NaN  NaN  NaN  NaN   \n",
       "33773 222    NaN  NaN  NaN  NaN  NaN  NaN  NaN  NaN  NaN  NaN  NaN  NaN  NaN   \n",
       "33777 700    NaN  NaN  NaN  NaN  NaN  NaN  NaN  NaN  NaN  NaN  NaN  NaN  NaN   \n",
       "33778 4415   NaN  NaN  NaN  NaN  NaN  NaN  NaN  NaN  NaN  NaN  NaN  NaN  NaN   \n",
       "33779 174    NaN  NaN  NaN  NaN  NaN  NaN  NaN  NaN  NaN  NaN  NaN  NaN  NaN   \n",
       "\n",
       "              73   74   75   76   77  \n",
       "      match                           \n",
       "20    38     NaN  NaN  NaN  NaN  NaN  \n",
       "64    1119   NaN  NaN  NaN  NaN  NaN  \n",
       "68    310    NaN  NaN  NaN  NaN  NaN  \n",
       "      479    NaN  NaN  NaN  NaN  NaN  \n",
       "70    38     NaN  NaN  NaN  NaN  NaN  \n",
       "...          ...  ...  ...  ...  ...  \n",
       "33772 2055   NaN  NaN  NaN  NaN  NaN  \n",
       "33773 222    NaN  NaN  NaN  NaN  NaN  \n",
       "33777 700    NaN  NaN  NaN  NaN  NaN  \n",
       "33778 4415   NaN  NaN  NaN  NaN  NaN  \n",
       "33779 174    NaN  NaN  NaN  NaN  NaN  \n",
       "\n",
       "[5296 rows x 78 columns]"
      ],
      "text/html": "<div>\n<style scoped>\n    .dataframe tbody tr th:only-of-type {\n        vertical-align: middle;\n    }\n\n    .dataframe tbody tr th {\n        vertical-align: top;\n    }\n\n    .dataframe thead th {\n        text-align: right;\n    }\n</style>\n<table border=\"1\" class=\"dataframe\">\n  <thead>\n    <tr style=\"text-align: right;\">\n      <th></th>\n      <th></th>\n      <th>0</th>\n      <th>1</th>\n      <th>2</th>\n      <th>3</th>\n      <th>4</th>\n      <th>5</th>\n      <th>6</th>\n      <th>7</th>\n      <th>8</th>\n      <th>9</th>\n      <th>10</th>\n      <th>11</th>\n      <th>12</th>\n      <th>13</th>\n      <th>14</th>\n      <th>15</th>\n      <th>16</th>\n      <th>17</th>\n      <th>18</th>\n      <th>19</th>\n      <th>20</th>\n      <th>21</th>\n      <th>22</th>\n      <th>23</th>\n      <th>24</th>\n      <th>25</th>\n      <th>26</th>\n      <th>27</th>\n      <th>28</th>\n      <th>29</th>\n      <th>30</th>\n      <th>31</th>\n      <th>32</th>\n      <th>33</th>\n      <th>34</th>\n      <th>35</th>\n      <th>36</th>\n      <th>37</th>\n      <th>38</th>\n      <th>39</th>\n      <th>40</th>\n      <th>41</th>\n      <th>42</th>\n      <th>43</th>\n      <th>44</th>\n      <th>45</th>\n      <th>46</th>\n      <th>47</th>\n      <th>48</th>\n      <th>49</th>\n      <th>50</th>\n      <th>51</th>\n      <th>52</th>\n      <th>53</th>\n      <th>54</th>\n      <th>55</th>\n      <th>56</th>\n      <th>57</th>\n      <th>58</th>\n      <th>59</th>\n      <th>60</th>\n      <th>61</th>\n      <th>62</th>\n      <th>63</th>\n      <th>64</th>\n      <th>65</th>\n      <th>66</th>\n      <th>67</th>\n      <th>68</th>\n      <th>69</th>\n      <th>70</th>\n      <th>71</th>\n      <th>72</th>\n      <th>73</th>\n      <th>74</th>\n      <th>75</th>\n      <th>76</th>\n      <th>77</th>\n    </tr>\n    <tr>\n      <th></th>\n      <th>match</th>\n      <th></th>\n      <th></th>\n      <th></th>\n      <th></th>\n      <th></th>\n      <th></th>\n      <th></th>\n      <th></th>\n      <th></th>\n      <th></th>\n      <th></th>\n      <th></th>\n      <th></th>\n      <th></th>\n      <th></th>\n      <th></th>\n      <th></th>\n      <th></th>\n      <th></th>\n      <th></th>\n      <th></th>\n      <th></th>\n      <th></th>\n      <th></th>\n      <th></th>\n      <th></th>\n      <th></th>\n      <th></th>\n      <th></th>\n      <th></th>\n      <th></th>\n      <th></th>\n      <th></th>\n      <th></th>\n      <th></th>\n      <th></th>\n      <th></th>\n      <th></th>\n      <th></th>\n      <th></th>\n      <th></th>\n      <th></th>\n      <th></th>\n      <th></th>\n      <th></th>\n      <th></th>\n      <th></th>\n      <th></th>\n      <th></th>\n      <th></th>\n      <th></th>\n      <th></th>\n      <th></th>\n      <th></th>\n      <th></th>\n      <th></th>\n      <th></th>\n      <th></th>\n      <th></th>\n      <th></th>\n      <th></th>\n      <th></th>\n      <th></th>\n      <th></th>\n      <th></th>\n      <th></th>\n      <th></th>\n      <th></th>\n      <th></th>\n      <th></th>\n      <th></th>\n      <th></th>\n      <th></th>\n      <th></th>\n      <th></th>\n      <th></th>\n      <th></th>\n      <th></th>\n    </tr>\n  </thead>\n  <tbody>\n    <tr>\n      <th>20</th>\n      <th>38</th>\n      <td>NaN</td>\n      <td>NaN</td>\n      <td>NaN</td>\n      <td>NaN</td>\n      <td>NaN</td>\n      <td>NaN</td>\n      <td>NaN</td>\n      <td>NaN</td>\n      <td>NaN</td>\n      <td>NaN</td>\n      <td>NaN</td>\n      <td>NaN</td>\n      <td>NaN</td>\n      <td>NaN</td>\n      <td>NaN</td>\n      <td>NaN</td>\n      <td>NaN</td>\n      <td>NaN</td>\n      <td>NaN</td>\n      <td>NaN</td>\n      <td>NaN</td>\n      <td>NaN</td>\n      <td>NaN</td>\n      <td>NaN</td>\n      <td>NaN</td>\n      <td>NaN</td>\n      <td>NaN</td>\n      <td>NaN</td>\n      <td>NaN</td>\n      <td>NaN</td>\n      <td>NaN</td>\n      <td>NaN</td>\n      <td>NaN</td>\n      <td>NaN</td>\n      <td>NaN</td>\n      <td>NaN</td>\n      <td>NaN</td>\n      <td>NaN</td>\n      <td>NaN</td>\n      <td>NaN</td>\n      <td>NaN</td>\n      <td>NaN</td>\n      <td>NaN</td>\n      <td>NaN</td>\n      <td>NaN</td>\n      <td>NaN</td>\n      <td>NaN</td>\n      <td>NaN</td>\n      <td>NaN</td>\n      <td>NaN</td>\n      <td>NaN</td>\n      <td>NaN</td>\n      <td>NaN</td>\n      <td>NaN</td>\n      <td>NaN</td>\n      <td>NaN</td>\n      <td>puma</td>\n      <td>NaN</td>\n      <td>NaN</td>\n      <td>NaN</td>\n      <td>NaN</td>\n      <td>NaN</td>\n      <td>NaN</td>\n      <td>NaN</td>\n      <td>NaN</td>\n      <td>NaN</td>\n      <td>NaN</td>\n      <td>NaN</td>\n      <td>NaN</td>\n      <td>NaN</td>\n      <td>NaN</td>\n      <td>NaN</td>\n      <td>NaN</td>\n      <td>NaN</td>\n      <td>NaN</td>\n      <td>NaN</td>\n      <td>NaN</td>\n      <td>NaN</td>\n    </tr>\n    <tr>\n      <th>64</th>\n      <th>1119</th>\n      <td>NaN</td>\n      <td>NaN</td>\n      <td>NaN</td>\n      <td>NaN</td>\n      <td>NaN</td>\n      <td>NaN</td>\n      <td>NaN</td>\n      <td>NaN</td>\n      <td>NaN</td>\n      <td>NaN</td>\n      <td>NaN</td>\n      <td>NaN</td>\n      <td>NaN</td>\n      <td>NaN</td>\n      <td>NaN</td>\n      <td>NaN</td>\n      <td>NaN</td>\n      <td>NaN</td>\n      <td>NaN</td>\n      <td>NaN</td>\n      <td>NaN</td>\n      <td>NaN</td>\n      <td>NaN</td>\n      <td>NaN</td>\n      <td>NaN</td>\n      <td>NaN</td>\n      <td>NaN</td>\n      <td>NaN</td>\n      <td>NaN</td>\n      <td>NaN</td>\n      <td>NaN</td>\n      <td>NaN</td>\n      <td>NaN</td>\n      <td>NaN</td>\n      <td>NaN</td>\n      <td>NaN</td>\n      <td>NaN</td>\n      <td>NaN</td>\n      <td>NaN</td>\n      <td>NaN</td>\n      <td>NaN</td>\n      <td>NaN</td>\n      <td>NaN</td>\n      <td>NaN</td>\n      <td>NaN</td>\n      <td>NaN</td>\n      <td>NaN</td>\n      <td>NaN</td>\n      <td>NaN</td>\n      <td>NaN</td>\n      <td>NaN</td>\n      <td>NaN</td>\n      <td>NaN</td>\n      <td>NaN</td>\n      <td>NaN</td>\n      <td>NaN</td>\n      <td>Puma</td>\n      <td>NaN</td>\n      <td>NaN</td>\n      <td>NaN</td>\n      <td>NaN</td>\n      <td>NaN</td>\n      <td>NaN</td>\n      <td>NaN</td>\n      <td>NaN</td>\n      <td>NaN</td>\n      <td>NaN</td>\n      <td>NaN</td>\n      <td>NaN</td>\n      <td>NaN</td>\n      <td>NaN</td>\n      <td>NaN</td>\n      <td>NaN</td>\n      <td>NaN</td>\n      <td>NaN</td>\n      <td>NaN</td>\n      <td>NaN</td>\n      <td>NaN</td>\n    </tr>\n    <tr>\n      <th rowspan=\"2\" valign=\"top\">68</th>\n      <th>310</th>\n      <td>NaN</td>\n      <td>NaN</td>\n      <td>NaN</td>\n      <td>NaN</td>\n      <td>NaN</td>\n      <td>NaN</td>\n      <td>NaN</td>\n      <td>NaN</td>\n      <td>NaN</td>\n      <td>NaN</td>\n      <td>NaN</td>\n      <td>NaN</td>\n      <td>NaN</td>\n      <td>NaN</td>\n      <td>NaN</td>\n      <td>NaN</td>\n      <td>NaN</td>\n      <td>NaN</td>\n      <td>NaN</td>\n      <td>NaN</td>\n      <td>NaN</td>\n      <td>NaN</td>\n      <td>NaN</td>\n      <td>Amazon</td>\n      <td>NaN</td>\n      <td>NaN</td>\n      <td>NaN</td>\n      <td>NaN</td>\n      <td>NaN</td>\n      <td>NaN</td>\n      <td>NaN</td>\n      <td>NaN</td>\n      <td>NaN</td>\n      <td>NaN</td>\n      <td>NaN</td>\n      <td>NaN</td>\n      <td>NaN</td>\n      <td>NaN</td>\n      <td>NaN</td>\n      <td>NaN</td>\n      <td>NaN</td>\n      <td>NaN</td>\n      <td>NaN</td>\n      <td>NaN</td>\n      <td>NaN</td>\n      <td>NaN</td>\n      <td>NaN</td>\n      <td>NaN</td>\n      <td>NaN</td>\n      <td>NaN</td>\n      <td>NaN</td>\n      <td>NaN</td>\n      <td>NaN</td>\n      <td>NaN</td>\n      <td>NaN</td>\n      <td>NaN</td>\n      <td>NaN</td>\n      <td>NaN</td>\n      <td>NaN</td>\n      <td>NaN</td>\n      <td>NaN</td>\n      <td>NaN</td>\n      <td>NaN</td>\n      <td>NaN</td>\n      <td>NaN</td>\n      <td>NaN</td>\n      <td>NaN</td>\n      <td>NaN</td>\n      <td>NaN</td>\n      <td>NaN</td>\n      <td>NaN</td>\n      <td>NaN</td>\n      <td>NaN</td>\n      <td>NaN</td>\n      <td>NaN</td>\n      <td>NaN</td>\n      <td>NaN</td>\n      <td>NaN</td>\n    </tr>\n    <tr>\n      <th>479</th>\n      <td>NaN</td>\n      <td>NaN</td>\n      <td>NaN</td>\n      <td>NaN</td>\n      <td>NaN</td>\n      <td>NaN</td>\n      <td>NaN</td>\n      <td>NaN</td>\n      <td>NaN</td>\n      <td>NaN</td>\n      <td>NaN</td>\n      <td>NaN</td>\n      <td>NaN</td>\n      <td>NaN</td>\n      <td>NaN</td>\n      <td>NaN</td>\n      <td>NaN</td>\n      <td>NaN</td>\n      <td>NaN</td>\n      <td>NaN</td>\n      <td>NaN</td>\n      <td>NaN</td>\n      <td>NaN</td>\n      <td>Amazon</td>\n      <td>NaN</td>\n      <td>NaN</td>\n      <td>NaN</td>\n      <td>NaN</td>\n      <td>NaN</td>\n      <td>NaN</td>\n      <td>NaN</td>\n      <td>NaN</td>\n      <td>NaN</td>\n      <td>NaN</td>\n      <td>NaN</td>\n      <td>NaN</td>\n      <td>NaN</td>\n      <td>NaN</td>\n      <td>NaN</td>\n      <td>NaN</td>\n      <td>NaN</td>\n      <td>NaN</td>\n      <td>NaN</td>\n      <td>NaN</td>\n      <td>NaN</td>\n      <td>NaN</td>\n      <td>NaN</td>\n      <td>NaN</td>\n      <td>NaN</td>\n      <td>NaN</td>\n      <td>NaN</td>\n      <td>NaN</td>\n      <td>NaN</td>\n      <td>NaN</td>\n      <td>NaN</td>\n      <td>NaN</td>\n      <td>NaN</td>\n      <td>NaN</td>\n      <td>NaN</td>\n      <td>NaN</td>\n      <td>NaN</td>\n      <td>NaN</td>\n      <td>NaN</td>\n      <td>NaN</td>\n      <td>NaN</td>\n      <td>NaN</td>\n      <td>NaN</td>\n      <td>NaN</td>\n      <td>NaN</td>\n      <td>NaN</td>\n      <td>NaN</td>\n      <td>NaN</td>\n      <td>NaN</td>\n      <td>NaN</td>\n      <td>NaN</td>\n      <td>NaN</td>\n      <td>NaN</td>\n      <td>NaN</td>\n    </tr>\n    <tr>\n      <th>70</th>\n      <th>38</th>\n      <td>NaN</td>\n      <td>NaN</td>\n      <td>NaN</td>\n      <td>NaN</td>\n      <td>NaN</td>\n      <td>NaN</td>\n      <td>NaN</td>\n      <td>NaN</td>\n      <td>NaN</td>\n      <td>NaN</td>\n      <td>NaN</td>\n      <td>NaN</td>\n      <td>NaN</td>\n      <td>NaN</td>\n      <td>NaN</td>\n      <td>NaN</td>\n      <td>NaN</td>\n      <td>NaN</td>\n      <td>NaN</td>\n      <td>NaN</td>\n      <td>NaN</td>\n      <td>NaN</td>\n      <td>NaN</td>\n      <td>NaN</td>\n      <td>NaN</td>\n      <td>NaN</td>\n      <td>NaN</td>\n      <td>NaN</td>\n      <td>NaN</td>\n      <td>NaN</td>\n      <td>NaN</td>\n      <td>NaN</td>\n      <td>NaN</td>\n      <td>NaN</td>\n      <td>NaN</td>\n      <td>NaN</td>\n      <td>NaN</td>\n      <td>NaN</td>\n      <td>Express</td>\n      <td>NaN</td>\n      <td>NaN</td>\n      <td>NaN</td>\n      <td>NaN</td>\n      <td>NaN</td>\n      <td>NaN</td>\n      <td>NaN</td>\n      <td>NaN</td>\n      <td>NaN</td>\n      <td>NaN</td>\n      <td>NaN</td>\n      <td>NaN</td>\n      <td>NaN</td>\n      <td>NaN</td>\n      <td>NaN</td>\n      <td>NaN</td>\n      <td>NaN</td>\n      <td>NaN</td>\n      <td>NaN</td>\n      <td>NaN</td>\n      <td>NaN</td>\n      <td>NaN</td>\n      <td>NaN</td>\n      <td>NaN</td>\n      <td>NaN</td>\n      <td>NaN</td>\n      <td>NaN</td>\n      <td>NaN</td>\n      <td>NaN</td>\n      <td>NaN</td>\n      <td>NaN</td>\n      <td>NaN</td>\n      <td>NaN</td>\n      <td>NaN</td>\n      <td>NaN</td>\n      <td>NaN</td>\n      <td>NaN</td>\n      <td>NaN</td>\n      <td>NaN</td>\n    </tr>\n    <tr>\n      <th>...</th>\n      <th>...</th>\n      <td>...</td>\n      <td>...</td>\n      <td>...</td>\n      <td>...</td>\n      <td>...</td>\n      <td>...</td>\n      <td>...</td>\n      <td>...</td>\n      <td>...</td>\n      <td>...</td>\n      <td>...</td>\n      <td>...</td>\n      <td>...</td>\n      <td>...</td>\n      <td>...</td>\n      <td>...</td>\n      <td>...</td>\n      <td>...</td>\n      <td>...</td>\n      <td>...</td>\n      <td>...</td>\n      <td>...</td>\n      <td>...</td>\n      <td>...</td>\n      <td>...</td>\n      <td>...</td>\n      <td>...</td>\n      <td>...</td>\n      <td>...</td>\n      <td>...</td>\n      <td>...</td>\n      <td>...</td>\n      <td>...</td>\n      <td>...</td>\n      <td>...</td>\n      <td>...</td>\n      <td>...</td>\n      <td>...</td>\n      <td>...</td>\n      <td>...</td>\n      <td>...</td>\n      <td>...</td>\n      <td>...</td>\n      <td>...</td>\n      <td>...</td>\n      <td>...</td>\n      <td>...</td>\n      <td>...</td>\n      <td>...</td>\n      <td>...</td>\n      <td>...</td>\n      <td>...</td>\n      <td>...</td>\n      <td>...</td>\n      <td>...</td>\n      <td>...</td>\n      <td>...</td>\n      <td>...</td>\n      <td>...</td>\n      <td>...</td>\n      <td>...</td>\n      <td>...</td>\n      <td>...</td>\n      <td>...</td>\n      <td>...</td>\n      <td>...</td>\n      <td>...</td>\n      <td>...</td>\n      <td>...</td>\n      <td>...</td>\n      <td>...</td>\n      <td>...</td>\n      <td>...</td>\n      <td>...</td>\n      <td>...</td>\n      <td>...</td>\n      <td>...</td>\n      <td>...</td>\n    </tr>\n    <tr>\n      <th>33772</th>\n      <th>2055</th>\n      <td>Uniqlo</td>\n      <td>NaN</td>\n      <td>NaN</td>\n      <td>NaN</td>\n      <td>NaN</td>\n      <td>NaN</td>\n      <td>NaN</td>\n      <td>NaN</td>\n      <td>NaN</td>\n      <td>NaN</td>\n      <td>NaN</td>\n      <td>NaN</td>\n      <td>NaN</td>\n      <td>NaN</td>\n      <td>NaN</td>\n      <td>NaN</td>\n      <td>NaN</td>\n      <td>NaN</td>\n      <td>NaN</td>\n      <td>NaN</td>\n      <td>NaN</td>\n      <td>NaN</td>\n      <td>NaN</td>\n      <td>NaN</td>\n      <td>NaN</td>\n      <td>NaN</td>\n      <td>NaN</td>\n      <td>NaN</td>\n      <td>NaN</td>\n      <td>NaN</td>\n      <td>NaN</td>\n      <td>NaN</td>\n      <td>NaN</td>\n      <td>NaN</td>\n      <td>NaN</td>\n      <td>NaN</td>\n      <td>NaN</td>\n      <td>NaN</td>\n      <td>NaN</td>\n      <td>NaN</td>\n      <td>NaN</td>\n      <td>NaN</td>\n      <td>NaN</td>\n      <td>NaN</td>\n      <td>NaN</td>\n      <td>NaN</td>\n      <td>NaN</td>\n      <td>NaN</td>\n      <td>NaN</td>\n      <td>NaN</td>\n      <td>NaN</td>\n      <td>NaN</td>\n      <td>NaN</td>\n      <td>NaN</td>\n      <td>NaN</td>\n      <td>NaN</td>\n      <td>NaN</td>\n      <td>NaN</td>\n      <td>NaN</td>\n      <td>NaN</td>\n      <td>NaN</td>\n      <td>NaN</td>\n      <td>NaN</td>\n      <td>NaN</td>\n      <td>NaN</td>\n      <td>NaN</td>\n      <td>NaN</td>\n      <td>NaN</td>\n      <td>NaN</td>\n      <td>NaN</td>\n      <td>NaN</td>\n      <td>NaN</td>\n      <td>NaN</td>\n      <td>NaN</td>\n      <td>NaN</td>\n      <td>NaN</td>\n      <td>NaN</td>\n      <td>NaN</td>\n    </tr>\n    <tr>\n      <th>33773</th>\n      <th>222</th>\n      <td>NaN</td>\n      <td>NaN</td>\n      <td>NaN</td>\n      <td>NaN</td>\n      <td>NaN</td>\n      <td>NaN</td>\n      <td>NaN</td>\n      <td>NaN</td>\n      <td>NaN</td>\n      <td>NaN</td>\n      <td>NaN</td>\n      <td>NaN</td>\n      <td>NaN</td>\n      <td>NaN</td>\n      <td>NaN</td>\n      <td>NaN</td>\n      <td>NaN</td>\n      <td>NaN</td>\n      <td>NaN</td>\n      <td>NaN</td>\n      <td>NaN</td>\n      <td>NaN</td>\n      <td>NaN</td>\n      <td>NaN</td>\n      <td>NaN</td>\n      <td>NaN</td>\n      <td>NaN</td>\n      <td>NaN</td>\n      <td>NaN</td>\n      <td>NaN</td>\n      <td>NaN</td>\n      <td>LV</td>\n      <td>NaN</td>\n      <td>NaN</td>\n      <td>NaN</td>\n      <td>NaN</td>\n      <td>NaN</td>\n      <td>NaN</td>\n      <td>NaN</td>\n      <td>NaN</td>\n      <td>NaN</td>\n      <td>NaN</td>\n      <td>NaN</td>\n      <td>NaN</td>\n      <td>NaN</td>\n      <td>NaN</td>\n      <td>NaN</td>\n      <td>NaN</td>\n      <td>NaN</td>\n      <td>NaN</td>\n      <td>NaN</td>\n      <td>NaN</td>\n      <td>NaN</td>\n      <td>NaN</td>\n      <td>NaN</td>\n      <td>NaN</td>\n      <td>NaN</td>\n      <td>NaN</td>\n      <td>NaN</td>\n      <td>NaN</td>\n      <td>NaN</td>\n      <td>NaN</td>\n      <td>NaN</td>\n      <td>NaN</td>\n      <td>NaN</td>\n      <td>NaN</td>\n      <td>NaN</td>\n      <td>NaN</td>\n      <td>NaN</td>\n      <td>NaN</td>\n      <td>NaN</td>\n      <td>NaN</td>\n      <td>NaN</td>\n      <td>NaN</td>\n      <td>NaN</td>\n      <td>NaN</td>\n      <td>NaN</td>\n      <td>NaN</td>\n    </tr>\n    <tr>\n      <th>33777</th>\n      <th>700</th>\n      <td>NaN</td>\n      <td>NaN</td>\n      <td>H&amp;M</td>\n      <td>NaN</td>\n      <td>NaN</td>\n      <td>NaN</td>\n      <td>NaN</td>\n      <td>NaN</td>\n      <td>NaN</td>\n      <td>NaN</td>\n      <td>NaN</td>\n      <td>NaN</td>\n      <td>NaN</td>\n      <td>NaN</td>\n      <td>NaN</td>\n      <td>NaN</td>\n      <td>NaN</td>\n      <td>NaN</td>\n      <td>NaN</td>\n      <td>NaN</td>\n      <td>NaN</td>\n      <td>NaN</td>\n      <td>NaN</td>\n      <td>NaN</td>\n      <td>NaN</td>\n      <td>NaN</td>\n      <td>NaN</td>\n      <td>NaN</td>\n      <td>NaN</td>\n      <td>NaN</td>\n      <td>NaN</td>\n      <td>NaN</td>\n      <td>NaN</td>\n      <td>NaN</td>\n      <td>NaN</td>\n      <td>NaN</td>\n      <td>NaN</td>\n      <td>NaN</td>\n      <td>NaN</td>\n      <td>NaN</td>\n      <td>NaN</td>\n      <td>NaN</td>\n      <td>NaN</td>\n      <td>NaN</td>\n      <td>NaN</td>\n      <td>NaN</td>\n      <td>NaN</td>\n      <td>NaN</td>\n      <td>NaN</td>\n      <td>NaN</td>\n      <td>NaN</td>\n      <td>NaN</td>\n      <td>NaN</td>\n      <td>NaN</td>\n      <td>NaN</td>\n      <td>NaN</td>\n      <td>NaN</td>\n      <td>NaN</td>\n      <td>NaN</td>\n      <td>NaN</td>\n      <td>NaN</td>\n      <td>NaN</td>\n      <td>NaN</td>\n      <td>NaN</td>\n      <td>NaN</td>\n      <td>NaN</td>\n      <td>NaN</td>\n      <td>NaN</td>\n      <td>NaN</td>\n      <td>NaN</td>\n      <td>NaN</td>\n      <td>NaN</td>\n      <td>NaN</td>\n      <td>NaN</td>\n      <td>NaN</td>\n      <td>NaN</td>\n      <td>NaN</td>\n      <td>NaN</td>\n    </tr>\n    <tr>\n      <th>33778</th>\n      <th>4415</th>\n      <td>NaN</td>\n      <td>NaN</td>\n      <td>NaN</td>\n      <td>NaN</td>\n      <td>NaN</td>\n      <td>NaN</td>\n      <td>NaN</td>\n      <td>NaN</td>\n      <td>NaN</td>\n      <td>NaN</td>\n      <td>NaN</td>\n      <td>NaN</td>\n      <td>NaN</td>\n      <td>BR</td>\n      <td>NaN</td>\n      <td>NaN</td>\n      <td>NaN</td>\n      <td>NaN</td>\n      <td>NaN</td>\n      <td>NaN</td>\n      <td>NaN</td>\n      <td>NaN</td>\n      <td>NaN</td>\n      <td>NaN</td>\n      <td>NaN</td>\n      <td>NaN</td>\n      <td>NaN</td>\n      <td>NaN</td>\n      <td>NaN</td>\n      <td>NaN</td>\n      <td>NaN</td>\n      <td>NaN</td>\n      <td>NaN</td>\n      <td>NaN</td>\n      <td>NaN</td>\n      <td>NaN</td>\n      <td>NaN</td>\n      <td>NaN</td>\n      <td>NaN</td>\n      <td>NaN</td>\n      <td>NaN</td>\n      <td>NaN</td>\n      <td>NaN</td>\n      <td>NaN</td>\n      <td>NaN</td>\n      <td>NaN</td>\n      <td>NaN</td>\n      <td>NaN</td>\n      <td>NaN</td>\n      <td>NaN</td>\n      <td>NaN</td>\n      <td>NaN</td>\n      <td>NaN</td>\n      <td>NaN</td>\n      <td>NaN</td>\n      <td>NaN</td>\n      <td>NaN</td>\n      <td>NaN</td>\n      <td>NaN</td>\n      <td>NaN</td>\n      <td>NaN</td>\n      <td>NaN</td>\n      <td>NaN</td>\n      <td>NaN</td>\n      <td>NaN</td>\n      <td>NaN</td>\n      <td>NaN</td>\n      <td>NaN</td>\n      <td>NaN</td>\n      <td>NaN</td>\n      <td>NaN</td>\n      <td>NaN</td>\n      <td>NaN</td>\n      <td>NaN</td>\n      <td>NaN</td>\n      <td>NaN</td>\n      <td>NaN</td>\n      <td>NaN</td>\n    </tr>\n    <tr>\n      <th>33779</th>\n      <th>174</th>\n      <td>NaN</td>\n      <td>NaN</td>\n      <td>NaN</td>\n      <td>NaN</td>\n      <td>NaN</td>\n      <td>NaN</td>\n      <td>NaN</td>\n      <td>NaN</td>\n      <td>NaN</td>\n      <td>NaN</td>\n      <td>NaN</td>\n      <td>NaN</td>\n      <td>NaN</td>\n      <td>NaN</td>\n      <td>NaN</td>\n      <td>NaN</td>\n      <td>NaN</td>\n      <td>NaN</td>\n      <td>NaN</td>\n      <td>NaN</td>\n      <td>NaN</td>\n      <td>NaN</td>\n      <td>NaN</td>\n      <td>NaN</td>\n      <td>NaN</td>\n      <td>NaN</td>\n      <td>NaN</td>\n      <td>NaN</td>\n      <td>NaN</td>\n      <td>NaN</td>\n      <td>NaN</td>\n      <td>NaN</td>\n      <td>NaN</td>\n      <td>NaN</td>\n      <td>NaN</td>\n      <td>NaN</td>\n      <td>NaN</td>\n      <td>ugg</td>\n      <td>NaN</td>\n      <td>NaN</td>\n      <td>NaN</td>\n      <td>NaN</td>\n      <td>NaN</td>\n      <td>NaN</td>\n      <td>NaN</td>\n      <td>NaN</td>\n      <td>NaN</td>\n      <td>NaN</td>\n      <td>NaN</td>\n      <td>NaN</td>\n      <td>NaN</td>\n      <td>NaN</td>\n      <td>NaN</td>\n      <td>NaN</td>\n      <td>NaN</td>\n      <td>NaN</td>\n      <td>NaN</td>\n      <td>NaN</td>\n      <td>NaN</td>\n      <td>NaN</td>\n      <td>NaN</td>\n      <td>NaN</td>\n      <td>NaN</td>\n      <td>NaN</td>\n      <td>NaN</td>\n      <td>NaN</td>\n      <td>NaN</td>\n      <td>NaN</td>\n      <td>NaN</td>\n      <td>NaN</td>\n      <td>NaN</td>\n      <td>NaN</td>\n      <td>NaN</td>\n      <td>NaN</td>\n      <td>NaN</td>\n      <td>NaN</td>\n      <td>NaN</td>\n      <td>NaN</td>\n    </tr>\n  </tbody>\n</table>\n<p>5296 rows × 78 columns</p>\n</div>"
     },
     "metadata": {},
     "execution_count": 8
    }
   ],
   "source": [
    "pd.set_option(\"display.max_rows\",50, \"display.max_columns\", None)\n",
    "df2"
   ]
  },
  {
   "cell_type": "code",
   "execution_count": 11,
   "metadata": {},
   "outputs": [
    {
     "output_type": "execute_result",
     "data": {
      "text/plain": [
       " Uniqlo       394\n",
       "\\nUniqlo      113\n",
       " Uniqlo        97\n",
       "Uniqlo         82\n",
       " uniqlo        79\n",
       "uniqlo         72\n",
       " Uniqlo\\n      60\n",
       " uniqlo        52\n",
       "Uniqlo         35\n",
       "\\nUniqlo       20\n",
       " uniqlo\\n      15\n",
       "\\nuniqlo       12\n",
       "\\nuniqlo        9\n",
       "uniqlo          8\n",
       "\\nUniqlo\\n      8\n",
       "\\tUniqlo\\n      4\n",
       "\\tUniqlo        4\n",
       "Uniqlo\\n        4\n",
       "\\nuniqlo\\n      3\n",
       "\\tuniqlo        2\n",
       "\\tuniqlo\\n      2\n",
       "uniqlo\\n        2\n",
       "Name: 0, dtype: int64"
      ]
     },
     "metadata": {},
     "execution_count": 11
    }
   ],
   "source": [
    "df2[0].value_counts()"
   ]
  },
  {
   "cell_type": "code",
   "execution_count": null,
   "metadata": {},
   "outputs": [],
   "source": []
  }
 ]
}