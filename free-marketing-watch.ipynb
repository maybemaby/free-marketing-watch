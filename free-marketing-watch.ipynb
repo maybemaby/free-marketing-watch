{
 "metadata": {
  "language_info": {
   "codemirror_mode": {
    "name": "ipython",
    "version": 3
   },
   "file_extension": ".py",
   "mimetype": "text/x-python",
   "name": "python",
   "nbconvert_exporter": "python",
   "pygments_lexer": "ipython3",
   "version": "3.9.0-final"
  },
  "orig_nbformat": 2,
  "kernelspec": {
   "name": "python3",
   "display_name": "Python 3.9.0 64-bit",
   "metadata": {
    "interpreter": {
     "hash": "953b979ecb4103b2c8c020f40a63251d1e5de17f2650210ecad39a0fab476cbf"
    }
   }
  }
 },
 "nbformat": 4,
 "nbformat_minor": 2,
 "cells": [
  {
   "source": [
    "## free-marketing-watch\n",
    "Search social media for mentions of brands and collect the comments/tweets/etc.\n",
    "Count mentions of each and perform sentiment analysis on the strings."
   ],
   "cell_type": "markdown",
   "metadata": {}
  },
  {
   "cell_type": "code",
   "execution_count": 1,
   "metadata": {},
   "outputs": [],
   "source": [
    "import requests, json, time\n",
    "import pandas as pd\n",
    "import matplotlib as plt\n",
    "import numpy as np\n",
    "from pathlib import Path\n",
    "from brands import fashionlist"
   ]
  },
  {
   "source": [
    "Now to get the comments data, put it in a dataframe, and clean the data to get what we want."
   ],
   "cell_type": "markdown",
   "metadata": {}
  },
  {
   "cell_type": "code",
   "execution_count": 2,
   "metadata": {},
   "outputs": [],
   "source": [
    "def get_comment_info(dataset):\n",
    "    \"\"\"Takes data section of pushshift json and returns list of lists\n",
    "        with comment attributes.\"\"\"\n",
    "    comment_info = []\n",
    "    for comment in dataset:\n",
    "        body = comment['body']\n",
    "        score = comment['score']\n",
    "        id = comment['id']\n",
    "        subredddit = comment['subreddit']\n",
    "        comment_info.append([body,score,id,subredddit])\n",
    "    return comment_info"
   ]
  },
  {
   "cell_type": "code",
   "execution_count": 3,
   "metadata": {},
   "outputs": [],
   "source": [
    "def get_more_data(dataset,brand,subreddit_):\n",
    "    \"\"\"Loop to continue adding comments to list after hitting API limits\"\"\"\n",
    "        \n",
    "    try:\n",
    "        comment_data + get_comment_info(dataset)\n",
    "    except NameError:\n",
    "        comment_data = get_comment_info(dataset)\n",
    "    while len(dataset) > 0:\n",
    "        after = dataset[-1]['created_utc']\n",
    "        pushshift_url = f'https://api.pushshift.io/reddit/search/comment/?q={brand}&subreddit={subreddit_}&after={after}&before=1609459200&size=100&fields=body,score,id,subreddit,created_utc'\n",
    "        r = requests.get(pushshift_url)\n",
    "        try:\n",
    "            data_json = json.loads(r.text)\n",
    "        except:\n",
    "            time.sleep(60)\n",
    "            r = requests.get(pushshift_url)\n",
    "            data_json = json.loads(r.text)\n",
    "        dataset = data_json['data']\n",
    "        try:\n",
    "            comment_data += get_comment_info(dataset)\n",
    "            \n",
    "        except NameError:\n",
    "            pass\n",
    "    return comment_data"
   ]
  },
  {
   "cell_type": "code",
   "execution_count": 4,
   "metadata": {},
   "outputs": [],
   "source": [
    "def pushshift_search(query, subreddit_, startingutc):\n",
    "    \"\"\"Sends request to Pushift api endpoint and retrieves comment data\n",
    "    from starting utc to December 31, 2020 midnight.\n",
    "\n",
    "    Inputs\n",
    "    -------\n",
    "    query: What to search for in comments.\n",
    "    subreddit_: Subreddit being searched under.\n",
    "    startingutc: Starting date-time to search from.\n",
    "    Returns\n",
    "    -------\n",
    "    list of lists: Lists contain comment attributes. ex: [body, score, id, subreddit]\n",
    "    \"\"\"\n",
    "    pushshift_url = f'https://api.pushshift.io/reddit/search/comment/?q={query}&subreddit={subreddit_}&after={startingutc}&before=1609459200&size=100&fields=body,score,id,subreddit,created_utc'\n",
    "    r = requests.get(pushshift_url)\n",
    "    data_json = json.loads(r.text)\n",
    "    data = data_json['data']\n",
    "    comment_info = get_more_data(data,query,subreddit_)\n",
    "    return comment_info"
   ]
  },
  {
   "cell_type": "code",
   "execution_count": 5,
   "metadata": {},
   "outputs": [],
   "source": [
    "def create_comments_df(subreddit_,brandlist):\n",
    "    \"\"\"Returns a pandas df with the information about comments from this year.\n",
    "\n",
    "    Inputs\n",
    "    -----\n",
    "    str: subreddit to be searched, list of brands\n",
    "    Return\n",
    "    ------\n",
    "    Pandas multiIndex dataframe.\n",
    "    \"\"\"\n",
    "    for brand,v in brandlist.items():\n",
    "        # Level 1 for the brand and level 2 for the comment info types\n",
    "        columns = pd.MultiIndex.from_product([[brand],[\"body\",\"score\",\"id\",\"subreddit\"]], names = [\"brand\",\"datatype\"] )\n",
    "        if isinstance(v,list):\n",
    "            comment_info = []\n",
    "            for version in v:\n",
    "                comment_info_part = pushshift_search(version, subreddit_, '1577836800') # January 1st, 2020 at 12:00 AM \n",
    "                comment_info += comment_info_part\n",
    "        # Query comments mentioning the brand in a specified subreddit\n",
    "        elif not isinstance(v,list):\n",
    "            comment_info = pushshift_search(brand, subreddit_, '1577836800')\n",
    "        try:\n",
    "            comments_df = comments_df.join(pd.DataFrame(np.array(comment_info), columns = columns),how = 'outer')\n",
    "        except NameError:\n",
    "            comments_df = pd.DataFrame(np.array(comment_info), columns = columns)\n",
    "        except ValueError:\n",
    "            print(f'No mentions of {brand} found.')\n",
    "    return comments_df"
   ]
  },
  {
   "cell_type": "code",
   "execution_count": 6,
   "metadata": {},
   "outputs": [
    {
     "output_type": "stream",
     "name": "stdout",
     "text": [
      "Wall time: 1min 13s\n"
     ]
    },
    {
     "output_type": "execute_result",
     "data": {
      "text/plain": [
       "brand                                                   Gap                 \\\n",
       "datatype                                               body score       id   \n",
       "0         So for tarters, $200 is not a high price for a...     1  fctgxyt   \n",
       "1         Bonobos are the nicest chinos I own and I’ve t...     1  fcv8ykj   \n",
       "2         F&amp;T is ok, better than most items in the O...     1  fcvionb   \n",
       "3         You're describing multiple issues.\\n\\nBrands d...    21  fcvmtb3   \n",
       "4         What do you guys think about this (gap) denim ...     2  fcyy3cp   \n",
       "...                                                     ...   ...      ...   \n",
       "1456      Yeh seems like Banana Republic is the step up ...     1  ghjx5kx   \n",
       "1457      Gap quality is generally better than Jack &amp...     1  ghjxpws   \n",
       "1458      So what your looking for is really just plaid ...     1  ghm2mki   \n",
       "1459      I just own one pair of Spier pants so not sure...     2  ghmbr56   \n",
       "1460      I don't really know any brands that make this,...     1  ghnculs   \n",
       "\n",
       "brand                        \n",
       "datatype          subreddit  \n",
       "0         malefashionadvice  \n",
       "1         malefashionadvice  \n",
       "2         malefashionadvice  \n",
       "3         malefashionadvice  \n",
       "4         malefashionadvice  \n",
       "...                     ...  \n",
       "1456      malefashionadvice  \n",
       "1457      malefashionadvice  \n",
       "1458      malefashionadvice  \n",
       "1459      malefashionadvice  \n",
       "1460      malefashionadvice  \n",
       "\n",
       "[1461 rows x 4 columns]"
      ],
      "text/html": "<div>\n<style scoped>\n    .dataframe tbody tr th:only-of-type {\n        vertical-align: middle;\n    }\n\n    .dataframe tbody tr th {\n        vertical-align: top;\n    }\n\n    .dataframe thead tr th {\n        text-align: left;\n    }\n</style>\n<table border=\"1\" class=\"dataframe\">\n  <thead>\n    <tr>\n      <th>brand</th>\n      <th colspan=\"4\" halign=\"left\">Gap</th>\n    </tr>\n    <tr>\n      <th>datatype</th>\n      <th>body</th>\n      <th>score</th>\n      <th>id</th>\n      <th>subreddit</th>\n    </tr>\n  </thead>\n  <tbody>\n    <tr>\n      <th>0</th>\n      <td>So for tarters, $200 is not a high price for a...</td>\n      <td>1</td>\n      <td>fctgxyt</td>\n      <td>malefashionadvice</td>\n    </tr>\n    <tr>\n      <th>1</th>\n      <td>Bonobos are the nicest chinos I own and I’ve t...</td>\n      <td>1</td>\n      <td>fcv8ykj</td>\n      <td>malefashionadvice</td>\n    </tr>\n    <tr>\n      <th>2</th>\n      <td>F&amp;amp;T is ok, better than most items in the O...</td>\n      <td>1</td>\n      <td>fcvionb</td>\n      <td>malefashionadvice</td>\n    </tr>\n    <tr>\n      <th>3</th>\n      <td>You're describing multiple issues.\\n\\nBrands d...</td>\n      <td>21</td>\n      <td>fcvmtb3</td>\n      <td>malefashionadvice</td>\n    </tr>\n    <tr>\n      <th>4</th>\n      <td>What do you guys think about this (gap) denim ...</td>\n      <td>2</td>\n      <td>fcyy3cp</td>\n      <td>malefashionadvice</td>\n    </tr>\n    <tr>\n      <th>...</th>\n      <td>...</td>\n      <td>...</td>\n      <td>...</td>\n      <td>...</td>\n    </tr>\n    <tr>\n      <th>1456</th>\n      <td>Yeh seems like Banana Republic is the step up ...</td>\n      <td>1</td>\n      <td>ghjx5kx</td>\n      <td>malefashionadvice</td>\n    </tr>\n    <tr>\n      <th>1457</th>\n      <td>Gap quality is generally better than Jack &amp;amp...</td>\n      <td>1</td>\n      <td>ghjxpws</td>\n      <td>malefashionadvice</td>\n    </tr>\n    <tr>\n      <th>1458</th>\n      <td>So what your looking for is really just plaid ...</td>\n      <td>1</td>\n      <td>ghm2mki</td>\n      <td>malefashionadvice</td>\n    </tr>\n    <tr>\n      <th>1459</th>\n      <td>I just own one pair of Spier pants so not sure...</td>\n      <td>2</td>\n      <td>ghmbr56</td>\n      <td>malefashionadvice</td>\n    </tr>\n    <tr>\n      <th>1460</th>\n      <td>I don't really know any brands that make this,...</td>\n      <td>1</td>\n      <td>ghnculs</td>\n      <td>malefashionadvice</td>\n    </tr>\n  </tbody>\n</table>\n<p>1461 rows × 4 columns</p>\n</div>"
     },
     "metadata": {},
     "execution_count": 6
    }
   ],
   "source": [
    "%%time\n",
    "brandlist = fashionlist\n",
    "subreddit = \"malefashionadvice\"\n",
    "comments_df = create_comments_df(subreddit,brandlist)\n",
    "comments_df"
   ]
  },
  {
   "source": [
    "Run to export the df to csv. Careful about overwriting. Use the mode = 'a' line to add to an existing file.\n"
   ],
   "cell_type": "markdown",
   "metadata": {}
  },
  {
   "cell_type": "code",
   "execution_count": 6,
   "metadata": {},
   "outputs": [],
   "source": [
    "p = Path.cwd() / 'data' / 'pushshiftdf.csv'\n",
    "comments_df.to_csv(path_or_buf = p)\n",
    "#df1.to_csv(path_or_buf = p, mode = 'a', header=False)"
   ]
  },
  {
   "cell_type": "code",
   "execution_count": 9,
   "metadata": {},
   "outputs": [
    {
     "output_type": "execute_result",
     "data": {
      "text/plain": [
       "brand                                                Uniqlo                 \\\n",
       "datatype                                               body score       id   \n",
       "0         Sorry for being a capitalist scum but uniqlo U...     1  fcoskn4   \n",
       "1         Thanks. I think how it drapes is really import...     1  fcoupys   \n",
       "2         I would buy my black vnecks from other places ...     1  fcouxki   \n",
       "3         Not all of Uniqlo's cotton comes from Xinjiang...     1  fcoylho   \n",
       "4         I guess I've been boycotting Uniqlo because I'...     1  fcpabsq   \n",
       "...                                                     ...   ...      ...   \n",
       "5948      Sweatpants from uniqlo\\n\\nT shirt from homage\\...     1  ghk6uff   \n",
       "5949      Camoshita jacket, Uniqlo merino wool longsleev...     1  ghkwr88   \n",
       "5950      So what your looking for is really just plaid ...     1  ghm2mki   \n",
       "5951      Was that you asking for advice? I just read yo...     1  ghmby1w   \n",
       "5952      Not that I disagree, but I feel like much of M...     4  ghn1fti   \n",
       "\n",
       "brand                        \\\n",
       "datatype          subreddit   \n",
       "0         malefashionadvice   \n",
       "1         malefashionadvice   \n",
       "2         malefashionadvice   \n",
       "3         malefashionadvice   \n",
       "4         malefashionadvice   \n",
       "...                     ...   \n",
       "5948      malefashionadvice   \n",
       "5949      malefashionadvice   \n",
       "5950      malefashionadvice   \n",
       "5951      malefashionadvice   \n",
       "5952      malefashionadvice   \n",
       "\n",
       "brand                                                J.Crew                 \\\n",
       "datatype                                               body score       id   \n",
       "0         Happy new year!\\n\\nI was wondering if there ex...   1.0  fcp6bdl   \n",
       "1         What is your budget? Wool coats generally aren...   1.0  fcrnqfn   \n",
       "2         I think that’s part of the reason why the cost...   1.0  fcrwp27   \n",
       "3         Fashion Scavenger Hunt: Tracking Down Harry St...   1.0  fcsjt1t   \n",
       "4         Try the sidebar.  There’s is a bunch of thread...   1.0  fcslz10   \n",
       "...                                                     ...   ...      ...   \n",
       "5948                                                    NaN   NaN      NaN   \n",
       "5949                                                    NaN   NaN      NaN   \n",
       "5950                                                    NaN   NaN      NaN   \n",
       "5951                                                    NaN   NaN      NaN   \n",
       "5952                                                    NaN   NaN      NaN   \n",
       "\n",
       "brand                        \\\n",
       "datatype          subreddit   \n",
       "0         malefashionadvice   \n",
       "1         malefashionadvice   \n",
       "2         malefashionadvice   \n",
       "3         malefashionadvice   \n",
       "4         malefashionadvice   \n",
       "...                     ...   \n",
       "5948                    NaN   \n",
       "5949                    NaN   \n",
       "5950                    NaN   \n",
       "5951                    NaN   \n",
       "5952                    NaN   \n",
       "\n",
       "brand                                                Costco                 \\\n",
       "datatype                                               body score       id   \n",
       "0         (All prices CAD)\\n\\nJanuary - NB 574s ($80) ED...   4.0  fdkhsc7   \n",
       "1         Those Woolrich socks are borderline fraudulent...   1.0  fdrqvqr   \n",
       "2         They are. Them and Kirkland signature from Cos...   1.0  fdyjwik   \n",
       "3         Honestly, Costco Kirkland is probably the best...   1.0  fecbcxx   \n",
       "4         Hands Beefy and Kirkland have some great heavy...   1.0  ff6x1il   \n",
       "...                                                     ...   ...      ...   \n",
       "5948                                                    NaN   NaN      NaN   \n",
       "5949                                                    NaN   NaN      NaN   \n",
       "5950                                                    NaN   NaN      NaN   \n",
       "5951                                                    NaN   NaN      NaN   \n",
       "5952                                                    NaN   NaN      NaN   \n",
       "\n",
       "brand                        \n",
       "datatype          subreddit  \n",
       "0         malefashionadvice  \n",
       "1         malefashionadvice  \n",
       "2         malefashionadvice  \n",
       "3         malefashionadvice  \n",
       "4         malefashionadvice  \n",
       "...                     ...  \n",
       "5948                    NaN  \n",
       "5949                    NaN  \n",
       "5950                    NaN  \n",
       "5951                    NaN  \n",
       "5952                    NaN  \n",
       "\n",
       "[5953 rows x 12 columns]"
      ],
      "text/html": "<div>\n<style scoped>\n    .dataframe tbody tr th:only-of-type {\n        vertical-align: middle;\n    }\n\n    .dataframe tbody tr th {\n        vertical-align: top;\n    }\n\n    .dataframe thead tr th {\n        text-align: left;\n    }\n</style>\n<table border=\"1\" class=\"dataframe\">\n  <thead>\n    <tr>\n      <th>brand</th>\n      <th colspan=\"4\" halign=\"left\">Uniqlo</th>\n      <th colspan=\"4\" halign=\"left\">J.Crew</th>\n      <th colspan=\"4\" halign=\"left\">Costco</th>\n    </tr>\n    <tr>\n      <th>datatype</th>\n      <th>body</th>\n      <th>score</th>\n      <th>id</th>\n      <th>subreddit</th>\n      <th>body</th>\n      <th>score</th>\n      <th>id</th>\n      <th>subreddit</th>\n      <th>body</th>\n      <th>score</th>\n      <th>id</th>\n      <th>subreddit</th>\n    </tr>\n  </thead>\n  <tbody>\n    <tr>\n      <th>0</th>\n      <td>Sorry for being a capitalist scum but uniqlo U...</td>\n      <td>1</td>\n      <td>fcoskn4</td>\n      <td>malefashionadvice</td>\n      <td>Happy new year!\\n\\nI was wondering if there ex...</td>\n      <td>1.0</td>\n      <td>fcp6bdl</td>\n      <td>malefashionadvice</td>\n      <td>(All prices CAD)\\n\\nJanuary - NB 574s ($80) ED...</td>\n      <td>4.0</td>\n      <td>fdkhsc7</td>\n      <td>malefashionadvice</td>\n    </tr>\n    <tr>\n      <th>1</th>\n      <td>Thanks. I think how it drapes is really import...</td>\n      <td>1</td>\n      <td>fcoupys</td>\n      <td>malefashionadvice</td>\n      <td>What is your budget? Wool coats generally aren...</td>\n      <td>1.0</td>\n      <td>fcrnqfn</td>\n      <td>malefashionadvice</td>\n      <td>Those Woolrich socks are borderline fraudulent...</td>\n      <td>1.0</td>\n      <td>fdrqvqr</td>\n      <td>malefashionadvice</td>\n    </tr>\n    <tr>\n      <th>2</th>\n      <td>I would buy my black vnecks from other places ...</td>\n      <td>1</td>\n      <td>fcouxki</td>\n      <td>malefashionadvice</td>\n      <td>I think that’s part of the reason why the cost...</td>\n      <td>1.0</td>\n      <td>fcrwp27</td>\n      <td>malefashionadvice</td>\n      <td>They are. Them and Kirkland signature from Cos...</td>\n      <td>1.0</td>\n      <td>fdyjwik</td>\n      <td>malefashionadvice</td>\n    </tr>\n    <tr>\n      <th>3</th>\n      <td>Not all of Uniqlo's cotton comes from Xinjiang...</td>\n      <td>1</td>\n      <td>fcoylho</td>\n      <td>malefashionadvice</td>\n      <td>Fashion Scavenger Hunt: Tracking Down Harry St...</td>\n      <td>1.0</td>\n      <td>fcsjt1t</td>\n      <td>malefashionadvice</td>\n      <td>Honestly, Costco Kirkland is probably the best...</td>\n      <td>1.0</td>\n      <td>fecbcxx</td>\n      <td>malefashionadvice</td>\n    </tr>\n    <tr>\n      <th>4</th>\n      <td>I guess I've been boycotting Uniqlo because I'...</td>\n      <td>1</td>\n      <td>fcpabsq</td>\n      <td>malefashionadvice</td>\n      <td>Try the sidebar.  There’s is a bunch of thread...</td>\n      <td>1.0</td>\n      <td>fcslz10</td>\n      <td>malefashionadvice</td>\n      <td>Hands Beefy and Kirkland have some great heavy...</td>\n      <td>1.0</td>\n      <td>ff6x1il</td>\n      <td>malefashionadvice</td>\n    </tr>\n    <tr>\n      <th>...</th>\n      <td>...</td>\n      <td>...</td>\n      <td>...</td>\n      <td>...</td>\n      <td>...</td>\n      <td>...</td>\n      <td>...</td>\n      <td>...</td>\n      <td>...</td>\n      <td>...</td>\n      <td>...</td>\n      <td>...</td>\n    </tr>\n    <tr>\n      <th>5948</th>\n      <td>Sweatpants from uniqlo\\n\\nT shirt from homage\\...</td>\n      <td>1</td>\n      <td>ghk6uff</td>\n      <td>malefashionadvice</td>\n      <td>NaN</td>\n      <td>NaN</td>\n      <td>NaN</td>\n      <td>NaN</td>\n      <td>NaN</td>\n      <td>NaN</td>\n      <td>NaN</td>\n      <td>NaN</td>\n    </tr>\n    <tr>\n      <th>5949</th>\n      <td>Camoshita jacket, Uniqlo merino wool longsleev...</td>\n      <td>1</td>\n      <td>ghkwr88</td>\n      <td>malefashionadvice</td>\n      <td>NaN</td>\n      <td>NaN</td>\n      <td>NaN</td>\n      <td>NaN</td>\n      <td>NaN</td>\n      <td>NaN</td>\n      <td>NaN</td>\n      <td>NaN</td>\n    </tr>\n    <tr>\n      <th>5950</th>\n      <td>So what your looking for is really just plaid ...</td>\n      <td>1</td>\n      <td>ghm2mki</td>\n      <td>malefashionadvice</td>\n      <td>NaN</td>\n      <td>NaN</td>\n      <td>NaN</td>\n      <td>NaN</td>\n      <td>NaN</td>\n      <td>NaN</td>\n      <td>NaN</td>\n      <td>NaN</td>\n    </tr>\n    <tr>\n      <th>5951</th>\n      <td>Was that you asking for advice? I just read yo...</td>\n      <td>1</td>\n      <td>ghmby1w</td>\n      <td>malefashionadvice</td>\n      <td>NaN</td>\n      <td>NaN</td>\n      <td>NaN</td>\n      <td>NaN</td>\n      <td>NaN</td>\n      <td>NaN</td>\n      <td>NaN</td>\n      <td>NaN</td>\n    </tr>\n    <tr>\n      <th>5952</th>\n      <td>Not that I disagree, but I feel like much of M...</td>\n      <td>4</td>\n      <td>ghn1fti</td>\n      <td>malefashionadvice</td>\n      <td>NaN</td>\n      <td>NaN</td>\n      <td>NaN</td>\n      <td>NaN</td>\n      <td>NaN</td>\n      <td>NaN</td>\n      <td>NaN</td>\n      <td>NaN</td>\n    </tr>\n  </tbody>\n</table>\n<p>5953 rows × 12 columns</p>\n</div>"
     },
     "metadata": {},
     "execution_count": 9
    }
   ],
   "source": [
    "p = Path.cwd() / 'data' / 'pushshiftdf.csv'\n",
    "df = pd.read_csv(p, index_col=0, header=[0,1])\n",
    "df"
   ]
  },
  {
   "source": [
    "If you prefer pickling over csv, use these cells for IO"
   ],
   "cell_type": "markdown",
   "metadata": {}
  },
  {
   "cell_type": "code",
   "execution_count": 7,
   "metadata": {},
   "outputs": [],
   "source": [
    "p = Path.cwd() / 'data' / 'pushshiftdf.pkl'\n",
    "comments_df.to_pickle(path = p)"
   ]
  },
  {
   "cell_type": "code",
   "execution_count": null,
   "metadata": {},
   "outputs": [],
   "source": [
    "df = pd.read_pickle(filepath_or_buffer=p)"
   ]
  }
 ]
}