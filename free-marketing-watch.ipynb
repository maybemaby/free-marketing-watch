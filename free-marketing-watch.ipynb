{
 "metadata": {
  "language_info": {
   "codemirror_mode": {
    "name": "ipython",
    "version": 3
   },
   "file_extension": ".py",
   "mimetype": "text/x-python",
   "name": "python",
   "nbconvert_exporter": "python",
   "pygments_lexer": "ipython3",
   "version": "3.9.0-final"
  },
  "orig_nbformat": 2,
  "kernelspec": {
   "name": "python3",
   "display_name": "Python 3.9.0 64-bit",
   "metadata": {
    "interpreter": {
     "hash": "953b979ecb4103b2c8c020f40a63251d1e5de17f2650210ecad39a0fab476cbf"
    }
   }
  }
 },
 "nbformat": 4,
 "nbformat_minor": 2,
 "cells": [
  {
   "source": [
    "## free-marketing-watch\n",
    "Search social media for mentions of brands and collect the comments/tweets/etc.\n",
    "Count mentions of each and perform sentiment analysis on the strings."
   ],
   "cell_type": "markdown",
   "metadata": {}
  },
  {
   "cell_type": "code",
   "execution_count": 1,
   "metadata": {},
   "outputs": [],
   "source": [
    "import praw\n",
    "import pandas as pd\n",
    "from secrets import *\n",
    "from pathlib import Path\n",
    "from brands import fashion\n",
    "import re"
   ]
  },
  {
   "cell_type": "code",
   "execution_count": 2,
   "metadata": {},
   "outputs": [],
   "source": [
    "reddit = praw.Reddit(client_id=client_id,\n",
    "               client_secret=client_secret,\n",
    "               user_agent=user_agent)"
   ]
  },
  {
   "source": [
    "Now to get the comments data, put it in a dataframe, and clean the data to get what we want."
   ],
   "cell_type": "markdown",
   "metadata": {}
  },
  {
   "cell_type": "code",
   "execution_count": 3,
   "metadata": {},
   "outputs": [],
   "source": [
    "def create_comments_df(subreddit_):\n",
    "    \"\"\"Returns a pandas df with the information about comments from this year.\n",
    "\n",
    "    Inputs\n",
    "    -----\n",
    "    str: subreddit to be searched.\n",
    "    Return\n",
    "    ------\n",
    "    Pandas dataframe with all the data from the praw object.m\n",
    "    \"\"\"\n",
    "    subreddit = reddit.subreddit(subreddit_)\n",
    "    submission_list = subreddit.search(\n",
    "        'WAYWT',sort='new', time_filter=\"year\", limit=1000\n",
    "    )  # generator of submissions in the subreddit\n",
    "    comment_list = []\n",
    "    for submission in submission_list:\n",
    "        submission.comments.replace_more(limit=0)\n",
    "        for comment in submission.comments.list():\n",
    "            comment_list.append(comment)\n",
    "\n",
    "    df = pd.DataFrame([vars(comment) for comment in comment_list])\n",
    "    df2 = df.loc[:,['link_id','id','score','body']]\n",
    "    df2['Subreddit'] = subreddit_\n",
    "    return df2\n"
   ]
  },
  {
   "cell_type": "code",
   "execution_count": 4,
   "metadata": {},
   "outputs": [],
   "source": [
    "def brand_check(df,brandlist):\n",
    "    \"\"\"Checks comment body against a list of brands to see if it mentions any.\n",
    "       Adds what brand was found if any in the brands column.\n",
    "       \n",
    "       Inputs\n",
    "       ------\n",
    "       Dataframe you will search over and a list of brands in a separate file. \n",
    "       Return\n",
    "       ------\n",
    "       Dataframe with column indicating what brand was found in the values.\n",
    "       \"\"\"\n",
    "\n",
    "    df2 = df.body.str.extractall(pat=brandlist, flags=re.VERBOSE)\n",
    "    df2.dropna(axis=0,how='all',inplace=True)\n",
    "    return df2"
   ]
  },
  {
   "source": [
    "### This takes a long time, probably around 30 minutes per 100,000 comments."
   ],
   "cell_type": "markdown",
   "metadata": {}
  },
  {
   "cell_type": "code",
   "execution_count": null,
   "metadata": {},
   "outputs": [],
   "source": [
    "df1 = create_comments_df('femalefashionadvice')\n",
    "df1"
   ]
  },
  {
   "source": [
    "Run to export the df to csv. Careful about overwriting. Use the mode = 'a' line to add to an existing file.\n"
   ],
   "cell_type": "markdown",
   "metadata": {}
  },
  {
   "cell_type": "code",
   "execution_count": null,
   "metadata": {},
   "outputs": [],
   "source": [
    "p = Path.cwd() / 'data' / 'waywtdf.csv'\n",
    "#df1.to_csv(path_or_buf = p)\n",
    "df1.to_csv(path_or_buf = p, mode = 'a', header=False)"
   ]
  },
  {
   "cell_type": "code",
   "execution_count": 5,
   "metadata": {},
   "outputs": [
    {
     "output_type": "execute_result",
     "data": {
      "text/plain": [
       "       Unnamed: 0    link_id       id  score  \\\n",
       "0               0  t3_klxncy  ghc7s6s     12   \n",
       "1               1  t3_klxncy  ghbh5m6      4   \n",
       "2               2  t3_klxncy  ghczbnz     11   \n",
       "3               3  t3_klxncy  ghdw1as      3   \n",
       "4               4  t3_klxncy  ghcr9kf      2   \n",
       "...           ...        ...      ...    ...   \n",
       "33802       13370  t3_eif7u5  fcrvhlu      3   \n",
       "33803       13371  t3_eif7u5  fct07im      1   \n",
       "33804       13372  t3_eif7u5  fct28pu      5   \n",
       "33805       13373  t3_eif7u5  fct406p      2   \n",
       "33806       13374  t3_eif7u5  fctdpke      3   \n",
       "\n",
       "                                                    body            Subreddit  \n",
       "0      Really like the crooklyn hat and Santa coat gu...    malefashionadvice  \n",
       "1      Thank you to everyone who participated [in yes...    malefashionadvice  \n",
       "2      Finally a real and unbiased member of the publ...    malefashionadvice  \n",
       "3      I believe that's Frank Rossitano. Yeah, probab...    malefashionadvice  \n",
       "4      Add funny to that list. What a freaking all star.    malefashionadvice  \n",
       "...                                                  ...                  ...  \n",
       "33802  thank you! i think i got it at hot topic many ...  femalefashionadvice  \n",
       "33803  Hahaha I did not! Class of '09 in NC, but say ...  femalefashionadvice  \n",
       "33804  I will! Your aesthetic reminds me of her, too,...  femalefashionadvice  \n",
       "33805  a solid aspiration! i wonder if she still carr...  femalefashionadvice  \n",
       "33806  Oh, I hope so. The last I heard of her, she wa...  femalefashionadvice  \n",
       "\n",
       "[33807 rows x 6 columns]"
      ],
      "text/html": "<div>\n<style scoped>\n    .dataframe tbody tr th:only-of-type {\n        vertical-align: middle;\n    }\n\n    .dataframe tbody tr th {\n        vertical-align: top;\n    }\n\n    .dataframe thead th {\n        text-align: right;\n    }\n</style>\n<table border=\"1\" class=\"dataframe\">\n  <thead>\n    <tr style=\"text-align: right;\">\n      <th></th>\n      <th>Unnamed: 0</th>\n      <th>link_id</th>\n      <th>id</th>\n      <th>score</th>\n      <th>body</th>\n      <th>Subreddit</th>\n    </tr>\n  </thead>\n  <tbody>\n    <tr>\n      <th>0</th>\n      <td>0</td>\n      <td>t3_klxncy</td>\n      <td>ghc7s6s</td>\n      <td>12</td>\n      <td>Really like the crooklyn hat and Santa coat gu...</td>\n      <td>malefashionadvice</td>\n    </tr>\n    <tr>\n      <th>1</th>\n      <td>1</td>\n      <td>t3_klxncy</td>\n      <td>ghbh5m6</td>\n      <td>4</td>\n      <td>Thank you to everyone who participated [in yes...</td>\n      <td>malefashionadvice</td>\n    </tr>\n    <tr>\n      <th>2</th>\n      <td>2</td>\n      <td>t3_klxncy</td>\n      <td>ghczbnz</td>\n      <td>11</td>\n      <td>Finally a real and unbiased member of the publ...</td>\n      <td>malefashionadvice</td>\n    </tr>\n    <tr>\n      <th>3</th>\n      <td>3</td>\n      <td>t3_klxncy</td>\n      <td>ghdw1as</td>\n      <td>3</td>\n      <td>I believe that's Frank Rossitano. Yeah, probab...</td>\n      <td>malefashionadvice</td>\n    </tr>\n    <tr>\n      <th>4</th>\n      <td>4</td>\n      <td>t3_klxncy</td>\n      <td>ghcr9kf</td>\n      <td>2</td>\n      <td>Add funny to that list. What a freaking all star.</td>\n      <td>malefashionadvice</td>\n    </tr>\n    <tr>\n      <th>...</th>\n      <td>...</td>\n      <td>...</td>\n      <td>...</td>\n      <td>...</td>\n      <td>...</td>\n      <td>...</td>\n    </tr>\n    <tr>\n      <th>33802</th>\n      <td>13370</td>\n      <td>t3_eif7u5</td>\n      <td>fcrvhlu</td>\n      <td>3</td>\n      <td>thank you! i think i got it at hot topic many ...</td>\n      <td>femalefashionadvice</td>\n    </tr>\n    <tr>\n      <th>33803</th>\n      <td>13371</td>\n      <td>t3_eif7u5</td>\n      <td>fct07im</td>\n      <td>1</td>\n      <td>Hahaha I did not! Class of '09 in NC, but say ...</td>\n      <td>femalefashionadvice</td>\n    </tr>\n    <tr>\n      <th>33804</th>\n      <td>13372</td>\n      <td>t3_eif7u5</td>\n      <td>fct28pu</td>\n      <td>5</td>\n      <td>I will! Your aesthetic reminds me of her, too,...</td>\n      <td>femalefashionadvice</td>\n    </tr>\n    <tr>\n      <th>33805</th>\n      <td>13373</td>\n      <td>t3_eif7u5</td>\n      <td>fct406p</td>\n      <td>2</td>\n      <td>a solid aspiration! i wonder if she still carr...</td>\n      <td>femalefashionadvice</td>\n    </tr>\n    <tr>\n      <th>33806</th>\n      <td>13374</td>\n      <td>t3_eif7u5</td>\n      <td>fctdpke</td>\n      <td>3</td>\n      <td>Oh, I hope so. The last I heard of her, she wa...</td>\n      <td>femalefashionadvice</td>\n    </tr>\n  </tbody>\n</table>\n<p>33807 rows × 6 columns</p>\n</div>"
     },
     "metadata": {},
     "execution_count": 5
    }
   ],
   "source": [
    "p = Path.cwd() / 'data' / 'waywtdf.csv'\n",
    "df = pd.read_csv(p)\n",
    "df"
   ]
  },
  {
   "source": [
    "If you prefer pickling over csv, use these cells for IO"
   ],
   "cell_type": "markdown",
   "metadata": {}
  },
  {
   "cell_type": "code",
   "execution_count": null,
   "metadata": {},
   "outputs": [],
   "source": [
    "p = Path.cwd() / 'data' / 'commentdf.pkl'\n",
    "df.to_pickle(path = p)"
   ]
  },
  {
   "cell_type": "code",
   "execution_count": null,
   "metadata": {},
   "outputs": [],
   "source": [
    "df = pd.read_pickle(filepath_or_buffer=p)"
   ]
  },
  {
   "source": [
    "If you read from CSV it created an extra column so this cell drops it."
   ],
   "cell_type": "markdown",
   "metadata": {}
  },
  {
   "cell_type": "code",
   "execution_count": 6,
   "metadata": {},
   "outputs": [],
   "source": [
    "df = df.drop(columns =['Unnamed: 0'])"
   ]
  },
  {
   "cell_type": "code",
   "execution_count": 7,
   "metadata": {},
   "outputs": [],
   "source": [
    "df2 = brand_check(df,fashion)"
   ]
  },
  {
   "source": [
    "### Drop any columns that didn't find a match."
   ],
   "cell_type": "markdown",
   "metadata": {}
  },
  {
   "cell_type": "code",
   "execution_count": 8,
   "metadata": {},
   "outputs": [
    {
     "output_type": "execute_result",
     "data": {
      "text/plain": [
       "            uniqlo  Gap     HM Levis Carhartt BrooksBrothers Apple Patagonia  \\\n",
       "      match                                                                    \n",
       "20    38       NaN  NaN    NaN   NaN      NaN            NaN   NaN       NaN   \n",
       "64    1119     NaN  NaN    NaN   NaN      NaN            NaN   NaN       NaN   \n",
       "66    114      NaN  NaN    NaN   NaN      NaN            NaN   NaN       NaN   \n",
       "68    310      NaN  NaN    NaN   NaN      NaN            NaN   NaN       NaN   \n",
       "      479      NaN  NaN    NaN   NaN      NaN            NaN   NaN       NaN   \n",
       "...            ...  ...    ...   ...      ...            ...   ...       ...   \n",
       "33773 222      NaN  NaN    NaN   NaN      NaN            NaN   NaN       NaN   \n",
       "33774 1795     NaN  NaN    NaN   NaN      NaN            NaN   NaN       NaN   \n",
       "33777 700      NaN  NaN   H&M    NaN      NaN            NaN   NaN       NaN   \n",
       "33778 4415     NaN  NaN    NaN   NaN      NaN            NaN   NaN       NaN   \n",
       "33801 25       NaN  NaN    NaN   NaN      NaN            NaN   NaN       NaN   \n",
       "\n",
       "            Everlane JCrew Zara Target Vans BananaRepbulic OldNavy  \\\n",
       "      match                                                          \n",
       "20    38         NaN   NaN  NaN    NaN  NaN            NaN     NaN   \n",
       "64    1119       NaN   NaN  NaN    NaN  NaN            NaN     NaN   \n",
       "66    114        NaN   NaN  NaN    NaN  NaN            NaN     NaN   \n",
       "68    310        NaN   NaN  NaN    NaN  NaN            NaN     NaN   \n",
       "      479        NaN   NaN  NaN    NaN  NaN            NaN     NaN   \n",
       "...              ...   ...  ...    ...  ...            ...     ...   \n",
       "33773 222        NaN   NaN  NaN    NaN  NaN            NaN     NaN   \n",
       "33774 1795       NaN   NaN  NaN    NaN  NaN            NaN     NaN   \n",
       "33777 700        NaN   NaN  NaN    NaN  NaN            NaN     NaN   \n",
       "33778 4415       NaN   NaN  NaN    NaN  NaN             BR     NaN   \n",
       "33801 25         NaN   NaN  NaN    NaN  NaN            NaN     NaN   \n",
       "\n",
       "            SaintLaurent Prada CanadaGoose CommonProjects AllendEdmonds Nike  \\\n",
       "      match                                                                    \n",
       "20    38             NaN   NaN         NaN            NaN           NaN  NaN   \n",
       "64    1119           NaN   NaN         NaN            NaN           NaN  NaN   \n",
       "66    114            NaN   NaN         NaN            NaN           NaN  NaN   \n",
       "68    310            NaN   NaN         NaN            NaN           NaN  NaN   \n",
       "      479            NaN   NaN         NaN            NaN           NaN  NaN   \n",
       "...                  ...   ...         ...            ...           ...  ...   \n",
       "33773 222            NaN   NaN         NaN            NaN           NaN  NaN   \n",
       "33774 1795           NaN   NaN         NaN            NaN           NaN  NaN   \n",
       "33777 700            NaN   NaN         NaN            NaN           NaN  NaN   \n",
       "33778 4415           NaN   NaN         NaN            NaN           NaN  NaN   \n",
       "33801 25             NaN   NaN         NaN            NaN           NaN  NaN   \n",
       "\n",
       "            Adidas Abercrombie  Amazon CalvinKlein NorthFace RalphLauren  \\\n",
       "      match                                                                \n",
       "20    38       NaN         NaN     NaN         NaN       NaN         NaN   \n",
       "64    1119     NaN         NaN     NaN         NaN       NaN         NaN   \n",
       "66    114      NaN         NaN     NaN         NaN       NaN         NaN   \n",
       "68    310      NaN         NaN  Amazon         NaN       NaN         NaN   \n",
       "      479      NaN         NaN  Amazon         NaN       NaN         NaN   \n",
       "...            ...         ...     ...         ...       ...         ...   \n",
       "33773 222      NaN         NaN     NaN         NaN       NaN         NaN   \n",
       "33774 1795     NaN         NaN     NaN         NaN       NaN         NaN   \n",
       "33777 700      NaN         NaN     NaN         NaN       NaN         NaN   \n",
       "33778 4415     NaN         NaN     NaN         NaN       NaN         NaN   \n",
       "33801 25       NaN         NaN     NaN         NaN       NaN         NaN   \n",
       "\n",
       "            Lacoste TommyHilfiger Hollister LLBean LouisVuitton TomFord Gucci  \\\n",
       "      match                                                                     \n",
       "20    38        NaN           NaN       NaN    NaN          NaN     NaN   NaN   \n",
       "64    1119      NaN           NaN       NaN    NaN          NaN     NaN   NaN   \n",
       "66    114       NaN           NaN       NaN    NaN          NaN     NaN   NaN   \n",
       "68    310       NaN           NaN       NaN    NaN          NaN     NaN   NaN   \n",
       "      479       NaN           NaN       NaN    NaN          NaN     NaN   NaN   \n",
       "...             ...           ...       ...    ...          ...     ...   ...   \n",
       "33773 222       NaN           NaN       NaN    NaN           LV     NaN   NaN   \n",
       "33774 1795      NaN           NaN       NaN    NaN          NaN     NaN   NaN   \n",
       "33777 700       NaN           NaN       NaN    NaN          NaN     NaN   NaN   \n",
       "33778 4415      NaN           NaN       NaN    NaN          NaN     NaN   NaN   \n",
       "33801 25        NaN           NaN       NaN    NaN          NaN     NaN   NaN   \n",
       "\n",
       "            Burberry AmericanApparel Uggs Express Asket    Birkenstocks  \\\n",
       "      match                                                               \n",
       "20    38         NaN             NaN  NaN     NaN   NaN             NaN   \n",
       "64    1119       NaN             NaN  NaN     NaN   NaN             NaN   \n",
       "66    114        NaN             NaN  NaN     NaN   NaN             NaN   \n",
       "68    310        NaN             NaN  NaN     NaN   NaN             NaN   \n",
       "      479        NaN             NaN  NaN     NaN   NaN             NaN   \n",
       "...              ...             ...  ...     ...   ...             ...   \n",
       "33773 222        NaN             NaN  NaN     NaN   NaN             NaN   \n",
       "33774 1795       NaN             NaN  NaN     NaN   NaN   Birkenstocks    \n",
       "33777 700        NaN             NaN  NaN     NaN   NaN             NaN   \n",
       "33778 4415       NaN             NaN  NaN     NaN   NaN             NaN   \n",
       "33801 25         NaN             NaN  NaN     NaN   NaN             NaN   \n",
       "\n",
       "            ClubMonaco ScotchandSoda NextLevel JCPenney Costco DarnTough  \\\n",
       "      match                                                                \n",
       "20    38           NaN           NaN       NaN      NaN    NaN       NaN   \n",
       "64    1119         NaN           NaN       NaN      NaN    NaN       NaN   \n",
       "66    114          NaN           NaN       NaN      NaN    NaN       NaN   \n",
       "68    310          NaN           NaN       NaN      NaN    NaN       NaN   \n",
       "      479          NaN           NaN       NaN      NaN    NaN       NaN   \n",
       "...                ...           ...       ...      ...    ...       ...   \n",
       "33773 222          NaN           NaN       NaN      NaN    NaN       NaN   \n",
       "33774 1795         NaN           NaN       NaN      NaN    NaN       NaN   \n",
       "33777 700          NaN           NaN       NaN      NaN    NaN       NaN   \n",
       "33778 4415         NaN           NaN       NaN      NaN    NaN       NaN   \n",
       "33801 25           NaN           NaN       NaN      NaN    NaN       NaN   \n",
       "\n",
       "            NorseProjects ReigningChamp NewBalance Frye Yeezy MichaelKors  \\\n",
       "      match                                                                 \n",
       "20    38              NaN           NaN        NaN  NaN   NaN         NaN   \n",
       "64    1119            NaN           NaN        NaN  NaN   NaN         NaN   \n",
       "66    114             NaN           NaN        NaN  NaN   NaN         NaN   \n",
       "68    310             NaN           NaN        NaN  NaN   NaN         NaN   \n",
       "      479             NaN           NaN        NaN  NaN   NaN         NaN   \n",
       "...                   ...           ...        ...  ...   ...         ...   \n",
       "33773 222             NaN           NaN        NaN  NaN   NaN         NaN   \n",
       "33774 1795            NaN           NaN        NaN  NaN   NaN         NaN   \n",
       "33777 700             NaN           NaN        NaN  NaN   NaN         NaN   \n",
       "33778 4415            NaN           NaN        NaN  NaN   NaN         NaN   \n",
       "33801 25              NaN           NaN        NaN  NaN   NaN         NaN   \n",
       "\n",
       "            RedWings Lululemon Marmot  Puma EddieBauer Pendleton ThreeSixteen  \\\n",
       "      match                                                                     \n",
       "20    38         NaN       NaN    NaN  puma        NaN       NaN          NaN   \n",
       "64    1119       NaN       NaN    NaN  Puma        NaN       NaN          NaN   \n",
       "66    114        NaN       NaN    NaN   NaN        NaN       NaN          NaN   \n",
       "68    310        NaN       NaN    NaN   NaN        NaN       NaN          NaN   \n",
       "      479        NaN       NaN    NaN   NaN        NaN       NaN          NaN   \n",
       "...              ...       ...    ...   ...        ...       ...          ...   \n",
       "33773 222        NaN       NaN    NaN   NaN        NaN       NaN          NaN   \n",
       "33774 1795       NaN       NaN    NaN   NaN        NaN       NaN          NaN   \n",
       "33777 700        NaN       NaN    NaN   NaN        NaN       NaN          NaN   \n",
       "33778 4415       NaN       NaN    NaN   NaN        NaN       NaN          NaN   \n",
       "33801 25         NaN       NaN    NaN   NaN        NaN       NaN          NaN   \n",
       "\n",
       "            Bonobos EngineeredGarments Outlier Armani Gildan AmericanEagle  \\\n",
       "      match                                                                  \n",
       "20    38        NaN                NaN     NaN    NaN    NaN           NaN   \n",
       "64    1119      NaN                NaN     NaN    NaN    NaN           NaN   \n",
       "66    114       NaN                NaN     NaN    NaN    NaN           NaN   \n",
       "68    310       NaN                NaN     NaN    NaN    NaN           NaN   \n",
       "      479       NaN                NaN     NaN    NaN    NaN           NaN   \n",
       "...             ...                ...     ...    ...    ...           ...   \n",
       "33773 222       NaN                NaN     NaN    NaN    NaN           NaN   \n",
       "33774 1795      NaN                NaN     NaN    NaN    NaN           NaN   \n",
       "33777 700       NaN                NaN     NaN    NaN    NaN           NaN   \n",
       "33778 4415      NaN                NaN     NaN    NaN    NaN           NaN   \n",
       "33801 25        NaN                NaN     NaN    NaN    NaN           NaN   \n",
       "\n",
       "            Columbia Converse Dockers Balenciaga Juicy Champion LandsEnd  \\\n",
       "      match                                                                \n",
       "20    38         NaN      NaN     NaN        NaN   NaN      NaN      NaN   \n",
       "64    1119       NaN      NaN     NaN        NaN   NaN      NaN      NaN   \n",
       "66    114        NaN      NaN     NaN        NaN   NaN      NaN      NaN   \n",
       "68    310        NaN      NaN     NaN        NaN   NaN      NaN      NaN   \n",
       "      479        NaN      NaN     NaN        NaN   NaN      NaN      NaN   \n",
       "...              ...      ...     ...        ...   ...      ...      ...   \n",
       "33773 222        NaN      NaN     NaN        NaN   NaN      NaN      NaN   \n",
       "33774 1795       NaN      NaN     NaN        NaN   NaN      NaN      NaN   \n",
       "33777 700        NaN      NaN     NaN        NaN   NaN      NaN      NaN   \n",
       "33778 4415       NaN      NaN     NaN        NaN   NaN      NaN      NaN   \n",
       "33801 25         NaN      NaN     NaN        NaN   NaN      NaN      NaN   \n",
       "\n",
       "            Viberg Aldens Clarks ChuckTaylors VictoriaSecret Dickies  \\\n",
       "      match                                                            \n",
       "20    38       NaN    NaN    NaN          NaN            NaN     NaN   \n",
       "64    1119     NaN    NaN    NaN          NaN            NaN     NaN   \n",
       "66    114      NaN    NaN    NaN          NaN            NaN     NaN   \n",
       "68    310      NaN    NaN    NaN          NaN            NaN     NaN   \n",
       "      479      NaN    NaN    NaN          NaN            NaN     NaN   \n",
       "...            ...    ...    ...          ...            ...     ...   \n",
       "33773 222      NaN    NaN    NaN          NaN            NaN     NaN   \n",
       "33774 1795     NaN    NaN    NaN          NaN            NaN     NaN   \n",
       "33777 700      NaN    NaN    NaN          NaN            NaN     NaN   \n",
       "33778 4415     NaN    NaN    NaN          NaN            NaN     NaN   \n",
       "33801 25       NaN    NaN    NaN          NaN            NaN     NaN   \n",
       "\n",
       "            SteveMadden Thrifted    Margiela Visvim Loft AnnTaylor  \\\n",
       "      match                                                          \n",
       "20    38            NaN      NaN         NaN    NaN  NaN       NaN   \n",
       "64    1119          NaN      NaN         NaN    NaN  NaN       NaN   \n",
       "66    114           NaN      NaN   margiela     NaN  NaN       NaN   \n",
       "68    310           NaN      NaN         NaN    NaN  NaN       NaN   \n",
       "      479           NaN      NaN         NaN    NaN  NaN       NaN   \n",
       "...                 ...      ...         ...    ...  ...       ...   \n",
       "33773 222           NaN      NaN         NaN    NaN  NaN       NaN   \n",
       "33774 1795          NaN      NaN         NaN    NaN  NaN       NaN   \n",
       "33777 700           NaN      NaN         NaN    NaN  NaN       NaN   \n",
       "33778 4415          NaN      NaN         NaN    NaN  NaN       NaN   \n",
       "33801 25            NaN      NaN         NaN    NaN  NaN       NaN   \n",
       "\n",
       "            PullsandBears Madewell KennethCole Mango    Modcloth DocMartens  \\\n",
       "      match                                                                   \n",
       "20    38              NaN      NaN         NaN   NaN         NaN        NaN   \n",
       "64    1119            NaN      NaN         NaN   NaN         NaN        NaN   \n",
       "66    114             NaN      NaN         NaN   NaN         NaN        NaN   \n",
       "68    310             NaN      NaN         NaN   NaN         NaN        NaN   \n",
       "      479             NaN      NaN         NaN   NaN         NaN        NaN   \n",
       "...                   ...      ...         ...   ...         ...        ...   \n",
       "33773 222             NaN      NaN         NaN   NaN         NaN        NaN   \n",
       "33774 1795            NaN      NaN         NaN   NaN         NaN        NaN   \n",
       "33777 700             NaN      NaN         NaN   NaN         NaN        NaN   \n",
       "33778 4415            NaN      NaN         NaN   NaN         NaN        NaN   \n",
       "33801 25              NaN      NaN         NaN   NaN   Modcloth         NaN   \n",
       "\n",
       "            KateSpade Stradivarius MarcJacobs Allsaints Primark EileenFisher  \\\n",
       "      match                                                                    \n",
       "20    38          NaN          NaN        NaN       NaN     NaN          NaN   \n",
       "64    1119        NaN          NaN        NaN       NaN     NaN          NaN   \n",
       "66    114         NaN          NaN        NaN       NaN     NaN          NaN   \n",
       "68    310         NaN          NaN        NaN       NaN     NaN          NaN   \n",
       "      479         NaN          NaN        NaN       NaN     NaN          NaN   \n",
       "...               ...          ...        ...       ...     ...          ...   \n",
       "33773 222         NaN          NaN        NaN       NaN     NaN          NaN   \n",
       "33774 1795        NaN          NaN        NaN       NaN     NaN          NaN   \n",
       "33777 700         NaN          NaN        NaN       NaN     NaN          NaN   \n",
       "33778 4415        NaN          NaN        NaN       NaN     NaN          NaN   \n",
       "33801 25          NaN          NaN        NaN       NaN     NaN          NaN   \n",
       "\n",
       "            Aaritzia Topshop Naturalizer SpierandMackay RogueTerritory Muji  \\\n",
       "      match                                                                   \n",
       "20    38         NaN     NaN         NaN            NaN            NaN  NaN   \n",
       "64    1119       NaN     NaN         NaN            NaN            NaN  NaN   \n",
       "66    114        NaN     NaN         NaN            NaN            NaN  NaN   \n",
       "68    310        NaN     NaN         NaN            NaN            NaN  NaN   \n",
       "      479        NaN     NaN         NaN            NaN            NaN  NaN   \n",
       "...              ...     ...         ...            ...            ...  ...   \n",
       "33773 222        NaN     NaN         NaN            NaN            NaN  NaN   \n",
       "33774 1795       NaN     NaN         NaN            NaN            NaN  NaN   \n",
       "33777 700        NaN     NaN         NaN            NaN            NaN  NaN   \n",
       "33778 4415       NaN     NaN         NaN            NaN            NaN  NaN   \n",
       "33801 25         NaN     NaN         NaN            NaN            NaN  NaN   \n",
       "\n",
       "            Arcteryx Paraboots Blundstone StanRays Deveaux Epaulet  \\\n",
       "      match                                                          \n",
       "20    38         NaN       NaN        NaN      NaN     NaN     NaN   \n",
       "64    1119       NaN       NaN        NaN      NaN     NaN     NaN   \n",
       "66    114        NaN       NaN        NaN      NaN     NaN     NaN   \n",
       "68    310        NaN       NaN        NaN      NaN     NaN     NaN   \n",
       "      479        NaN       NaN        NaN      NaN     NaN     NaN   \n",
       "...              ...       ...        ...      ...     ...     ...   \n",
       "33773 222        NaN       NaN        NaN      NaN     NaN     NaN   \n",
       "33774 1795       NaN       NaN        NaN      NaN     NaN     NaN   \n",
       "33777 700        NaN       NaN        NaN      NaN     NaN     NaN   \n",
       "33778 4415       NaN       NaN        NaN      NaN     NaN     NaN   \n",
       "33801 25         NaN       NaN        NaN      NaN     NaN     NaN   \n",
       "\n",
       "            BergsandBergs  ONI GrantStone EvanKinori NakedandFamous Supreme  \\\n",
       "      match                                                                   \n",
       "20    38              NaN  NaN        NaN        NaN            NaN     NaN   \n",
       "64    1119            NaN  NaN        NaN        NaN            NaN     NaN   \n",
       "66    114             NaN  NaN        NaN        NaN            NaN     NaN   \n",
       "68    310             NaN  NaN        NaN        NaN            NaN     NaN   \n",
       "      479             NaN  NaN        NaN        NaN            NaN     NaN   \n",
       "...                   ...  ...        ...        ...            ...     ...   \n",
       "33773 222             NaN  NaN        NaN        NaN            NaN     NaN   \n",
       "33774 1795            NaN  NaN        NaN        NaN            NaN     NaN   \n",
       "33777 700             NaN  NaN        NaN        NaN            NaN     NaN   \n",
       "33778 4415            NaN  NaN        NaN        NaN            NaN     NaN   \n",
       "33801 25              NaN  NaN        NaN        NaN            NaN     NaN   \n",
       "\n",
       "            Drakes  \n",
       "      match         \n",
       "20    38       NaN  \n",
       "64    1119     NaN  \n",
       "66    114      NaN  \n",
       "68    310      NaN  \n",
       "      479      NaN  \n",
       "...            ...  \n",
       "33773 222      NaN  \n",
       "33774 1795     NaN  \n",
       "33777 700      NaN  \n",
       "33778 4415     NaN  \n",
       "33801 25       NaN  \n",
       "\n",
       "[8791 rows x 115 columns]"
      ],
      "text/html": "<div>\n<style scoped>\n    .dataframe tbody tr th:only-of-type {\n        vertical-align: middle;\n    }\n\n    .dataframe tbody tr th {\n        vertical-align: top;\n    }\n\n    .dataframe thead th {\n        text-align: right;\n    }\n</style>\n<table border=\"1\" class=\"dataframe\">\n  <thead>\n    <tr style=\"text-align: right;\">\n      <th></th>\n      <th></th>\n      <th>uniqlo</th>\n      <th>Gap</th>\n      <th>HM</th>\n      <th>Levis</th>\n      <th>Carhartt</th>\n      <th>BrooksBrothers</th>\n      <th>Apple</th>\n      <th>Patagonia</th>\n      <th>Everlane</th>\n      <th>JCrew</th>\n      <th>Zara</th>\n      <th>Target</th>\n      <th>Vans</th>\n      <th>BananaRepbulic</th>\n      <th>OldNavy</th>\n      <th>SaintLaurent</th>\n      <th>Prada</th>\n      <th>CanadaGoose</th>\n      <th>CommonProjects</th>\n      <th>AllendEdmonds</th>\n      <th>Nike</th>\n      <th>Adidas</th>\n      <th>Abercrombie</th>\n      <th>Amazon</th>\n      <th>CalvinKlein</th>\n      <th>NorthFace</th>\n      <th>RalphLauren</th>\n      <th>Lacoste</th>\n      <th>TommyHilfiger</th>\n      <th>Hollister</th>\n      <th>LLBean</th>\n      <th>LouisVuitton</th>\n      <th>TomFord</th>\n      <th>Gucci</th>\n      <th>Burberry</th>\n      <th>AmericanApparel</th>\n      <th>Uggs</th>\n      <th>Express</th>\n      <th>Asket</th>\n      <th>Birkenstocks</th>\n      <th>ClubMonaco</th>\n      <th>ScotchandSoda</th>\n      <th>NextLevel</th>\n      <th>JCPenney</th>\n      <th>Costco</th>\n      <th>DarnTough</th>\n      <th>NorseProjects</th>\n      <th>ReigningChamp</th>\n      <th>NewBalance</th>\n      <th>Frye</th>\n      <th>Yeezy</th>\n      <th>MichaelKors</th>\n      <th>RedWings</th>\n      <th>Lululemon</th>\n      <th>Marmot</th>\n      <th>Puma</th>\n      <th>EddieBauer</th>\n      <th>Pendleton</th>\n      <th>ThreeSixteen</th>\n      <th>Bonobos</th>\n      <th>EngineeredGarments</th>\n      <th>Outlier</th>\n      <th>Armani</th>\n      <th>Gildan</th>\n      <th>AmericanEagle</th>\n      <th>Columbia</th>\n      <th>Converse</th>\n      <th>Dockers</th>\n      <th>Balenciaga</th>\n      <th>Juicy</th>\n      <th>Champion</th>\n      <th>LandsEnd</th>\n      <th>Viberg</th>\n      <th>Aldens</th>\n      <th>Clarks</th>\n      <th>ChuckTaylors</th>\n      <th>VictoriaSecret</th>\n      <th>Dickies</th>\n      <th>SteveMadden</th>\n      <th>Thrifted</th>\n      <th>Margiela</th>\n      <th>Visvim</th>\n      <th>Loft</th>\n      <th>AnnTaylor</th>\n      <th>PullsandBears</th>\n      <th>Madewell</th>\n      <th>KennethCole</th>\n      <th>Mango</th>\n      <th>Modcloth</th>\n      <th>DocMartens</th>\n      <th>KateSpade</th>\n      <th>Stradivarius</th>\n      <th>MarcJacobs</th>\n      <th>Allsaints</th>\n      <th>Primark</th>\n      <th>EileenFisher</th>\n      <th>Aaritzia</th>\n      <th>Topshop</th>\n      <th>Naturalizer</th>\n      <th>SpierandMackay</th>\n      <th>RogueTerritory</th>\n      <th>Muji</th>\n      <th>Arcteryx</th>\n      <th>Paraboots</th>\n      <th>Blundstone</th>\n      <th>StanRays</th>\n      <th>Deveaux</th>\n      <th>Epaulet</th>\n      <th>BergsandBergs</th>\n      <th>ONI</th>\n      <th>GrantStone</th>\n      <th>EvanKinori</th>\n      <th>NakedandFamous</th>\n      <th>Supreme</th>\n      <th>Drakes</th>\n    </tr>\n    <tr>\n      <th></th>\n      <th>match</th>\n      <th></th>\n      <th></th>\n      <th></th>\n      <th></th>\n      <th></th>\n      <th></th>\n      <th></th>\n      <th></th>\n      <th></th>\n      <th></th>\n      <th></th>\n      <th></th>\n      <th></th>\n      <th></th>\n      <th></th>\n      <th></th>\n      <th></th>\n      <th></th>\n      <th></th>\n      <th></th>\n      <th></th>\n      <th></th>\n      <th></th>\n      <th></th>\n      <th></th>\n      <th></th>\n      <th></th>\n      <th></th>\n      <th></th>\n      <th></th>\n      <th></th>\n      <th></th>\n      <th></th>\n      <th></th>\n      <th></th>\n      <th></th>\n      <th></th>\n      <th></th>\n      <th></th>\n      <th></th>\n      <th></th>\n      <th></th>\n      <th></th>\n      <th></th>\n      <th></th>\n      <th></th>\n      <th></th>\n      <th></th>\n      <th></th>\n      <th></th>\n      <th></th>\n      <th></th>\n      <th></th>\n      <th></th>\n      <th></th>\n      <th></th>\n      <th></th>\n      <th></th>\n      <th></th>\n      <th></th>\n      <th></th>\n      <th></th>\n      <th></th>\n      <th></th>\n      <th></th>\n      <th></th>\n      <th></th>\n      <th></th>\n      <th></th>\n      <th></th>\n      <th></th>\n      <th></th>\n      <th></th>\n      <th></th>\n      <th></th>\n      <th></th>\n      <th></th>\n      <th></th>\n      <th></th>\n      <th></th>\n      <th></th>\n      <th></th>\n      <th></th>\n      <th></th>\n      <th></th>\n      <th></th>\n      <th></th>\n      <th></th>\n      <th></th>\n      <th></th>\n      <th></th>\n      <th></th>\n      <th></th>\n      <th></th>\n      <th></th>\n      <th></th>\n      <th></th>\n      <th></th>\n      <th></th>\n      <th></th>\n      <th></th>\n      <th></th>\n      <th></th>\n      <th></th>\n      <th></th>\n      <th></th>\n      <th></th>\n      <th></th>\n      <th></th>\n      <th></th>\n      <th></th>\n      <th></th>\n      <th></th>\n      <th></th>\n      <th></th>\n    </tr>\n  </thead>\n  <tbody>\n    <tr>\n      <th>20</th>\n      <th>38</th>\n      <td>NaN</td>\n      <td>NaN</td>\n      <td>NaN</td>\n      <td>NaN</td>\n      <td>NaN</td>\n      <td>NaN</td>\n      <td>NaN</td>\n      <td>NaN</td>\n      <td>NaN</td>\n      <td>NaN</td>\n      <td>NaN</td>\n      <td>NaN</td>\n      <td>NaN</td>\n      <td>NaN</td>\n      <td>NaN</td>\n      <td>NaN</td>\n      <td>NaN</td>\n      <td>NaN</td>\n      <td>NaN</td>\n      <td>NaN</td>\n      <td>NaN</td>\n      <td>NaN</td>\n      <td>NaN</td>\n      <td>NaN</td>\n      <td>NaN</td>\n      <td>NaN</td>\n      <td>NaN</td>\n      <td>NaN</td>\n      <td>NaN</td>\n      <td>NaN</td>\n      <td>NaN</td>\n      <td>NaN</td>\n      <td>NaN</td>\n      <td>NaN</td>\n      <td>NaN</td>\n      <td>NaN</td>\n      <td>NaN</td>\n      <td>NaN</td>\n      <td>NaN</td>\n      <td>NaN</td>\n      <td>NaN</td>\n      <td>NaN</td>\n      <td>NaN</td>\n      <td>NaN</td>\n      <td>NaN</td>\n      <td>NaN</td>\n      <td>NaN</td>\n      <td>NaN</td>\n      <td>NaN</td>\n      <td>NaN</td>\n      <td>NaN</td>\n      <td>NaN</td>\n      <td>NaN</td>\n      <td>NaN</td>\n      <td>NaN</td>\n      <td>puma</td>\n      <td>NaN</td>\n      <td>NaN</td>\n      <td>NaN</td>\n      <td>NaN</td>\n      <td>NaN</td>\n      <td>NaN</td>\n      <td>NaN</td>\n      <td>NaN</td>\n      <td>NaN</td>\n      <td>NaN</td>\n      <td>NaN</td>\n      <td>NaN</td>\n      <td>NaN</td>\n      <td>NaN</td>\n      <td>NaN</td>\n      <td>NaN</td>\n      <td>NaN</td>\n      <td>NaN</td>\n      <td>NaN</td>\n      <td>NaN</td>\n      <td>NaN</td>\n      <td>NaN</td>\n      <td>NaN</td>\n      <td>NaN</td>\n      <td>NaN</td>\n      <td>NaN</td>\n      <td>NaN</td>\n      <td>NaN</td>\n      <td>NaN</td>\n      <td>NaN</td>\n      <td>NaN</td>\n      <td>NaN</td>\n      <td>NaN</td>\n      <td>NaN</td>\n      <td>NaN</td>\n      <td>NaN</td>\n      <td>NaN</td>\n      <td>NaN</td>\n      <td>NaN</td>\n      <td>NaN</td>\n      <td>NaN</td>\n      <td>NaN</td>\n      <td>NaN</td>\n      <td>NaN</td>\n      <td>NaN</td>\n      <td>NaN</td>\n      <td>NaN</td>\n      <td>NaN</td>\n      <td>NaN</td>\n      <td>NaN</td>\n      <td>NaN</td>\n      <td>NaN</td>\n      <td>NaN</td>\n      <td>NaN</td>\n      <td>NaN</td>\n      <td>NaN</td>\n      <td>NaN</td>\n      <td>NaN</td>\n      <td>NaN</td>\n    </tr>\n    <tr>\n      <th>64</th>\n      <th>1119</th>\n      <td>NaN</td>\n      <td>NaN</td>\n      <td>NaN</td>\n      <td>NaN</td>\n      <td>NaN</td>\n      <td>NaN</td>\n      <td>NaN</td>\n      <td>NaN</td>\n      <td>NaN</td>\n      <td>NaN</td>\n      <td>NaN</td>\n      <td>NaN</td>\n      <td>NaN</td>\n      <td>NaN</td>\n      <td>NaN</td>\n      <td>NaN</td>\n      <td>NaN</td>\n      <td>NaN</td>\n      <td>NaN</td>\n      <td>NaN</td>\n      <td>NaN</td>\n      <td>NaN</td>\n      <td>NaN</td>\n      <td>NaN</td>\n      <td>NaN</td>\n      <td>NaN</td>\n      <td>NaN</td>\n      <td>NaN</td>\n      <td>NaN</td>\n      <td>NaN</td>\n      <td>NaN</td>\n      <td>NaN</td>\n      <td>NaN</td>\n      <td>NaN</td>\n      <td>NaN</td>\n      <td>NaN</td>\n      <td>NaN</td>\n      <td>NaN</td>\n      <td>NaN</td>\n      <td>NaN</td>\n      <td>NaN</td>\n      <td>NaN</td>\n      <td>NaN</td>\n      <td>NaN</td>\n      <td>NaN</td>\n      <td>NaN</td>\n      <td>NaN</td>\n      <td>NaN</td>\n      <td>NaN</td>\n      <td>NaN</td>\n      <td>NaN</td>\n      <td>NaN</td>\n      <td>NaN</td>\n      <td>NaN</td>\n      <td>NaN</td>\n      <td>Puma</td>\n      <td>NaN</td>\n      <td>NaN</td>\n      <td>NaN</td>\n      <td>NaN</td>\n      <td>NaN</td>\n      <td>NaN</td>\n      <td>NaN</td>\n      <td>NaN</td>\n      <td>NaN</td>\n      <td>NaN</td>\n      <td>NaN</td>\n      <td>NaN</td>\n      <td>NaN</td>\n      <td>NaN</td>\n      <td>NaN</td>\n      <td>NaN</td>\n      <td>NaN</td>\n      <td>NaN</td>\n      <td>NaN</td>\n      <td>NaN</td>\n      <td>NaN</td>\n      <td>NaN</td>\n      <td>NaN</td>\n      <td>NaN</td>\n      <td>NaN</td>\n      <td>NaN</td>\n      <td>NaN</td>\n      <td>NaN</td>\n      <td>NaN</td>\n      <td>NaN</td>\n      <td>NaN</td>\n      <td>NaN</td>\n      <td>NaN</td>\n      <td>NaN</td>\n      <td>NaN</td>\n      <td>NaN</td>\n      <td>NaN</td>\n      <td>NaN</td>\n      <td>NaN</td>\n      <td>NaN</td>\n      <td>NaN</td>\n      <td>NaN</td>\n      <td>NaN</td>\n      <td>NaN</td>\n      <td>NaN</td>\n      <td>NaN</td>\n      <td>NaN</td>\n      <td>NaN</td>\n      <td>NaN</td>\n      <td>NaN</td>\n      <td>NaN</td>\n      <td>NaN</td>\n      <td>NaN</td>\n      <td>NaN</td>\n      <td>NaN</td>\n      <td>NaN</td>\n      <td>NaN</td>\n      <td>NaN</td>\n      <td>NaN</td>\n    </tr>\n    <tr>\n      <th>66</th>\n      <th>114</th>\n      <td>NaN</td>\n      <td>NaN</td>\n      <td>NaN</td>\n      <td>NaN</td>\n      <td>NaN</td>\n      <td>NaN</td>\n      <td>NaN</td>\n      <td>NaN</td>\n      <td>NaN</td>\n      <td>NaN</td>\n      <td>NaN</td>\n      <td>NaN</td>\n      <td>NaN</td>\n      <td>NaN</td>\n      <td>NaN</td>\n      <td>NaN</td>\n      <td>NaN</td>\n      <td>NaN</td>\n      <td>NaN</td>\n      <td>NaN</td>\n      <td>NaN</td>\n      <td>NaN</td>\n      <td>NaN</td>\n      <td>NaN</td>\n      <td>NaN</td>\n      <td>NaN</td>\n      <td>NaN</td>\n      <td>NaN</td>\n      <td>NaN</td>\n      <td>NaN</td>\n      <td>NaN</td>\n      <td>NaN</td>\n      <td>NaN</td>\n      <td>NaN</td>\n      <td>NaN</td>\n      <td>NaN</td>\n      <td>NaN</td>\n      <td>NaN</td>\n      <td>NaN</td>\n      <td>NaN</td>\n      <td>NaN</td>\n      <td>NaN</td>\n      <td>NaN</td>\n      <td>NaN</td>\n      <td>NaN</td>\n      <td>NaN</td>\n      <td>NaN</td>\n      <td>NaN</td>\n      <td>NaN</td>\n      <td>NaN</td>\n      <td>NaN</td>\n      <td>NaN</td>\n      <td>NaN</td>\n      <td>NaN</td>\n      <td>NaN</td>\n      <td>NaN</td>\n      <td>NaN</td>\n      <td>NaN</td>\n      <td>NaN</td>\n      <td>NaN</td>\n      <td>NaN</td>\n      <td>NaN</td>\n      <td>NaN</td>\n      <td>NaN</td>\n      <td>NaN</td>\n      <td>NaN</td>\n      <td>NaN</td>\n      <td>NaN</td>\n      <td>NaN</td>\n      <td>NaN</td>\n      <td>NaN</td>\n      <td>NaN</td>\n      <td>NaN</td>\n      <td>NaN</td>\n      <td>NaN</td>\n      <td>NaN</td>\n      <td>NaN</td>\n      <td>NaN</td>\n      <td>NaN</td>\n      <td>NaN</td>\n      <td>margiela</td>\n      <td>NaN</td>\n      <td>NaN</td>\n      <td>NaN</td>\n      <td>NaN</td>\n      <td>NaN</td>\n      <td>NaN</td>\n      <td>NaN</td>\n      <td>NaN</td>\n      <td>NaN</td>\n      <td>NaN</td>\n      <td>NaN</td>\n      <td>NaN</td>\n      <td>NaN</td>\n      <td>NaN</td>\n      <td>NaN</td>\n      <td>NaN</td>\n      <td>NaN</td>\n      <td>NaN</td>\n      <td>NaN</td>\n      <td>NaN</td>\n      <td>NaN</td>\n      <td>NaN</td>\n      <td>NaN</td>\n      <td>NaN</td>\n      <td>NaN</td>\n      <td>NaN</td>\n      <td>NaN</td>\n      <td>NaN</td>\n      <td>NaN</td>\n      <td>NaN</td>\n      <td>NaN</td>\n      <td>NaN</td>\n      <td>NaN</td>\n      <td>NaN</td>\n    </tr>\n    <tr>\n      <th rowspan=\"2\" valign=\"top\">68</th>\n      <th>310</th>\n      <td>NaN</td>\n      <td>NaN</td>\n      <td>NaN</td>\n      <td>NaN</td>\n      <td>NaN</td>\n      <td>NaN</td>\n      <td>NaN</td>\n      <td>NaN</td>\n      <td>NaN</td>\n      <td>NaN</td>\n      <td>NaN</td>\n      <td>NaN</td>\n      <td>NaN</td>\n      <td>NaN</td>\n      <td>NaN</td>\n      <td>NaN</td>\n      <td>NaN</td>\n      <td>NaN</td>\n      <td>NaN</td>\n      <td>NaN</td>\n      <td>NaN</td>\n      <td>NaN</td>\n      <td>NaN</td>\n      <td>Amazon</td>\n      <td>NaN</td>\n      <td>NaN</td>\n      <td>NaN</td>\n      <td>NaN</td>\n      <td>NaN</td>\n      <td>NaN</td>\n      <td>NaN</td>\n      <td>NaN</td>\n      <td>NaN</td>\n      <td>NaN</td>\n      <td>NaN</td>\n      <td>NaN</td>\n      <td>NaN</td>\n      <td>NaN</td>\n      <td>NaN</td>\n      <td>NaN</td>\n      <td>NaN</td>\n      <td>NaN</td>\n      <td>NaN</td>\n      <td>NaN</td>\n      <td>NaN</td>\n      <td>NaN</td>\n      <td>NaN</td>\n      <td>NaN</td>\n      <td>NaN</td>\n      <td>NaN</td>\n      <td>NaN</td>\n      <td>NaN</td>\n      <td>NaN</td>\n      <td>NaN</td>\n      <td>NaN</td>\n      <td>NaN</td>\n      <td>NaN</td>\n      <td>NaN</td>\n      <td>NaN</td>\n      <td>NaN</td>\n      <td>NaN</td>\n      <td>NaN</td>\n      <td>NaN</td>\n      <td>NaN</td>\n      <td>NaN</td>\n      <td>NaN</td>\n      <td>NaN</td>\n      <td>NaN</td>\n      <td>NaN</td>\n      <td>NaN</td>\n      <td>NaN</td>\n      <td>NaN</td>\n      <td>NaN</td>\n      <td>NaN</td>\n      <td>NaN</td>\n      <td>NaN</td>\n      <td>NaN</td>\n      <td>NaN</td>\n      <td>NaN</td>\n      <td>NaN</td>\n      <td>NaN</td>\n      <td>NaN</td>\n      <td>NaN</td>\n      <td>NaN</td>\n      <td>NaN</td>\n      <td>NaN</td>\n      <td>NaN</td>\n      <td>NaN</td>\n      <td>NaN</td>\n      <td>NaN</td>\n      <td>NaN</td>\n      <td>NaN</td>\n      <td>NaN</td>\n      <td>NaN</td>\n      <td>NaN</td>\n      <td>NaN</td>\n      <td>NaN</td>\n      <td>NaN</td>\n      <td>NaN</td>\n      <td>NaN</td>\n      <td>NaN</td>\n      <td>NaN</td>\n      <td>NaN</td>\n      <td>NaN</td>\n      <td>NaN</td>\n      <td>NaN</td>\n      <td>NaN</td>\n      <td>NaN</td>\n      <td>NaN</td>\n      <td>NaN</td>\n      <td>NaN</td>\n      <td>NaN</td>\n      <td>NaN</td>\n      <td>NaN</td>\n      <td>NaN</td>\n    </tr>\n    <tr>\n      <th>479</th>\n      <td>NaN</td>\n      <td>NaN</td>\n      <td>NaN</td>\n      <td>NaN</td>\n      <td>NaN</td>\n      <td>NaN</td>\n      <td>NaN</td>\n      <td>NaN</td>\n      <td>NaN</td>\n      <td>NaN</td>\n      <td>NaN</td>\n      <td>NaN</td>\n      <td>NaN</td>\n      <td>NaN</td>\n      <td>NaN</td>\n      <td>NaN</td>\n      <td>NaN</td>\n      <td>NaN</td>\n      <td>NaN</td>\n      <td>NaN</td>\n      <td>NaN</td>\n      <td>NaN</td>\n      <td>NaN</td>\n      <td>Amazon</td>\n      <td>NaN</td>\n      <td>NaN</td>\n      <td>NaN</td>\n      <td>NaN</td>\n      <td>NaN</td>\n      <td>NaN</td>\n      <td>NaN</td>\n      <td>NaN</td>\n      <td>NaN</td>\n      <td>NaN</td>\n      <td>NaN</td>\n      <td>NaN</td>\n      <td>NaN</td>\n      <td>NaN</td>\n      <td>NaN</td>\n      <td>NaN</td>\n      <td>NaN</td>\n      <td>NaN</td>\n      <td>NaN</td>\n      <td>NaN</td>\n      <td>NaN</td>\n      <td>NaN</td>\n      <td>NaN</td>\n      <td>NaN</td>\n      <td>NaN</td>\n      <td>NaN</td>\n      <td>NaN</td>\n      <td>NaN</td>\n      <td>NaN</td>\n      <td>NaN</td>\n      <td>NaN</td>\n      <td>NaN</td>\n      <td>NaN</td>\n      <td>NaN</td>\n      <td>NaN</td>\n      <td>NaN</td>\n      <td>NaN</td>\n      <td>NaN</td>\n      <td>NaN</td>\n      <td>NaN</td>\n      <td>NaN</td>\n      <td>NaN</td>\n      <td>NaN</td>\n      <td>NaN</td>\n      <td>NaN</td>\n      <td>NaN</td>\n      <td>NaN</td>\n      <td>NaN</td>\n      <td>NaN</td>\n      <td>NaN</td>\n      <td>NaN</td>\n      <td>NaN</td>\n      <td>NaN</td>\n      <td>NaN</td>\n      <td>NaN</td>\n      <td>NaN</td>\n      <td>NaN</td>\n      <td>NaN</td>\n      <td>NaN</td>\n      <td>NaN</td>\n      <td>NaN</td>\n      <td>NaN</td>\n      <td>NaN</td>\n      <td>NaN</td>\n      <td>NaN</td>\n      <td>NaN</td>\n      <td>NaN</td>\n      <td>NaN</td>\n      <td>NaN</td>\n      <td>NaN</td>\n      <td>NaN</td>\n      <td>NaN</td>\n      <td>NaN</td>\n      <td>NaN</td>\n      <td>NaN</td>\n      <td>NaN</td>\n      <td>NaN</td>\n      <td>NaN</td>\n      <td>NaN</td>\n      <td>NaN</td>\n      <td>NaN</td>\n      <td>NaN</td>\n      <td>NaN</td>\n      <td>NaN</td>\n      <td>NaN</td>\n      <td>NaN</td>\n      <td>NaN</td>\n      <td>NaN</td>\n      <td>NaN</td>\n      <td>NaN</td>\n      <td>NaN</td>\n    </tr>\n    <tr>\n      <th>...</th>\n      <th>...</th>\n      <td>...</td>\n      <td>...</td>\n      <td>...</td>\n      <td>...</td>\n      <td>...</td>\n      <td>...</td>\n      <td>...</td>\n      <td>...</td>\n      <td>...</td>\n      <td>...</td>\n      <td>...</td>\n      <td>...</td>\n      <td>...</td>\n      <td>...</td>\n      <td>...</td>\n      <td>...</td>\n      <td>...</td>\n      <td>...</td>\n      <td>...</td>\n      <td>...</td>\n      <td>...</td>\n      <td>...</td>\n      <td>...</td>\n      <td>...</td>\n      <td>...</td>\n      <td>...</td>\n      <td>...</td>\n      <td>...</td>\n      <td>...</td>\n      <td>...</td>\n      <td>...</td>\n      <td>...</td>\n      <td>...</td>\n      <td>...</td>\n      <td>...</td>\n      <td>...</td>\n      <td>...</td>\n      <td>...</td>\n      <td>...</td>\n      <td>...</td>\n      <td>...</td>\n      <td>...</td>\n      <td>...</td>\n      <td>...</td>\n      <td>...</td>\n      <td>...</td>\n      <td>...</td>\n      <td>...</td>\n      <td>...</td>\n      <td>...</td>\n      <td>...</td>\n      <td>...</td>\n      <td>...</td>\n      <td>...</td>\n      <td>...</td>\n      <td>...</td>\n      <td>...</td>\n      <td>...</td>\n      <td>...</td>\n      <td>...</td>\n      <td>...</td>\n      <td>...</td>\n      <td>...</td>\n      <td>...</td>\n      <td>...</td>\n      <td>...</td>\n      <td>...</td>\n      <td>...</td>\n      <td>...</td>\n      <td>...</td>\n      <td>...</td>\n      <td>...</td>\n      <td>...</td>\n      <td>...</td>\n      <td>...</td>\n      <td>...</td>\n      <td>...</td>\n      <td>...</td>\n      <td>...</td>\n      <td>...</td>\n      <td>...</td>\n      <td>...</td>\n      <td>...</td>\n      <td>...</td>\n      <td>...</td>\n      <td>...</td>\n      <td>...</td>\n      <td>...</td>\n      <td>...</td>\n      <td>...</td>\n      <td>...</td>\n      <td>...</td>\n      <td>...</td>\n      <td>...</td>\n      <td>...</td>\n      <td>...</td>\n      <td>...</td>\n      <td>...</td>\n      <td>...</td>\n      <td>...</td>\n      <td>...</td>\n      <td>...</td>\n      <td>...</td>\n      <td>...</td>\n      <td>...</td>\n      <td>...</td>\n      <td>...</td>\n      <td>...</td>\n      <td>...</td>\n      <td>...</td>\n      <td>...</td>\n      <td>...</td>\n      <td>...</td>\n      <td>...</td>\n      <td>...</td>\n    </tr>\n    <tr>\n      <th>33773</th>\n      <th>222</th>\n      <td>NaN</td>\n      <td>NaN</td>\n      <td>NaN</td>\n      <td>NaN</td>\n      <td>NaN</td>\n      <td>NaN</td>\n      <td>NaN</td>\n      <td>NaN</td>\n      <td>NaN</td>\n      <td>NaN</td>\n      <td>NaN</td>\n      <td>NaN</td>\n      <td>NaN</td>\n      <td>NaN</td>\n      <td>NaN</td>\n      <td>NaN</td>\n      <td>NaN</td>\n      <td>NaN</td>\n      <td>NaN</td>\n      <td>NaN</td>\n      <td>NaN</td>\n      <td>NaN</td>\n      <td>NaN</td>\n      <td>NaN</td>\n      <td>NaN</td>\n      <td>NaN</td>\n      <td>NaN</td>\n      <td>NaN</td>\n      <td>NaN</td>\n      <td>NaN</td>\n      <td>NaN</td>\n      <td>LV</td>\n      <td>NaN</td>\n      <td>NaN</td>\n      <td>NaN</td>\n      <td>NaN</td>\n      <td>NaN</td>\n      <td>NaN</td>\n      <td>NaN</td>\n      <td>NaN</td>\n      <td>NaN</td>\n      <td>NaN</td>\n      <td>NaN</td>\n      <td>NaN</td>\n      <td>NaN</td>\n      <td>NaN</td>\n      <td>NaN</td>\n      <td>NaN</td>\n      <td>NaN</td>\n      <td>NaN</td>\n      <td>NaN</td>\n      <td>NaN</td>\n      <td>NaN</td>\n      <td>NaN</td>\n      <td>NaN</td>\n      <td>NaN</td>\n      <td>NaN</td>\n      <td>NaN</td>\n      <td>NaN</td>\n      <td>NaN</td>\n      <td>NaN</td>\n      <td>NaN</td>\n      <td>NaN</td>\n      <td>NaN</td>\n      <td>NaN</td>\n      <td>NaN</td>\n      <td>NaN</td>\n      <td>NaN</td>\n      <td>NaN</td>\n      <td>NaN</td>\n      <td>NaN</td>\n      <td>NaN</td>\n      <td>NaN</td>\n      <td>NaN</td>\n      <td>NaN</td>\n      <td>NaN</td>\n      <td>NaN</td>\n      <td>NaN</td>\n      <td>NaN</td>\n      <td>NaN</td>\n      <td>NaN</td>\n      <td>NaN</td>\n      <td>NaN</td>\n      <td>NaN</td>\n      <td>NaN</td>\n      <td>NaN</td>\n      <td>NaN</td>\n      <td>NaN</td>\n      <td>NaN</td>\n      <td>NaN</td>\n      <td>NaN</td>\n      <td>NaN</td>\n      <td>NaN</td>\n      <td>NaN</td>\n      <td>NaN</td>\n      <td>NaN</td>\n      <td>NaN</td>\n      <td>NaN</td>\n      <td>NaN</td>\n      <td>NaN</td>\n      <td>NaN</td>\n      <td>NaN</td>\n      <td>NaN</td>\n      <td>NaN</td>\n      <td>NaN</td>\n      <td>NaN</td>\n      <td>NaN</td>\n      <td>NaN</td>\n      <td>NaN</td>\n      <td>NaN</td>\n      <td>NaN</td>\n      <td>NaN</td>\n      <td>NaN</td>\n      <td>NaN</td>\n      <td>NaN</td>\n    </tr>\n    <tr>\n      <th>33774</th>\n      <th>1795</th>\n      <td>NaN</td>\n      <td>NaN</td>\n      <td>NaN</td>\n      <td>NaN</td>\n      <td>NaN</td>\n      <td>NaN</td>\n      <td>NaN</td>\n      <td>NaN</td>\n      <td>NaN</td>\n      <td>NaN</td>\n      <td>NaN</td>\n      <td>NaN</td>\n      <td>NaN</td>\n      <td>NaN</td>\n      <td>NaN</td>\n      <td>NaN</td>\n      <td>NaN</td>\n      <td>NaN</td>\n      <td>NaN</td>\n      <td>NaN</td>\n      <td>NaN</td>\n      <td>NaN</td>\n      <td>NaN</td>\n      <td>NaN</td>\n      <td>NaN</td>\n      <td>NaN</td>\n      <td>NaN</td>\n      <td>NaN</td>\n      <td>NaN</td>\n      <td>NaN</td>\n      <td>NaN</td>\n      <td>NaN</td>\n      <td>NaN</td>\n      <td>NaN</td>\n      <td>NaN</td>\n      <td>NaN</td>\n      <td>NaN</td>\n      <td>NaN</td>\n      <td>NaN</td>\n      <td>Birkenstocks</td>\n      <td>NaN</td>\n      <td>NaN</td>\n      <td>NaN</td>\n      <td>NaN</td>\n      <td>NaN</td>\n      <td>NaN</td>\n      <td>NaN</td>\n      <td>NaN</td>\n      <td>NaN</td>\n      <td>NaN</td>\n      <td>NaN</td>\n      <td>NaN</td>\n      <td>NaN</td>\n      <td>NaN</td>\n      <td>NaN</td>\n      <td>NaN</td>\n      <td>NaN</td>\n      <td>NaN</td>\n      <td>NaN</td>\n      <td>NaN</td>\n      <td>NaN</td>\n      <td>NaN</td>\n      <td>NaN</td>\n      <td>NaN</td>\n      <td>NaN</td>\n      <td>NaN</td>\n      <td>NaN</td>\n      <td>NaN</td>\n      <td>NaN</td>\n      <td>NaN</td>\n      <td>NaN</td>\n      <td>NaN</td>\n      <td>NaN</td>\n      <td>NaN</td>\n      <td>NaN</td>\n      <td>NaN</td>\n      <td>NaN</td>\n      <td>NaN</td>\n      <td>NaN</td>\n      <td>NaN</td>\n      <td>NaN</td>\n      <td>NaN</td>\n      <td>NaN</td>\n      <td>NaN</td>\n      <td>NaN</td>\n      <td>NaN</td>\n      <td>NaN</td>\n      <td>NaN</td>\n      <td>NaN</td>\n      <td>NaN</td>\n      <td>NaN</td>\n      <td>NaN</td>\n      <td>NaN</td>\n      <td>NaN</td>\n      <td>NaN</td>\n      <td>NaN</td>\n      <td>NaN</td>\n      <td>NaN</td>\n      <td>NaN</td>\n      <td>NaN</td>\n      <td>NaN</td>\n      <td>NaN</td>\n      <td>NaN</td>\n      <td>NaN</td>\n      <td>NaN</td>\n      <td>NaN</td>\n      <td>NaN</td>\n      <td>NaN</td>\n      <td>NaN</td>\n      <td>NaN</td>\n      <td>NaN</td>\n      <td>NaN</td>\n      <td>NaN</td>\n      <td>NaN</td>\n      <td>NaN</td>\n    </tr>\n    <tr>\n      <th>33777</th>\n      <th>700</th>\n      <td>NaN</td>\n      <td>NaN</td>\n      <td>H&amp;M</td>\n      <td>NaN</td>\n      <td>NaN</td>\n      <td>NaN</td>\n      <td>NaN</td>\n      <td>NaN</td>\n      <td>NaN</td>\n      <td>NaN</td>\n      <td>NaN</td>\n      <td>NaN</td>\n      <td>NaN</td>\n      <td>NaN</td>\n      <td>NaN</td>\n      <td>NaN</td>\n      <td>NaN</td>\n      <td>NaN</td>\n      <td>NaN</td>\n      <td>NaN</td>\n      <td>NaN</td>\n      <td>NaN</td>\n      <td>NaN</td>\n      <td>NaN</td>\n      <td>NaN</td>\n      <td>NaN</td>\n      <td>NaN</td>\n      <td>NaN</td>\n      <td>NaN</td>\n      <td>NaN</td>\n      <td>NaN</td>\n      <td>NaN</td>\n      <td>NaN</td>\n      <td>NaN</td>\n      <td>NaN</td>\n      <td>NaN</td>\n      <td>NaN</td>\n      <td>NaN</td>\n      <td>NaN</td>\n      <td>NaN</td>\n      <td>NaN</td>\n      <td>NaN</td>\n      <td>NaN</td>\n      <td>NaN</td>\n      <td>NaN</td>\n      <td>NaN</td>\n      <td>NaN</td>\n      <td>NaN</td>\n      <td>NaN</td>\n      <td>NaN</td>\n      <td>NaN</td>\n      <td>NaN</td>\n      <td>NaN</td>\n      <td>NaN</td>\n      <td>NaN</td>\n      <td>NaN</td>\n      <td>NaN</td>\n      <td>NaN</td>\n      <td>NaN</td>\n      <td>NaN</td>\n      <td>NaN</td>\n      <td>NaN</td>\n      <td>NaN</td>\n      <td>NaN</td>\n      <td>NaN</td>\n      <td>NaN</td>\n      <td>NaN</td>\n      <td>NaN</td>\n      <td>NaN</td>\n      <td>NaN</td>\n      <td>NaN</td>\n      <td>NaN</td>\n      <td>NaN</td>\n      <td>NaN</td>\n      <td>NaN</td>\n      <td>NaN</td>\n      <td>NaN</td>\n      <td>NaN</td>\n      <td>NaN</td>\n      <td>NaN</td>\n      <td>NaN</td>\n      <td>NaN</td>\n      <td>NaN</td>\n      <td>NaN</td>\n      <td>NaN</td>\n      <td>NaN</td>\n      <td>NaN</td>\n      <td>NaN</td>\n      <td>NaN</td>\n      <td>NaN</td>\n      <td>NaN</td>\n      <td>NaN</td>\n      <td>NaN</td>\n      <td>NaN</td>\n      <td>NaN</td>\n      <td>NaN</td>\n      <td>NaN</td>\n      <td>NaN</td>\n      <td>NaN</td>\n      <td>NaN</td>\n      <td>NaN</td>\n      <td>NaN</td>\n      <td>NaN</td>\n      <td>NaN</td>\n      <td>NaN</td>\n      <td>NaN</td>\n      <td>NaN</td>\n      <td>NaN</td>\n      <td>NaN</td>\n      <td>NaN</td>\n      <td>NaN</td>\n      <td>NaN</td>\n      <td>NaN</td>\n      <td>NaN</td>\n      <td>NaN</td>\n    </tr>\n    <tr>\n      <th>33778</th>\n      <th>4415</th>\n      <td>NaN</td>\n      <td>NaN</td>\n      <td>NaN</td>\n      <td>NaN</td>\n      <td>NaN</td>\n      <td>NaN</td>\n      <td>NaN</td>\n      <td>NaN</td>\n      <td>NaN</td>\n      <td>NaN</td>\n      <td>NaN</td>\n      <td>NaN</td>\n      <td>NaN</td>\n      <td>BR</td>\n      <td>NaN</td>\n      <td>NaN</td>\n      <td>NaN</td>\n      <td>NaN</td>\n      <td>NaN</td>\n      <td>NaN</td>\n      <td>NaN</td>\n      <td>NaN</td>\n      <td>NaN</td>\n      <td>NaN</td>\n      <td>NaN</td>\n      <td>NaN</td>\n      <td>NaN</td>\n      <td>NaN</td>\n      <td>NaN</td>\n      <td>NaN</td>\n      <td>NaN</td>\n      <td>NaN</td>\n      <td>NaN</td>\n      <td>NaN</td>\n      <td>NaN</td>\n      <td>NaN</td>\n      <td>NaN</td>\n      <td>NaN</td>\n      <td>NaN</td>\n      <td>NaN</td>\n      <td>NaN</td>\n      <td>NaN</td>\n      <td>NaN</td>\n      <td>NaN</td>\n      <td>NaN</td>\n      <td>NaN</td>\n      <td>NaN</td>\n      <td>NaN</td>\n      <td>NaN</td>\n      <td>NaN</td>\n      <td>NaN</td>\n      <td>NaN</td>\n      <td>NaN</td>\n      <td>NaN</td>\n      <td>NaN</td>\n      <td>NaN</td>\n      <td>NaN</td>\n      <td>NaN</td>\n      <td>NaN</td>\n      <td>NaN</td>\n      <td>NaN</td>\n      <td>NaN</td>\n      <td>NaN</td>\n      <td>NaN</td>\n      <td>NaN</td>\n      <td>NaN</td>\n      <td>NaN</td>\n      <td>NaN</td>\n      <td>NaN</td>\n      <td>NaN</td>\n      <td>NaN</td>\n      <td>NaN</td>\n      <td>NaN</td>\n      <td>NaN</td>\n      <td>NaN</td>\n      <td>NaN</td>\n      <td>NaN</td>\n      <td>NaN</td>\n      <td>NaN</td>\n      <td>NaN</td>\n      <td>NaN</td>\n      <td>NaN</td>\n      <td>NaN</td>\n      <td>NaN</td>\n      <td>NaN</td>\n      <td>NaN</td>\n      <td>NaN</td>\n      <td>NaN</td>\n      <td>NaN</td>\n      <td>NaN</td>\n      <td>NaN</td>\n      <td>NaN</td>\n      <td>NaN</td>\n      <td>NaN</td>\n      <td>NaN</td>\n      <td>NaN</td>\n      <td>NaN</td>\n      <td>NaN</td>\n      <td>NaN</td>\n      <td>NaN</td>\n      <td>NaN</td>\n      <td>NaN</td>\n      <td>NaN</td>\n      <td>NaN</td>\n      <td>NaN</td>\n      <td>NaN</td>\n      <td>NaN</td>\n      <td>NaN</td>\n      <td>NaN</td>\n      <td>NaN</td>\n      <td>NaN</td>\n      <td>NaN</td>\n      <td>NaN</td>\n      <td>NaN</td>\n      <td>NaN</td>\n    </tr>\n    <tr>\n      <th>33801</th>\n      <th>25</th>\n      <td>NaN</td>\n      <td>NaN</td>\n      <td>NaN</td>\n      <td>NaN</td>\n      <td>NaN</td>\n      <td>NaN</td>\n      <td>NaN</td>\n      <td>NaN</td>\n      <td>NaN</td>\n      <td>NaN</td>\n      <td>NaN</td>\n      <td>NaN</td>\n      <td>NaN</td>\n      <td>NaN</td>\n      <td>NaN</td>\n      <td>NaN</td>\n      <td>NaN</td>\n      <td>NaN</td>\n      <td>NaN</td>\n      <td>NaN</td>\n      <td>NaN</td>\n      <td>NaN</td>\n      <td>NaN</td>\n      <td>NaN</td>\n      <td>NaN</td>\n      <td>NaN</td>\n      <td>NaN</td>\n      <td>NaN</td>\n      <td>NaN</td>\n      <td>NaN</td>\n      <td>NaN</td>\n      <td>NaN</td>\n      <td>NaN</td>\n      <td>NaN</td>\n      <td>NaN</td>\n      <td>NaN</td>\n      <td>NaN</td>\n      <td>NaN</td>\n      <td>NaN</td>\n      <td>NaN</td>\n      <td>NaN</td>\n      <td>NaN</td>\n      <td>NaN</td>\n      <td>NaN</td>\n      <td>NaN</td>\n      <td>NaN</td>\n      <td>NaN</td>\n      <td>NaN</td>\n      <td>NaN</td>\n      <td>NaN</td>\n      <td>NaN</td>\n      <td>NaN</td>\n      <td>NaN</td>\n      <td>NaN</td>\n      <td>NaN</td>\n      <td>NaN</td>\n      <td>NaN</td>\n      <td>NaN</td>\n      <td>NaN</td>\n      <td>NaN</td>\n      <td>NaN</td>\n      <td>NaN</td>\n      <td>NaN</td>\n      <td>NaN</td>\n      <td>NaN</td>\n      <td>NaN</td>\n      <td>NaN</td>\n      <td>NaN</td>\n      <td>NaN</td>\n      <td>NaN</td>\n      <td>NaN</td>\n      <td>NaN</td>\n      <td>NaN</td>\n      <td>NaN</td>\n      <td>NaN</td>\n      <td>NaN</td>\n      <td>NaN</td>\n      <td>NaN</td>\n      <td>NaN</td>\n      <td>NaN</td>\n      <td>NaN</td>\n      <td>NaN</td>\n      <td>NaN</td>\n      <td>NaN</td>\n      <td>NaN</td>\n      <td>NaN</td>\n      <td>NaN</td>\n      <td>NaN</td>\n      <td>Modcloth</td>\n      <td>NaN</td>\n      <td>NaN</td>\n      <td>NaN</td>\n      <td>NaN</td>\n      <td>NaN</td>\n      <td>NaN</td>\n      <td>NaN</td>\n      <td>NaN</td>\n      <td>NaN</td>\n      <td>NaN</td>\n      <td>NaN</td>\n      <td>NaN</td>\n      <td>NaN</td>\n      <td>NaN</td>\n      <td>NaN</td>\n      <td>NaN</td>\n      <td>NaN</td>\n      <td>NaN</td>\n      <td>NaN</td>\n      <td>NaN</td>\n      <td>NaN</td>\n      <td>NaN</td>\n      <td>NaN</td>\n      <td>NaN</td>\n      <td>NaN</td>\n      <td>NaN</td>\n    </tr>\n  </tbody>\n</table>\n<p>8791 rows × 115 columns</p>\n</div>"
     },
     "metadata": {},
     "execution_count": 8
    }
   ],
   "source": [
    "pd.set_option(\"display.max_rows\",50, \"display.max_columns\", None)\n",
    "df2.dropna(axis=1,how='all',inplace=True)\n",
    "df2"
   ]
  },
  {
   "cell_type": "code",
   "execution_count": 9,
   "metadata": {},
   "outputs": [],
   "source": [
    "overall_counts = df2.count().sort_values(ascending=False)"
   ]
  },
  {
   "source": [
    "### Splitting up the male and female subreddits to get demographic data."
   ],
   "cell_type": "markdown",
   "metadata": {}
  },
  {
   "cell_type": "code",
   "execution_count": 10,
   "metadata": {},
   "outputs": [],
   "source": [
    "filt = (df['Subreddit'] == 'malefashionadvice')\n",
    "mfa_df = df[filt]\n",
    "filt2 = (df['Subreddit'] == 'femalefashionadvice')\n",
    "ffa_df = df[filt2]"
   ]
  },
  {
   "cell_type": "code",
   "execution_count": 11,
   "metadata": {},
   "outputs": [],
   "source": [
    "mfa_df = brand_check(mfa_df,fashion)\n",
    "ffa_df = brand_check(ffa_df,fashion)"
   ]
  },
  {
   "cell_type": "code",
   "execution_count": 12,
   "metadata": {},
   "outputs": [],
   "source": [
    "mfa_df.dropna(axis=1,how='all',inplace=True)\n",
    "ffa_df.dropna(axis=1,how='all',inplace=True)"
   ]
  },
  {
   "cell_type": "code",
   "execution_count": 13,
   "metadata": {},
   "outputs": [],
   "source": [
    "mfa_counts = mfa_df.count().sort_values(ascending=False)\n",
    "ffa_counts = ffa_df.count().sort_values(ascending=False)"
   ]
  },
  {
   "cell_type": "code",
   "execution_count": 14,
   "metadata": {},
   "outputs": [],
   "source": [
    "pd.set_option(\"display.max_rows\",117)\n",
    "counts_df = pd.concat([overall_counts,mfa_counts,ffa_counts],axis='columns',sort=False)"
   ]
  },
  {
   "source": [
    "## Final dataframe with the number of mentions for each brand split into overall, r/malefashionadvice, and r/femalefashionadvice. Ready for data visualization."
   ],
   "cell_type": "markdown",
   "metadata": {}
  },
  {
   "cell_type": "code",
   "execution_count": 20,
   "metadata": {},
   "outputs": [
    {
     "output_type": "execute_result",
     "data": {
      "text/plain": [
       "                    Total  r/malefashionadvice  r/femalefashionadvice\n",
       "uniqlo               1077                801.0                  276.0\n",
       "Thrifted              881                434.0                  447.0\n",
       "Levis                 425                327.0                   98.0\n",
       "JCrew                 282                241.0                   41.0\n",
       "HM                    249                107.0                  142.0\n",
       "BananaRepbulic        206                148.0                   58.0\n",
       "Target                192                 77.0                  115.0\n",
       "Converse              175                126.0                   49.0\n",
       "Nike                  174                140.0                   34.0\n",
       "Madewell              164                 22.0                  142.0\n",
       "Adidas                163                136.0                   27.0\n",
       "Vans                  146                140.0                    6.0\n",
       "Birkenstocks          144                 93.0                   51.0\n",
       "EngineeredGarments    143                141.0                    2.0\n",
       "Zara                  138                 35.0                  103.0\n",
       "ThreeSixteen          137                137.0                    NaN\n",
       "CalvinKlein           132                 92.0                   40.0\n",
       "Paraboots             131                130.0                    1.0\n",
       "Viberg                128                128.0                    NaN\n",
       "Gap                   120                 91.0                   29.0\n",
       "OldNavy               117                 37.0                   80.0\n",
       "Patagonia             115                110.0                    5.0\n",
       "SpierandMackay        114                114.0                    NaN\n",
       "Everlane              113                 33.0                   80.0\n",
       "Aldens                112                112.0                    NaN\n",
       "RedWings              109                 95.0                   14.0\n",
       "SaintLaurent          102                100.0                    2.0\n",
       "Blundstone             96                 90.0                    6.0\n",
       "Carhartt               94                 93.0                    1.0\n",
       "Amazon                 90                 39.0                   51.0\n",
       "DocMartens             87                 50.0                   37.0\n",
       "Abercrombie            85                 48.0                   37.0\n",
       "Allsaints              84                 52.0                   32.0\n",
       "LouisVuitton           84                 61.0                   23.0\n",
       "LLBean                 78                 66.0                   12.0\n",
       "Muji                   73                 62.0                   11.0\n",
       "RogueTerritory         70                 69.0                    1.0\n",
       "NewBalance             70                 65.0                    5.0\n",
       "Dickies                69                 66.0                    3.0\n",
       "StanRays               64                 64.0                    NaN\n",
       "Gucci                  62                 40.0                   22.0\n",
       "Visvim                 60                 60.0                    NaN\n",
       "Aaritzia               60                  NaN                   60.0\n",
       "BrooksBrothers         58                 55.0                    3.0\n",
       "Clarks                 50                 46.0                    4.0\n",
       "Lululemon              50                 29.0                   21.0\n",
       "NorseProjects          49                 49.0                    NaN\n",
       "Margiela               46                 35.0                   11.0\n",
       "RalphLauren            46                 38.0                    8.0\n",
       "EvanKinori             45                 45.0                    NaN\n",
       "Mango                  44                  8.0                   36.0\n",
       "AmericanEagle          43                 24.0                   19.0\n",
       "Topshop                41                  NaN                   41.0\n",
       "Express                41                  9.0                   32.0\n",
       "Deveaux                41                 41.0                    NaN\n",
       "Burberry               40                 25.0                   15.0\n",
       "AllendEdmonds          40                 39.0                    1.0\n",
       "Loft                   37                  4.0                   33.0\n",
       "Bonobos                36                 33.0                    3.0\n",
       "CommonProjects         35                 32.0                    3.0\n",
       "Naturalizer            33                  NaN                   33.0\n",
       "Puma                   32                 29.0                    3.0\n",
       "Columbia               32                 29.0                    3.0\n",
       "Drakes                 31                 31.0                    NaN\n",
       "Pendleton              29                 21.0                    8.0\n",
       "Costco                 29                 19.0                   10.0\n",
       "Supreme                29                 27.0                    2.0\n",
       "Outlier                28                 27.0                    1.0\n",
       "GrantStone             28                 28.0                    NaN\n",
       "Epaulet                28                 28.0                    NaN\n",
       "LandsEnd               28                 26.0                    2.0\n",
       "Asket                  28                 25.0                    3.0\n",
       "NakedandFamous         25                 23.0                    2.0\n",
       "Champion               25                 24.0                    1.0\n",
       "ReigningChamp          24                 24.0                    NaN\n",
       "SteveMadden            24                  3.0                   21.0\n",
       "Frye                   24                  6.0                   18.0\n",
       "ONI                    23                 22.0                    1.0\n",
       "ClubMonaco             23                 20.0                    3.0\n",
       "Primark                21                  3.0                   18.0\n",
       "NorthFace              21                 19.0                    2.0\n",
       "Apple                  19                 12.0                    7.0\n",
       "AnnTaylor              17                  NaN                   17.0\n",
       "EileenFisher           16                  NaN                   16.0\n",
       "Dockers                15                 13.0                    2.0\n",
       "Yeezy                  14                 10.0                    4.0\n",
       "ScotchandSoda          14                  7.0                    7.0\n",
       "Stradivarius           14                  NaN                   14.0\n",
       "Modcloth               13                  NaN                   13.0\n",
       "TomFord                13                 13.0                    NaN\n",
       "Prada                  13                 12.0                    1.0\n",
       "TommyHilfiger          13                 11.0                    2.0\n",
       "PullsandBears          12                  4.0                    8.0\n",
       "AmericanApparel        12                  2.0                   10.0\n",
       "EddieBauer             10                  6.0                    4.0\n",
       "Hollister               9                  1.0                    8.0\n",
       "MarcJacobs              8                  2.0                    6.0\n",
       "Uggs                    8                  6.0                    2.0\n",
       "Armani                  7                  7.0                    NaN\n",
       "Arcteryx                7                  7.0                    NaN\n",
       "Lacoste                 7                  5.0                    2.0\n",
       "MichaelKors             6                  3.0                    3.0\n",
       "KateSpade               6                  NaN                    6.0\n",
       "DarnTough               6                  5.0                    1.0\n",
       "JCPenney                6                  2.0                    4.0\n",
       "Gildan                  6                  6.0                    NaN\n",
       "Balenciaga              5                  1.0                    4.0\n",
       "NextLevel               3                  3.0                    NaN\n",
       "Juicy                   3                  2.0                    1.0\n",
       "Marmot                  3                  2.0                    1.0\n",
       "KennethCole             3                  NaN                    3.0\n",
       "VictoriaSecret          2                  NaN                    2.0\n",
       "BergsandBergs           2                  2.0                    NaN\n",
       "ChuckTaylors            2                  2.0                    NaN\n",
       "CanadaGoose             1                  1.0                    NaN"
      ],
      "text/html": "<div>\n<style scoped>\n    .dataframe tbody tr th:only-of-type {\n        vertical-align: middle;\n    }\n\n    .dataframe tbody tr th {\n        vertical-align: top;\n    }\n\n    .dataframe thead th {\n        text-align: right;\n    }\n</style>\n<table border=\"1\" class=\"dataframe\">\n  <thead>\n    <tr style=\"text-align: right;\">\n      <th></th>\n      <th>Total</th>\n      <th>r/malefashionadvice</th>\n      <th>r/femalefashionadvice</th>\n    </tr>\n  </thead>\n  <tbody>\n    <tr>\n      <th>uniqlo</th>\n      <td>1077</td>\n      <td>801.0</td>\n      <td>276.0</td>\n    </tr>\n    <tr>\n      <th>Thrifted</th>\n      <td>881</td>\n      <td>434.0</td>\n      <td>447.0</td>\n    </tr>\n    <tr>\n      <th>Levis</th>\n      <td>425</td>\n      <td>327.0</td>\n      <td>98.0</td>\n    </tr>\n    <tr>\n      <th>JCrew</th>\n      <td>282</td>\n      <td>241.0</td>\n      <td>41.0</td>\n    </tr>\n    <tr>\n      <th>HM</th>\n      <td>249</td>\n      <td>107.0</td>\n      <td>142.0</td>\n    </tr>\n    <tr>\n      <th>BananaRepbulic</th>\n      <td>206</td>\n      <td>148.0</td>\n      <td>58.0</td>\n    </tr>\n    <tr>\n      <th>Target</th>\n      <td>192</td>\n      <td>77.0</td>\n      <td>115.0</td>\n    </tr>\n    <tr>\n      <th>Converse</th>\n      <td>175</td>\n      <td>126.0</td>\n      <td>49.0</td>\n    </tr>\n    <tr>\n      <th>Nike</th>\n      <td>174</td>\n      <td>140.0</td>\n      <td>34.0</td>\n    </tr>\n    <tr>\n      <th>Madewell</th>\n      <td>164</td>\n      <td>22.0</td>\n      <td>142.0</td>\n    </tr>\n    <tr>\n      <th>Adidas</th>\n      <td>163</td>\n      <td>136.0</td>\n      <td>27.0</td>\n    </tr>\n    <tr>\n      <th>Vans</th>\n      <td>146</td>\n      <td>140.0</td>\n      <td>6.0</td>\n    </tr>\n    <tr>\n      <th>Birkenstocks</th>\n      <td>144</td>\n      <td>93.0</td>\n      <td>51.0</td>\n    </tr>\n    <tr>\n      <th>EngineeredGarments</th>\n      <td>143</td>\n      <td>141.0</td>\n      <td>2.0</td>\n    </tr>\n    <tr>\n      <th>Zara</th>\n      <td>138</td>\n      <td>35.0</td>\n      <td>103.0</td>\n    </tr>\n    <tr>\n      <th>ThreeSixteen</th>\n      <td>137</td>\n      <td>137.0</td>\n      <td>NaN</td>\n    </tr>\n    <tr>\n      <th>CalvinKlein</th>\n      <td>132</td>\n      <td>92.0</td>\n      <td>40.0</td>\n    </tr>\n    <tr>\n      <th>Paraboots</th>\n      <td>131</td>\n      <td>130.0</td>\n      <td>1.0</td>\n    </tr>\n    <tr>\n      <th>Viberg</th>\n      <td>128</td>\n      <td>128.0</td>\n      <td>NaN</td>\n    </tr>\n    <tr>\n      <th>Gap</th>\n      <td>120</td>\n      <td>91.0</td>\n      <td>29.0</td>\n    </tr>\n    <tr>\n      <th>OldNavy</th>\n      <td>117</td>\n      <td>37.0</td>\n      <td>80.0</td>\n    </tr>\n    <tr>\n      <th>Patagonia</th>\n      <td>115</td>\n      <td>110.0</td>\n      <td>5.0</td>\n    </tr>\n    <tr>\n      <th>SpierandMackay</th>\n      <td>114</td>\n      <td>114.0</td>\n      <td>NaN</td>\n    </tr>\n    <tr>\n      <th>Everlane</th>\n      <td>113</td>\n      <td>33.0</td>\n      <td>80.0</td>\n    </tr>\n    <tr>\n      <th>Aldens</th>\n      <td>112</td>\n      <td>112.0</td>\n      <td>NaN</td>\n    </tr>\n    <tr>\n      <th>RedWings</th>\n      <td>109</td>\n      <td>95.0</td>\n      <td>14.0</td>\n    </tr>\n    <tr>\n      <th>SaintLaurent</th>\n      <td>102</td>\n      <td>100.0</td>\n      <td>2.0</td>\n    </tr>\n    <tr>\n      <th>Blundstone</th>\n      <td>96</td>\n      <td>90.0</td>\n      <td>6.0</td>\n    </tr>\n    <tr>\n      <th>Carhartt</th>\n      <td>94</td>\n      <td>93.0</td>\n      <td>1.0</td>\n    </tr>\n    <tr>\n      <th>Amazon</th>\n      <td>90</td>\n      <td>39.0</td>\n      <td>51.0</td>\n    </tr>\n    <tr>\n      <th>DocMartens</th>\n      <td>87</td>\n      <td>50.0</td>\n      <td>37.0</td>\n    </tr>\n    <tr>\n      <th>Abercrombie</th>\n      <td>85</td>\n      <td>48.0</td>\n      <td>37.0</td>\n    </tr>\n    <tr>\n      <th>Allsaints</th>\n      <td>84</td>\n      <td>52.0</td>\n      <td>32.0</td>\n    </tr>\n    <tr>\n      <th>LouisVuitton</th>\n      <td>84</td>\n      <td>61.0</td>\n      <td>23.0</td>\n    </tr>\n    <tr>\n      <th>LLBean</th>\n      <td>78</td>\n      <td>66.0</td>\n      <td>12.0</td>\n    </tr>\n    <tr>\n      <th>Muji</th>\n      <td>73</td>\n      <td>62.0</td>\n      <td>11.0</td>\n    </tr>\n    <tr>\n      <th>RogueTerritory</th>\n      <td>70</td>\n      <td>69.0</td>\n      <td>1.0</td>\n    </tr>\n    <tr>\n      <th>NewBalance</th>\n      <td>70</td>\n      <td>65.0</td>\n      <td>5.0</td>\n    </tr>\n    <tr>\n      <th>Dickies</th>\n      <td>69</td>\n      <td>66.0</td>\n      <td>3.0</td>\n    </tr>\n    <tr>\n      <th>StanRays</th>\n      <td>64</td>\n      <td>64.0</td>\n      <td>NaN</td>\n    </tr>\n    <tr>\n      <th>Gucci</th>\n      <td>62</td>\n      <td>40.0</td>\n      <td>22.0</td>\n    </tr>\n    <tr>\n      <th>Visvim</th>\n      <td>60</td>\n      <td>60.0</td>\n      <td>NaN</td>\n    </tr>\n    <tr>\n      <th>Aaritzia</th>\n      <td>60</td>\n      <td>NaN</td>\n      <td>60.0</td>\n    </tr>\n    <tr>\n      <th>BrooksBrothers</th>\n      <td>58</td>\n      <td>55.0</td>\n      <td>3.0</td>\n    </tr>\n    <tr>\n      <th>Clarks</th>\n      <td>50</td>\n      <td>46.0</td>\n      <td>4.0</td>\n    </tr>\n    <tr>\n      <th>Lululemon</th>\n      <td>50</td>\n      <td>29.0</td>\n      <td>21.0</td>\n    </tr>\n    <tr>\n      <th>NorseProjects</th>\n      <td>49</td>\n      <td>49.0</td>\n      <td>NaN</td>\n    </tr>\n    <tr>\n      <th>Margiela</th>\n      <td>46</td>\n      <td>35.0</td>\n      <td>11.0</td>\n    </tr>\n    <tr>\n      <th>RalphLauren</th>\n      <td>46</td>\n      <td>38.0</td>\n      <td>8.0</td>\n    </tr>\n    <tr>\n      <th>EvanKinori</th>\n      <td>45</td>\n      <td>45.0</td>\n      <td>NaN</td>\n    </tr>\n    <tr>\n      <th>Mango</th>\n      <td>44</td>\n      <td>8.0</td>\n      <td>36.0</td>\n    </tr>\n    <tr>\n      <th>AmericanEagle</th>\n      <td>43</td>\n      <td>24.0</td>\n      <td>19.0</td>\n    </tr>\n    <tr>\n      <th>Topshop</th>\n      <td>41</td>\n      <td>NaN</td>\n      <td>41.0</td>\n    </tr>\n    <tr>\n      <th>Express</th>\n      <td>41</td>\n      <td>9.0</td>\n      <td>32.0</td>\n    </tr>\n    <tr>\n      <th>Deveaux</th>\n      <td>41</td>\n      <td>41.0</td>\n      <td>NaN</td>\n    </tr>\n    <tr>\n      <th>Burberry</th>\n      <td>40</td>\n      <td>25.0</td>\n      <td>15.0</td>\n    </tr>\n    <tr>\n      <th>AllendEdmonds</th>\n      <td>40</td>\n      <td>39.0</td>\n      <td>1.0</td>\n    </tr>\n    <tr>\n      <th>Loft</th>\n      <td>37</td>\n      <td>4.0</td>\n      <td>33.0</td>\n    </tr>\n    <tr>\n      <th>Bonobos</th>\n      <td>36</td>\n      <td>33.0</td>\n      <td>3.0</td>\n    </tr>\n    <tr>\n      <th>CommonProjects</th>\n      <td>35</td>\n      <td>32.0</td>\n      <td>3.0</td>\n    </tr>\n    <tr>\n      <th>Naturalizer</th>\n      <td>33</td>\n      <td>NaN</td>\n      <td>33.0</td>\n    </tr>\n    <tr>\n      <th>Puma</th>\n      <td>32</td>\n      <td>29.0</td>\n      <td>3.0</td>\n    </tr>\n    <tr>\n      <th>Columbia</th>\n      <td>32</td>\n      <td>29.0</td>\n      <td>3.0</td>\n    </tr>\n    <tr>\n      <th>Drakes</th>\n      <td>31</td>\n      <td>31.0</td>\n      <td>NaN</td>\n    </tr>\n    <tr>\n      <th>Pendleton</th>\n      <td>29</td>\n      <td>21.0</td>\n      <td>8.0</td>\n    </tr>\n    <tr>\n      <th>Costco</th>\n      <td>29</td>\n      <td>19.0</td>\n      <td>10.0</td>\n    </tr>\n    <tr>\n      <th>Supreme</th>\n      <td>29</td>\n      <td>27.0</td>\n      <td>2.0</td>\n    </tr>\n    <tr>\n      <th>Outlier</th>\n      <td>28</td>\n      <td>27.0</td>\n      <td>1.0</td>\n    </tr>\n    <tr>\n      <th>GrantStone</th>\n      <td>28</td>\n      <td>28.0</td>\n      <td>NaN</td>\n    </tr>\n    <tr>\n      <th>Epaulet</th>\n      <td>28</td>\n      <td>28.0</td>\n      <td>NaN</td>\n    </tr>\n    <tr>\n      <th>LandsEnd</th>\n      <td>28</td>\n      <td>26.0</td>\n      <td>2.0</td>\n    </tr>\n    <tr>\n      <th>Asket</th>\n      <td>28</td>\n      <td>25.0</td>\n      <td>3.0</td>\n    </tr>\n    <tr>\n      <th>NakedandFamous</th>\n      <td>25</td>\n      <td>23.0</td>\n      <td>2.0</td>\n    </tr>\n    <tr>\n      <th>Champion</th>\n      <td>25</td>\n      <td>24.0</td>\n      <td>1.0</td>\n    </tr>\n    <tr>\n      <th>ReigningChamp</th>\n      <td>24</td>\n      <td>24.0</td>\n      <td>NaN</td>\n    </tr>\n    <tr>\n      <th>SteveMadden</th>\n      <td>24</td>\n      <td>3.0</td>\n      <td>21.0</td>\n    </tr>\n    <tr>\n      <th>Frye</th>\n      <td>24</td>\n      <td>6.0</td>\n      <td>18.0</td>\n    </tr>\n    <tr>\n      <th>ONI</th>\n      <td>23</td>\n      <td>22.0</td>\n      <td>1.0</td>\n    </tr>\n    <tr>\n      <th>ClubMonaco</th>\n      <td>23</td>\n      <td>20.0</td>\n      <td>3.0</td>\n    </tr>\n    <tr>\n      <th>Primark</th>\n      <td>21</td>\n      <td>3.0</td>\n      <td>18.0</td>\n    </tr>\n    <tr>\n      <th>NorthFace</th>\n      <td>21</td>\n      <td>19.0</td>\n      <td>2.0</td>\n    </tr>\n    <tr>\n      <th>Apple</th>\n      <td>19</td>\n      <td>12.0</td>\n      <td>7.0</td>\n    </tr>\n    <tr>\n      <th>AnnTaylor</th>\n      <td>17</td>\n      <td>NaN</td>\n      <td>17.0</td>\n    </tr>\n    <tr>\n      <th>EileenFisher</th>\n      <td>16</td>\n      <td>NaN</td>\n      <td>16.0</td>\n    </tr>\n    <tr>\n      <th>Dockers</th>\n      <td>15</td>\n      <td>13.0</td>\n      <td>2.0</td>\n    </tr>\n    <tr>\n      <th>Yeezy</th>\n      <td>14</td>\n      <td>10.0</td>\n      <td>4.0</td>\n    </tr>\n    <tr>\n      <th>ScotchandSoda</th>\n      <td>14</td>\n      <td>7.0</td>\n      <td>7.0</td>\n    </tr>\n    <tr>\n      <th>Stradivarius</th>\n      <td>14</td>\n      <td>NaN</td>\n      <td>14.0</td>\n    </tr>\n    <tr>\n      <th>Modcloth</th>\n      <td>13</td>\n      <td>NaN</td>\n      <td>13.0</td>\n    </tr>\n    <tr>\n      <th>TomFord</th>\n      <td>13</td>\n      <td>13.0</td>\n      <td>NaN</td>\n    </tr>\n    <tr>\n      <th>Prada</th>\n      <td>13</td>\n      <td>12.0</td>\n      <td>1.0</td>\n    </tr>\n    <tr>\n      <th>TommyHilfiger</th>\n      <td>13</td>\n      <td>11.0</td>\n      <td>2.0</td>\n    </tr>\n    <tr>\n      <th>PullsandBears</th>\n      <td>12</td>\n      <td>4.0</td>\n      <td>8.0</td>\n    </tr>\n    <tr>\n      <th>AmericanApparel</th>\n      <td>12</td>\n      <td>2.0</td>\n      <td>10.0</td>\n    </tr>\n    <tr>\n      <th>EddieBauer</th>\n      <td>10</td>\n      <td>6.0</td>\n      <td>4.0</td>\n    </tr>\n    <tr>\n      <th>Hollister</th>\n      <td>9</td>\n      <td>1.0</td>\n      <td>8.0</td>\n    </tr>\n    <tr>\n      <th>MarcJacobs</th>\n      <td>8</td>\n      <td>2.0</td>\n      <td>6.0</td>\n    </tr>\n    <tr>\n      <th>Uggs</th>\n      <td>8</td>\n      <td>6.0</td>\n      <td>2.0</td>\n    </tr>\n    <tr>\n      <th>Armani</th>\n      <td>7</td>\n      <td>7.0</td>\n      <td>NaN</td>\n    </tr>\n    <tr>\n      <th>Arcteryx</th>\n      <td>7</td>\n      <td>7.0</td>\n      <td>NaN</td>\n    </tr>\n    <tr>\n      <th>Lacoste</th>\n      <td>7</td>\n      <td>5.0</td>\n      <td>2.0</td>\n    </tr>\n    <tr>\n      <th>MichaelKors</th>\n      <td>6</td>\n      <td>3.0</td>\n      <td>3.0</td>\n    </tr>\n    <tr>\n      <th>KateSpade</th>\n      <td>6</td>\n      <td>NaN</td>\n      <td>6.0</td>\n    </tr>\n    <tr>\n      <th>DarnTough</th>\n      <td>6</td>\n      <td>5.0</td>\n      <td>1.0</td>\n    </tr>\n    <tr>\n      <th>JCPenney</th>\n      <td>6</td>\n      <td>2.0</td>\n      <td>4.0</td>\n    </tr>\n    <tr>\n      <th>Gildan</th>\n      <td>6</td>\n      <td>6.0</td>\n      <td>NaN</td>\n    </tr>\n    <tr>\n      <th>Balenciaga</th>\n      <td>5</td>\n      <td>1.0</td>\n      <td>4.0</td>\n    </tr>\n    <tr>\n      <th>NextLevel</th>\n      <td>3</td>\n      <td>3.0</td>\n      <td>NaN</td>\n    </tr>\n    <tr>\n      <th>Juicy</th>\n      <td>3</td>\n      <td>2.0</td>\n      <td>1.0</td>\n    </tr>\n    <tr>\n      <th>Marmot</th>\n      <td>3</td>\n      <td>2.0</td>\n      <td>1.0</td>\n    </tr>\n    <tr>\n      <th>KennethCole</th>\n      <td>3</td>\n      <td>NaN</td>\n      <td>3.0</td>\n    </tr>\n    <tr>\n      <th>VictoriaSecret</th>\n      <td>2</td>\n      <td>NaN</td>\n      <td>2.0</td>\n    </tr>\n    <tr>\n      <th>BergsandBergs</th>\n      <td>2</td>\n      <td>2.0</td>\n      <td>NaN</td>\n    </tr>\n    <tr>\n      <th>ChuckTaylors</th>\n      <td>2</td>\n      <td>2.0</td>\n      <td>NaN</td>\n    </tr>\n    <tr>\n      <th>CanadaGoose</th>\n      <td>1</td>\n      <td>1.0</td>\n      <td>NaN</td>\n    </tr>\n  </tbody>\n</table>\n</div>"
     },
     "metadata": {},
     "execution_count": 20
    }
   ],
   "source": [
    "counts_df.columns = ['Total','r/malefashionadvice','r/femalefashionadvice']\n",
    "counts_df"
   ]
  },
  {
   "cell_type": "code",
   "execution_count": null,
   "metadata": {},
   "outputs": [],
   "source": []
  }
 ]
}