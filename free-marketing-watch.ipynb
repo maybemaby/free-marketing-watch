{
 "metadata": {
  "language_info": {
   "codemirror_mode": {
    "name": "ipython",
    "version": 3
   },
   "file_extension": ".py",
   "mimetype": "text/x-python",
   "name": "python",
   "nbconvert_exporter": "python",
   "pygments_lexer": "ipython3",
   "version": "3.9.0-final"
  },
  "orig_nbformat": 2,
  "kernelspec": {
   "name": "python3",
   "display_name": "Python 3.9.0 64-bit",
   "metadata": {
    "interpreter": {
     "hash": "953b979ecb4103b2c8c020f40a63251d1e5de17f2650210ecad39a0fab476cbf"
    }
   }
  }
 },
 "nbformat": 4,
 "nbformat_minor": 2,
 "cells": [
  {
   "source": [
    "### free-marketing-watch\n",
    "Search social media for mentions of brands and collect the comments/tweets/etc.\n",
    "Count mentions of each and perform sentiment analysis on the strings.\n",
    "- [x] Start with r/malefashionadvice and fashion brands dataframe.\n",
    "- [ ] Add matches of brands in brand column."
   ],
   "cell_type": "markdown",
   "metadata": {}
  },
  {
   "cell_type": "code",
   "execution_count": 1,
   "metadata": {},
   "outputs": [],
   "source": [
    "import praw\n",
    "import pandas as pd\n",
    "from secrets import *\n",
    "from pathlib import Path\n",
    "from brands import fashion"
   ]
  },
  {
   "cell_type": "code",
   "execution_count": 2,
   "metadata": {},
   "outputs": [],
   "source": [
    "reddit = praw.Reddit(client_id=client_id,\n",
    "               client_secret=client_secret,\n",
    "               user_agent=user_agent)"
   ]
  },
  {
   "source": [
    "Now to get the comments data, put it in a dataframe, and clean the data to get what we want."
   ],
   "cell_type": "markdown",
   "metadata": {}
  },
  {
   "cell_type": "code",
   "execution_count": 3,
   "metadata": {},
   "outputs": [],
   "source": [
    "def create_comments_df(subreddit_):\n",
    "    \"\"\"Returns a pandas df with the information about comments from this year.\n",
    "\n",
    "    Inputs\n",
    "    -----\n",
    "    str: subreddit to be searched.\n",
    "    Return\n",
    "    ------\n",
    "    Pandas dataframe with all the data from the praw object.m\n",
    "    \"\"\"\n",
    "    subreddit = reddit.subreddit(\"malefashionadvice\")\n",
    "    submission_list = subreddit.top(\n",
    "        time_filter=\"year\", limit=1000\n",
    "    )  # generator of submissions in the subreddit\n",
    "    comment_list = []\n",
    "    for submission in submission_list:\n",
    "        submission.comments.replace_more(limit=0)\n",
    "        for comment in submission.comments.list():\n",
    "            comment_list.append(comment)\n",
    "\n",
    "    df = pd.DataFrame([vars(comment) for comment in comment_list])\n",
    "    df2 = df.loc[:,['link_id','id','score','body']]\n",
    "    df2['Subreddit'] = subreddit\n",
    "    return df2\n"
   ]
  },
  {
   "cell_type": "code",
   "execution_count": 4,
   "metadata": {},
   "outputs": [],
   "source": [
    "def brand_check(df,brandlist):\n",
    "    \"\"\"Checks comment body against a list of brands to see if it mentions any.\n",
    "       Adds what brand was found if any in the brands column.\n",
    "       \n",
    "       Inputs\n",
    "       ------\n",
    "       Dataframe you will search over and a list of brands in a separate file. \n",
    "       Return\n",
    "       ------\n",
    "       Dataframe with column indicating what brand was found in the values.\n",
    "       \"\"\"\n",
    "    for brand in brandlist:\n",
    "        df['Brand'] = df.body.str.extract(pat=brandlist, expand=False)\n",
    "    return df"
   ]
  },
  {
   "source": [
    "### This takes a long time, probably around 30 minutes per 100,000 comments."
   ],
   "cell_type": "markdown",
   "metadata": {}
  },
  {
   "cell_type": "code",
   "execution_count": 43,
   "metadata": {},
   "outputs": [
    {
     "output_type": "execute_result",
     "data": {
      "text/plain": [
       "         link_id       id  score  \\\n",
       "0      t3_ems9z1  fdqql3j   1160   \n",
       "1      t3_ems9z1  fdqnsu8    103   \n",
       "2      t3_ems9z1  fdqn7cd   1101   \n",
       "3      t3_ems9z1  fdr800k     68   \n",
       "4      t3_ems9z1  fdqmq0l    253   \n",
       "...          ...      ...    ...   \n",
       "93827  t3_hhtglp  fwdy6x2      1   \n",
       "93828  t3_hhtglp  fwd94u0      0   \n",
       "93829  t3_hhtglp  fwdt931      2   \n",
       "93830  t3_hhtglp  fwdu6v8      1   \n",
       "93831  t3_hhtglp  fwek3sm      1   \n",
       "\n",
       "                                                    body          Subreddit  \n",
       "0      the warm weather \"jacket\" that's two separate ...  malefashionadvice  \n",
       "1                             Guess I need more knitwear  malefashionadvice  \n",
       "2      I don’t get people complaining that this is bo...  malefashionadvice  \n",
       "3      A fan of the freedom I see.. given the detail,...  malefashionadvice  \n",
       "4      My Version of the \"Basic Bastard\" Wardrobe but...  malefashionadvice  \n",
       "...                                                  ...                ...  \n",
       "93827  \"I love you enough to bite you playfully.\" Oh,...  malefashionadvice  \n",
       "93828                    Very cool I do all this already  malefashionadvice  \n",
       "93829                           Vogue Runaway wasn't it?  malefashionadvice  \n",
       "93830  Must be an apple exclusive, I'm not finding it...  malefashionadvice  \n",
       "93831  https://www.youtube.com/user/FatalefashionIII ...  malefashionadvice  \n",
       "\n",
       "[93832 rows x 5 columns]"
      ],
      "text/html": "<div>\n<style scoped>\n    .dataframe tbody tr th:only-of-type {\n        vertical-align: middle;\n    }\n\n    .dataframe tbody tr th {\n        vertical-align: top;\n    }\n\n    .dataframe thead th {\n        text-align: right;\n    }\n</style>\n<table border=\"1\" class=\"dataframe\">\n  <thead>\n    <tr style=\"text-align: right;\">\n      <th></th>\n      <th>link_id</th>\n      <th>id</th>\n      <th>score</th>\n      <th>body</th>\n      <th>Subreddit</th>\n    </tr>\n  </thead>\n  <tbody>\n    <tr>\n      <th>0</th>\n      <td>t3_ems9z1</td>\n      <td>fdqql3j</td>\n      <td>1160</td>\n      <td>the warm weather \"jacket\" that's two separate ...</td>\n      <td>malefashionadvice</td>\n    </tr>\n    <tr>\n      <th>1</th>\n      <td>t3_ems9z1</td>\n      <td>fdqnsu8</td>\n      <td>103</td>\n      <td>Guess I need more knitwear</td>\n      <td>malefashionadvice</td>\n    </tr>\n    <tr>\n      <th>2</th>\n      <td>t3_ems9z1</td>\n      <td>fdqn7cd</td>\n      <td>1101</td>\n      <td>I don’t get people complaining that this is bo...</td>\n      <td>malefashionadvice</td>\n    </tr>\n    <tr>\n      <th>3</th>\n      <td>t3_ems9z1</td>\n      <td>fdr800k</td>\n      <td>68</td>\n      <td>A fan of the freedom I see.. given the detail,...</td>\n      <td>malefashionadvice</td>\n    </tr>\n    <tr>\n      <th>4</th>\n      <td>t3_ems9z1</td>\n      <td>fdqmq0l</td>\n      <td>253</td>\n      <td>My Version of the \"Basic Bastard\" Wardrobe but...</td>\n      <td>malefashionadvice</td>\n    </tr>\n    <tr>\n      <th>...</th>\n      <td>...</td>\n      <td>...</td>\n      <td>...</td>\n      <td>...</td>\n      <td>...</td>\n    </tr>\n    <tr>\n      <th>93827</th>\n      <td>t3_hhtglp</td>\n      <td>fwdy6x2</td>\n      <td>1</td>\n      <td>\"I love you enough to bite you playfully.\" Oh,...</td>\n      <td>malefashionadvice</td>\n    </tr>\n    <tr>\n      <th>93828</th>\n      <td>t3_hhtglp</td>\n      <td>fwd94u0</td>\n      <td>0</td>\n      <td>Very cool I do all this already</td>\n      <td>malefashionadvice</td>\n    </tr>\n    <tr>\n      <th>93829</th>\n      <td>t3_hhtglp</td>\n      <td>fwdt931</td>\n      <td>2</td>\n      <td>Vogue Runaway wasn't it?</td>\n      <td>malefashionadvice</td>\n    </tr>\n    <tr>\n      <th>93830</th>\n      <td>t3_hhtglp</td>\n      <td>fwdu6v8</td>\n      <td>1</td>\n      <td>Must be an apple exclusive, I'm not finding it...</td>\n      <td>malefashionadvice</td>\n    </tr>\n    <tr>\n      <th>93831</th>\n      <td>t3_hhtglp</td>\n      <td>fwek3sm</td>\n      <td>1</td>\n      <td>https://www.youtube.com/user/FatalefashionIII ...</td>\n      <td>malefashionadvice</td>\n    </tr>\n  </tbody>\n</table>\n<p>93832 rows × 5 columns</p>\n</div>"
     },
     "metadata": {},
     "execution_count": 43
    }
   ],
   "source": [
    "df = create_comments_df('malefashionadvice')\n",
    "df"
   ]
  },
  {
   "source": [
    "Run to export the df to csv. Careful about overwriting. Use the mode = 'a' line to add to an existing file.\n"
   ],
   "cell_type": "markdown",
   "metadata": {}
  },
  {
   "cell_type": "code",
   "execution_count": 45,
   "metadata": {},
   "outputs": [],
   "source": [
    "p = Path.cwd() / 'data' / 'commentdf.csv'\n",
    "df.to_csv(path_or_buf = p)\n",
    "#df.to_csv(path_or_buf = p, mode = 'a', header=False)"
   ]
  },
  {
   "cell_type": "code",
   "execution_count": 5,
   "metadata": {},
   "outputs": [],
   "source": [
    "p = Path.cwd() / 'data' / 'commentdf.csv'\n",
    "df = pd.read_csv(p)"
   ]
  },
  {
   "cell_type": "code",
   "execution_count": 6,
   "metadata": {},
   "outputs": [],
   "source": [
    "#df['body'] = df['body'].str.lower()\n",
    "df = df.drop(columns =['Unnamed: 0'])"
   ]
  },
  {
   "cell_type": "code",
   "execution_count": 7,
   "metadata": {},
   "outputs": [],
   "source": [
    "df2 = brand_check(df,fashion)"
   ]
  },
  {
   "cell_type": "code",
   "execution_count": 12,
   "metadata": {},
   "outputs": [
    {
     "output_type": "execute_result",
     "data": {
      "text/plain": [
       "Uniqlo             1134\n",
       "Patagonia           505\n",
       "H&M                 274\n",
       "Gap                 249\n",
       "Carhartt            244\n",
       "Everlane            206\n",
       "Brooks Brothers     197\n",
       "Target              190\n",
       "Zara                129\n",
       "JCrew               128\n",
       "Apple               109\n",
       "Levis                55\n",
       "Name: Brand, dtype: int64"
      ]
     },
     "metadata": {},
     "execution_count": 12
    }
   ],
   "source": [
    "df2['Brand'].value_counts()"
   ]
  },
  {
   "cell_type": "code",
   "execution_count": null,
   "metadata": {},
   "outputs": [],
   "source": []
  }
 ]
}