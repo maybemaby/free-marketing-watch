{
 "metadata": {
  "language_info": {
   "codemirror_mode": {
    "name": "ipython",
    "version": 3
   },
   "file_extension": ".py",
   "mimetype": "text/x-python",
   "name": "python",
   "nbconvert_exporter": "python",
   "pygments_lexer": "ipython3",
   "version": "3.9.0-final"
  },
  "orig_nbformat": 2,
  "kernelspec": {
   "name": "python3",
   "display_name": "Python 3.9.0 64-bit",
   "metadata": {
    "interpreter": {
     "hash": "953b979ecb4103b2c8c020f40a63251d1e5de17f2650210ecad39a0fab476cbf"
    }
   }
  }
 },
 "nbformat": 4,
 "nbformat_minor": 2,
 "cells": [
  {
   "source": [
    "## free-marketing-watch\n",
    "Search social media for mentions of brands and collect the comments/tweets/etc.\n",
    "Count mentions of each and perform sentiment analysis on the strings."
   ],
   "cell_type": "markdown",
   "metadata": {}
  },
  {
   "cell_type": "code",
   "execution_count": 1,
   "metadata": {},
   "outputs": [],
   "source": [
    "import praw\n",
    "import pandas as pd\n",
    "from secrets import *\n",
    "from pathlib import Path\n",
    "from brands import fashion\n",
    "import re"
   ]
  },
  {
   "cell_type": "code",
   "execution_count": 2,
   "metadata": {},
   "outputs": [],
   "source": [
    "reddit = praw.Reddit(client_id=client_id,\n",
    "               client_secret=client_secret,\n",
    "               user_agent=user_agent)"
   ]
  },
  {
   "source": [
    "Now to get the comments data, put it in a dataframe, and clean the data to get what we want."
   ],
   "cell_type": "markdown",
   "metadata": {}
  },
  {
   "cell_type": "code",
   "execution_count": 3,
   "metadata": {},
   "outputs": [],
   "source": [
    "def create_comments_df(subreddit_):\n",
    "    \"\"\"Returns a pandas df with the information about comments from this year.\n",
    "\n",
    "    Inputs\n",
    "    -----\n",
    "    str: subreddit to be searched.\n",
    "    Return\n",
    "    ------\n",
    "    Pandas dataframe with all the data from the praw object.m\n",
    "    \"\"\"\n",
    "    subreddit = reddit.subreddit(subreddit_)\n",
    "    submission_list = subreddit.top(\n",
    "        time_filter=\"year\", limit=1000\n",
    "    )  # generator of submissions in the subreddit\n",
    "    comment_list = []\n",
    "    for submission in submission_list:\n",
    "        submission.comments.replace_more(limit=0)\n",
    "        for comment in submission.comments.list():\n",
    "            comment_list.append(comment)\n",
    "\n",
    "    df = pd.DataFrame([vars(comment) for comment in comment_list])\n",
    "    df2 = df.loc[:,['link_id','id','score','body']]\n",
    "    df2['Subreddit'] = subreddit_\n",
    "    return df2\n"
   ]
  },
  {
   "cell_type": "code",
   "execution_count": 4,
   "metadata": {},
   "outputs": [],
   "source": [
    "def brand_check(df,brandlist):\n",
    "    \"\"\"Checks comment body against a list of brands to see if it mentions any.\n",
    "       Adds what brand was found if any in the brands column.\n",
    "       \n",
    "       Inputs\n",
    "       ------\n",
    "       Dataframe you will search over and a list of brands in a separate file. \n",
    "       Return\n",
    "       ------\n",
    "       Dataframe with column indicating what brand was found in the values.\n",
    "       \"\"\"\n",
    "\n",
    "    df2 = df.body.str.extractall(pat=brandlist)\n",
    "    df2.dropna(axis=0,how='all',inplace=True)\n",
    "    return df2"
   ]
  },
  {
   "source": [
    "### This takes a long time, probably around 30 minutes per 100,000 comments."
   ],
   "cell_type": "markdown",
   "metadata": {}
  },
  {
   "cell_type": "code",
   "execution_count": 5,
   "metadata": {},
   "outputs": [
    {
     "output_type": "execute_result",
     "data": {
      "text/plain": [
       "          link_id       id  score  \\\n",
       "0       t3_ggpm9u  fq4m7up      1   \n",
       "1       t3_ggpm9u  fq3ejsm   4019   \n",
       "2       t3_ggpm9u  fq3f8cq   1333   \n",
       "3       t3_ggpm9u  fq43dqk    356   \n",
       "4       t3_ggpm9u  fq3llwt    627   \n",
       "...           ...      ...    ...   \n",
       "147337  t3_g04l8d  fn9viaz      2   \n",
       "147338  t3_g04l8d  fnfssbp      1   \n",
       "147339  t3_g04l8d  fnat7hw      1   \n",
       "147340  t3_g04l8d  fna39ga      2   \n",
       "147341  t3_g04l8d  fnftlrj      1   \n",
       "\n",
       "                                                     body            Subreddit  \n",
       "0       We've received enough reports that this belong...  femalefashionadvice  \n",
       "1       I'm sure I'll be downvoted for this but... whi...  femalefashionadvice  \n",
       "2       I agree; there needs to be more flexibility in...  femalefashionadvice  \n",
       "3       I completely agree. I waited 8 hours for a pos...  femalefashionadvice  \n",
       "4       Yeah, I think the sub is too strict on moderat...  femalefashionadvice  \n",
       "...                                                   ...                  ...  \n",
       "147337  If SoWa gets to happen this year, sometimes th...  femalefashionadvice  \n",
       "147338      this gives me hope!! what style did you get??  femalefashionadvice  \n",
       "147339  They have a few.  Do you these could be daily ...  femalefashionadvice  \n",
       "147340                 Great to note, thanks for the tip!  femalefashionadvice  \n",
       "147341  Longline triangle bikini top & highcut, highwa...  femalefashionadvice  \n",
       "\n",
       "[147342 rows x 5 columns]"
      ],
      "text/html": "<div>\n<style scoped>\n    .dataframe tbody tr th:only-of-type {\n        vertical-align: middle;\n    }\n\n    .dataframe tbody tr th {\n        vertical-align: top;\n    }\n\n    .dataframe thead th {\n        text-align: right;\n    }\n</style>\n<table border=\"1\" class=\"dataframe\">\n  <thead>\n    <tr style=\"text-align: right;\">\n      <th></th>\n      <th>link_id</th>\n      <th>id</th>\n      <th>score</th>\n      <th>body</th>\n      <th>Subreddit</th>\n    </tr>\n  </thead>\n  <tbody>\n    <tr>\n      <th>0</th>\n      <td>t3_ggpm9u</td>\n      <td>fq4m7up</td>\n      <td>1</td>\n      <td>We've received enough reports that this belong...</td>\n      <td>femalefashionadvice</td>\n    </tr>\n    <tr>\n      <th>1</th>\n      <td>t3_ggpm9u</td>\n      <td>fq3ejsm</td>\n      <td>4019</td>\n      <td>I'm sure I'll be downvoted for this but... whi...</td>\n      <td>femalefashionadvice</td>\n    </tr>\n    <tr>\n      <th>2</th>\n      <td>t3_ggpm9u</td>\n      <td>fq3f8cq</td>\n      <td>1333</td>\n      <td>I agree; there needs to be more flexibility in...</td>\n      <td>femalefashionadvice</td>\n    </tr>\n    <tr>\n      <th>3</th>\n      <td>t3_ggpm9u</td>\n      <td>fq43dqk</td>\n      <td>356</td>\n      <td>I completely agree. I waited 8 hours for a pos...</td>\n      <td>femalefashionadvice</td>\n    </tr>\n    <tr>\n      <th>4</th>\n      <td>t3_ggpm9u</td>\n      <td>fq3llwt</td>\n      <td>627</td>\n      <td>Yeah, I think the sub is too strict on moderat...</td>\n      <td>femalefashionadvice</td>\n    </tr>\n    <tr>\n      <th>...</th>\n      <td>...</td>\n      <td>...</td>\n      <td>...</td>\n      <td>...</td>\n      <td>...</td>\n    </tr>\n    <tr>\n      <th>147337</th>\n      <td>t3_g04l8d</td>\n      <td>fn9viaz</td>\n      <td>2</td>\n      <td>If SoWa gets to happen this year, sometimes th...</td>\n      <td>femalefashionadvice</td>\n    </tr>\n    <tr>\n      <th>147338</th>\n      <td>t3_g04l8d</td>\n      <td>fnfssbp</td>\n      <td>1</td>\n      <td>this gives me hope!! what style did you get??</td>\n      <td>femalefashionadvice</td>\n    </tr>\n    <tr>\n      <th>147339</th>\n      <td>t3_g04l8d</td>\n      <td>fnat7hw</td>\n      <td>1</td>\n      <td>They have a few.  Do you these could be daily ...</td>\n      <td>femalefashionadvice</td>\n    </tr>\n    <tr>\n      <th>147340</th>\n      <td>t3_g04l8d</td>\n      <td>fna39ga</td>\n      <td>2</td>\n      <td>Great to note, thanks for the tip!</td>\n      <td>femalefashionadvice</td>\n    </tr>\n    <tr>\n      <th>147341</th>\n      <td>t3_g04l8d</td>\n      <td>fnftlrj</td>\n      <td>1</td>\n      <td>Longline triangle bikini top &amp; highcut, highwa...</td>\n      <td>femalefashionadvice</td>\n    </tr>\n  </tbody>\n</table>\n<p>147342 rows × 5 columns</p>\n</div>"
     },
     "metadata": {},
     "execution_count": 5
    }
   ],
   "source": [
    "df = create_comments_df('femalefashionadvice')\n",
    "df"
   ]
  },
  {
   "source": [
    "Run to export the df to csv. Careful about overwriting. Use the mode = 'a' line to add to an existing file.\n"
   ],
   "cell_type": "markdown",
   "metadata": {}
  },
  {
   "cell_type": "code",
   "execution_count": 6,
   "metadata": {},
   "outputs": [],
   "source": [
    "p = Path.cwd() / 'data' / 'commentdf.csv'\n",
    "#df.to_csv(path_or_buf = p)\n",
    "df.to_csv(path_or_buf = p, mode = 'a', header=False)"
   ]
  },
  {
   "cell_type": "code",
   "execution_count": 5,
   "metadata": {},
   "outputs": [],
   "source": [
    "p = Path.cwd() / 'data' / 'commentdf.csv'\n",
    "df = pd.read_csv(p)"
   ]
  },
  {
   "cell_type": "code",
   "execution_count": 6,
   "metadata": {},
   "outputs": [],
   "source": [
    "#df['body'] = df['body'].str.lower()\n",
    "df = df.drop(columns =['Unnamed: 0'])"
   ]
  },
  {
   "cell_type": "code",
   "execution_count": 10,
   "metadata": {},
   "outputs": [],
   "source": [
    "df2 = brand_check(df,fashion)"
   ]
  },
  {
   "cell_type": "code",
   "execution_count": 23,
   "metadata": {},
   "outputs": [
    {
     "output_type": "execute_result",
     "data": {
      "text/plain": [
       "              0    1    2    3    4    5    6    7    8       9     10   11  \\\n",
       "      match                                                                   \n",
       "4     4383   NaN  NaN  NaN  NaN  NaN  NaN  NaN  NaN  NaN     NaN   NaN  NaN   \n",
       "      4462   NaN  NaN  NaN  NaN  NaN  NaN  NaN  NaN  NaN  J Crew   NaN  NaN   \n",
       "29    40     NaN  NaN  NaN  NaN  NaN  NaN  NaN  NaN  NaN  J.Crew   NaN  NaN   \n",
       "43    0      NaN  Gap  NaN  NaN  NaN  NaN  NaN  NaN  NaN     NaN   NaN  NaN   \n",
       "164   39     NaN  NaN  H&M  NaN  NaN  NaN  NaN  NaN  NaN     NaN   NaN  NaN   \n",
       "...          ...  ...  ...  ...  ...  ...  ...  ...  ...     ...   ...  ...   \n",
       "93785 230    NaN  NaN  NaN  NaN  NaN  NaN  NaN  NaN  NaN     NaN  Zara  NaN   \n",
       "      355    NaN  NaN  NaN  NaN  NaN  NaN  NaN  NaN  NaN     NaN  Zara  NaN   \n",
       "93789 385    NaN  NaN  NaN  NaN  NaN  NaN  NaN  NaN  NaN     NaN  Zara  NaN   \n",
       "93793 225    NaN  NaN  NaN  NaN  NaN  NaN  NaN  NaN  NaN     NaN  Zara  NaN   \n",
       "93797 98     NaN  NaN  NaN  NaN  NaN  NaN  NaN  NaN  NaN     NaN  Zara  NaN   \n",
       "\n",
       "               12  \n",
       "      match        \n",
       "4     4383   Vans  \n",
       "      4462    NaN  \n",
       "29    40      NaN  \n",
       "43    0       NaN  \n",
       "164   39      NaN  \n",
       "...           ...  \n",
       "93785 230     NaN  \n",
       "      355     NaN  \n",
       "93789 385     NaN  \n",
       "93793 225     NaN  \n",
       "93797 98      NaN  \n",
       "\n",
       "[6248 rows x 13 columns]"
      ],
      "text/html": "<div>\n<style scoped>\n    .dataframe tbody tr th:only-of-type {\n        vertical-align: middle;\n    }\n\n    .dataframe tbody tr th {\n        vertical-align: top;\n    }\n\n    .dataframe thead th {\n        text-align: right;\n    }\n</style>\n<table border=\"1\" class=\"dataframe\">\n  <thead>\n    <tr style=\"text-align: right;\">\n      <th></th>\n      <th></th>\n      <th>0</th>\n      <th>1</th>\n      <th>2</th>\n      <th>3</th>\n      <th>4</th>\n      <th>5</th>\n      <th>6</th>\n      <th>7</th>\n      <th>8</th>\n      <th>9</th>\n      <th>10</th>\n      <th>11</th>\n      <th>12</th>\n    </tr>\n    <tr>\n      <th></th>\n      <th>match</th>\n      <th></th>\n      <th></th>\n      <th></th>\n      <th></th>\n      <th></th>\n      <th></th>\n      <th></th>\n      <th></th>\n      <th></th>\n      <th></th>\n      <th></th>\n      <th></th>\n      <th></th>\n    </tr>\n  </thead>\n  <tbody>\n    <tr>\n      <th rowspan=\"2\" valign=\"top\">4</th>\n      <th>4383</th>\n      <td>NaN</td>\n      <td>NaN</td>\n      <td>NaN</td>\n      <td>NaN</td>\n      <td>NaN</td>\n      <td>NaN</td>\n      <td>NaN</td>\n      <td>NaN</td>\n      <td>NaN</td>\n      <td>NaN</td>\n      <td>NaN</td>\n      <td>NaN</td>\n      <td>Vans</td>\n    </tr>\n    <tr>\n      <th>4462</th>\n      <td>NaN</td>\n      <td>NaN</td>\n      <td>NaN</td>\n      <td>NaN</td>\n      <td>NaN</td>\n      <td>NaN</td>\n      <td>NaN</td>\n      <td>NaN</td>\n      <td>NaN</td>\n      <td>J Crew</td>\n      <td>NaN</td>\n      <td>NaN</td>\n      <td>NaN</td>\n    </tr>\n    <tr>\n      <th>29</th>\n      <th>40</th>\n      <td>NaN</td>\n      <td>NaN</td>\n      <td>NaN</td>\n      <td>NaN</td>\n      <td>NaN</td>\n      <td>NaN</td>\n      <td>NaN</td>\n      <td>NaN</td>\n      <td>NaN</td>\n      <td>J.Crew</td>\n      <td>NaN</td>\n      <td>NaN</td>\n      <td>NaN</td>\n    </tr>\n    <tr>\n      <th>43</th>\n      <th>0</th>\n      <td>NaN</td>\n      <td>Gap</td>\n      <td>NaN</td>\n      <td>NaN</td>\n      <td>NaN</td>\n      <td>NaN</td>\n      <td>NaN</td>\n      <td>NaN</td>\n      <td>NaN</td>\n      <td>NaN</td>\n      <td>NaN</td>\n      <td>NaN</td>\n      <td>NaN</td>\n    </tr>\n    <tr>\n      <th>164</th>\n      <th>39</th>\n      <td>NaN</td>\n      <td>NaN</td>\n      <td>H&amp;M</td>\n      <td>NaN</td>\n      <td>NaN</td>\n      <td>NaN</td>\n      <td>NaN</td>\n      <td>NaN</td>\n      <td>NaN</td>\n      <td>NaN</td>\n      <td>NaN</td>\n      <td>NaN</td>\n      <td>NaN</td>\n    </tr>\n    <tr>\n      <th>...</th>\n      <th>...</th>\n      <td>...</td>\n      <td>...</td>\n      <td>...</td>\n      <td>...</td>\n      <td>...</td>\n      <td>...</td>\n      <td>...</td>\n      <td>...</td>\n      <td>...</td>\n      <td>...</td>\n      <td>...</td>\n      <td>...</td>\n      <td>...</td>\n    </tr>\n    <tr>\n      <th rowspan=\"2\" valign=\"top\">93785</th>\n      <th>230</th>\n      <td>NaN</td>\n      <td>NaN</td>\n      <td>NaN</td>\n      <td>NaN</td>\n      <td>NaN</td>\n      <td>NaN</td>\n      <td>NaN</td>\n      <td>NaN</td>\n      <td>NaN</td>\n      <td>NaN</td>\n      <td>Zara</td>\n      <td>NaN</td>\n      <td>NaN</td>\n    </tr>\n    <tr>\n      <th>355</th>\n      <td>NaN</td>\n      <td>NaN</td>\n      <td>NaN</td>\n      <td>NaN</td>\n      <td>NaN</td>\n      <td>NaN</td>\n      <td>NaN</td>\n      <td>NaN</td>\n      <td>NaN</td>\n      <td>NaN</td>\n      <td>Zara</td>\n      <td>NaN</td>\n      <td>NaN</td>\n    </tr>\n    <tr>\n      <th>93789</th>\n      <th>385</th>\n      <td>NaN</td>\n      <td>NaN</td>\n      <td>NaN</td>\n      <td>NaN</td>\n      <td>NaN</td>\n      <td>NaN</td>\n      <td>NaN</td>\n      <td>NaN</td>\n      <td>NaN</td>\n      <td>NaN</td>\n      <td>Zara</td>\n      <td>NaN</td>\n      <td>NaN</td>\n    </tr>\n    <tr>\n      <th>93793</th>\n      <th>225</th>\n      <td>NaN</td>\n      <td>NaN</td>\n      <td>NaN</td>\n      <td>NaN</td>\n      <td>NaN</td>\n      <td>NaN</td>\n      <td>NaN</td>\n      <td>NaN</td>\n      <td>NaN</td>\n      <td>NaN</td>\n      <td>Zara</td>\n      <td>NaN</td>\n      <td>NaN</td>\n    </tr>\n    <tr>\n      <th>93797</th>\n      <th>98</th>\n      <td>NaN</td>\n      <td>NaN</td>\n      <td>NaN</td>\n      <td>NaN</td>\n      <td>NaN</td>\n      <td>NaN</td>\n      <td>NaN</td>\n      <td>NaN</td>\n      <td>NaN</td>\n      <td>NaN</td>\n      <td>Zara</td>\n      <td>NaN</td>\n      <td>NaN</td>\n    </tr>\n  </tbody>\n</table>\n<p>6248 rows × 13 columns</p>\n</div>"
     },
     "metadata": {},
     "execution_count": 23
    }
   ],
   "source": [
    "pd.set_option(\"display.max_rows\",50, \"display.max_columns\", None)\n",
    "df2"
   ]
  },
  {
   "cell_type": "code",
   "execution_count": 29,
   "metadata": {},
   "outputs": [
    {
     "output_type": "execute_result",
     "data": {
      "text/plain": [
       "Apple    124\n",
       "Name: 6, dtype: int64"
      ]
     },
     "metadata": {},
     "execution_count": 29
    }
   ],
   "source": [
    "df2[6].value_counts()"
   ]
  },
  {
   "cell_type": "code",
   "execution_count": null,
   "metadata": {},
   "outputs": [],
   "source": []
  }
 ]
}